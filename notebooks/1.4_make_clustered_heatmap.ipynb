{
 "cells": [
  {
   "cell_type": "markdown",
   "metadata": {},
   "source": [
    "# How to make a clustered heatmap\n",
    "\n",
    "Now we'll break down how to read the clustered heatmap we made in [1.3_explore_gene_dropout_via_distance_correlation_linkage_clustering](1.3_explore_gene_dropout_via_distance_correlation_linkage_clustering.ipynb)"
   ]
  },
  {
   "cell_type": "code",
   "execution_count": 38,
   "metadata": {
    "collapsed": true
   },
   "outputs": [],
   "source": [
    "# Import the pandas dataframe library\n",
    "import pandas as pd\n",
    "\n",
    "# Import the seaborn library for plotting\n",
    "import seaborn as sns\n",
    "\n",
    "# Put all the plots directly into the notebook\n",
    "%matplotlib inline"
   ]
  },
  {
   "cell_type": "markdown",
   "metadata": {},
   "source": [
    "Read Expression data using pandas. Notice that pandas can read URLs (!), not just files on your computer!"
   ]
  },
  {
   "cell_type": "code",
   "execution_count": 2,
   "metadata": {},
   "outputs": [
    {
     "name": "stdout",
     "output_type": "stream",
     "text": [
      "(300, 259)\n"
     ]
    },
    {
     "data": {
      "text/html": [
       "<div>\n",
       "<style>\n",
       "    .dataframe thead tr:only-child th {\n",
       "        text-align: right;\n",
       "    }\n",
       "\n",
       "    .dataframe thead th {\n",
       "        text-align: left;\n",
       "    }\n",
       "\n",
       "    .dataframe tbody tr th {\n",
       "        vertical-align: top;\n",
       "    }\n",
       "</style>\n",
       "<table border=\"1\" class=\"dataframe\">\n",
       "  <thead>\n",
       "    <tr style=\"text-align: right;\">\n",
       "      <th></th>\n",
       "      <th>2010107E04RIK</th>\n",
       "      <th>4930447C04RIK</th>\n",
       "      <th>A930011O12RIK</th>\n",
       "      <th>ABCA8A</th>\n",
       "      <th>ABLIM1</th>\n",
       "      <th>ACSL3</th>\n",
       "      <th>AIPL1</th>\n",
       "      <th>ALDOC</th>\n",
       "      <th>ANK3</th>\n",
       "      <th>APLP2</th>\n",
       "      <th>...</th>\n",
       "      <th>VEGFA</th>\n",
       "      <th>VIM</th>\n",
       "      <th>VSTM2B</th>\n",
       "      <th>VSX1</th>\n",
       "      <th>VSX2</th>\n",
       "      <th>WIPI1</th>\n",
       "      <th>YWHAB</th>\n",
       "      <th>ZBTB20</th>\n",
       "      <th>ZFP365</th>\n",
       "      <th>ZFP36L1</th>\n",
       "    </tr>\n",
       "  </thead>\n",
       "  <tbody>\n",
       "    <tr>\n",
       "      <th>r1_TTCCTGCTAGGC</th>\n",
       "      <td>2</td>\n",
       "      <td>0</td>\n",
       "      <td>0</td>\n",
       "      <td>0</td>\n",
       "      <td>1</td>\n",
       "      <td>0</td>\n",
       "      <td>1</td>\n",
       "      <td>0</td>\n",
       "      <td>0</td>\n",
       "      <td>0</td>\n",
       "      <td>...</td>\n",
       "      <td>0</td>\n",
       "      <td>0</td>\n",
       "      <td>0</td>\n",
       "      <td>0</td>\n",
       "      <td>0</td>\n",
       "      <td>0</td>\n",
       "      <td>0</td>\n",
       "      <td>0</td>\n",
       "      <td>0</td>\n",
       "      <td>0</td>\n",
       "    </tr>\n",
       "    <tr>\n",
       "      <th>r1_TGGAGATACTCT</th>\n",
       "      <td>0</td>\n",
       "      <td>0</td>\n",
       "      <td>1</td>\n",
       "      <td>0</td>\n",
       "      <td>0</td>\n",
       "      <td>0</td>\n",
       "      <td>0</td>\n",
       "      <td>0</td>\n",
       "      <td>0</td>\n",
       "      <td>0</td>\n",
       "      <td>...</td>\n",
       "      <td>0</td>\n",
       "      <td>0</td>\n",
       "      <td>0</td>\n",
       "      <td>0</td>\n",
       "      <td>0</td>\n",
       "      <td>0</td>\n",
       "      <td>0</td>\n",
       "      <td>1</td>\n",
       "      <td>0</td>\n",
       "      <td>0</td>\n",
       "    </tr>\n",
       "    <tr>\n",
       "      <th>r1_CGTCTACATCCG</th>\n",
       "      <td>2</td>\n",
       "      <td>0</td>\n",
       "      <td>0</td>\n",
       "      <td>0</td>\n",
       "      <td>0</td>\n",
       "      <td>0</td>\n",
       "      <td>2</td>\n",
       "      <td>0</td>\n",
       "      <td>0</td>\n",
       "      <td>1</td>\n",
       "      <td>...</td>\n",
       "      <td>0</td>\n",
       "      <td>0</td>\n",
       "      <td>0</td>\n",
       "      <td>0</td>\n",
       "      <td>0</td>\n",
       "      <td>0</td>\n",
       "      <td>0</td>\n",
       "      <td>0</td>\n",
       "      <td>0</td>\n",
       "      <td>0</td>\n",
       "    </tr>\n",
       "    <tr>\n",
       "      <th>r1_CAAGCTTGGCGC</th>\n",
       "      <td>0</td>\n",
       "      <td>0</td>\n",
       "      <td>11</td>\n",
       "      <td>0</td>\n",
       "      <td>1</td>\n",
       "      <td>0</td>\n",
       "      <td>6</td>\n",
       "      <td>0</td>\n",
       "      <td>0</td>\n",
       "      <td>2</td>\n",
       "      <td>...</td>\n",
       "      <td>0</td>\n",
       "      <td>0</td>\n",
       "      <td>0</td>\n",
       "      <td>0</td>\n",
       "      <td>0</td>\n",
       "      <td>0</td>\n",
       "      <td>0</td>\n",
       "      <td>0</td>\n",
       "      <td>1</td>\n",
       "      <td>0</td>\n",
       "    </tr>\n",
       "    <tr>\n",
       "      <th>r1_ACTCACATAGAG</th>\n",
       "      <td>1</td>\n",
       "      <td>0</td>\n",
       "      <td>0</td>\n",
       "      <td>0</td>\n",
       "      <td>0</td>\n",
       "      <td>0</td>\n",
       "      <td>0</td>\n",
       "      <td>0</td>\n",
       "      <td>0</td>\n",
       "      <td>1</td>\n",
       "      <td>...</td>\n",
       "      <td>0</td>\n",
       "      <td>0</td>\n",
       "      <td>0</td>\n",
       "      <td>0</td>\n",
       "      <td>0</td>\n",
       "      <td>0</td>\n",
       "      <td>0</td>\n",
       "      <td>2</td>\n",
       "      <td>0</td>\n",
       "      <td>0</td>\n",
       "    </tr>\n",
       "  </tbody>\n",
       "</table>\n",
       "<p>5 rows × 259 columns</p>\n",
       "</div>"
      ],
      "text/plain": [
       "                 2010107E04RIK  4930447C04RIK  A930011O12RIK  ABCA8A  ABLIM1  \\\n",
       "r1_TTCCTGCTAGGC              2              0              0       0       1   \n",
       "r1_TGGAGATACTCT              0              0              1       0       0   \n",
       "r1_CGTCTACATCCG              2              0              0       0       0   \n",
       "r1_CAAGCTTGGCGC              0              0             11       0       1   \n",
       "r1_ACTCACATAGAG              1              0              0       0       0   \n",
       "\n",
       "                 ACSL3  AIPL1  ALDOC  ANK3  APLP2   ...     VEGFA  VIM  \\\n",
       "r1_TTCCTGCTAGGC      0      1      0     0      0   ...         0    0   \n",
       "r1_TGGAGATACTCT      0      0      0     0      0   ...         0    0   \n",
       "r1_CGTCTACATCCG      0      2      0     0      1   ...         0    0   \n",
       "r1_CAAGCTTGGCGC      0      6      0     0      2   ...         0    0   \n",
       "r1_ACTCACATAGAG      0      0      0     0      1   ...         0    0   \n",
       "\n",
       "                 VSTM2B  VSX1  VSX2  WIPI1  YWHAB  ZBTB20  ZFP365  ZFP36L1  \n",
       "r1_TTCCTGCTAGGC       0     0     0      0      0       0       0        0  \n",
       "r1_TGGAGATACTCT       0     0     0      0      0       1       0        0  \n",
       "r1_CGTCTACATCCG       0     0     0      0      0       0       0        0  \n",
       "r1_CAAGCTTGGCGC       0     0     0      0      0       0       1        0  \n",
       "r1_ACTCACATAGAG       0     0     0      0      0       2       0        0  \n",
       "\n",
       "[5 rows x 259 columns]"
      ]
     },
     "execution_count": 2,
     "metadata": {},
     "output_type": "execute_result"
    }
   ],
   "source": [
    "csv = \"https://media.githubusercontent.com/media/olgabot/macosko2015/\" \\\n",
    "         \"master/data/05_make_rentina_subsets_for_teaching/big_clusters_expression.csv\"\n",
    "expression = pd.read_csv(csv, index_col=0)\n",
    "print(expression.shape)\n",
    "expression.head()"
   ]
  },
  {
   "cell_type": "markdown",
   "metadata": {},
   "source": [
    "### Exercise 1\n",
    "\n",
    "Now use `pd.read_csv` to read the csv file of the cell metadata"
   ]
  },
  {
   "cell_type": "code",
   "execution_count": 3,
   "metadata": {
    "collapsed": true
   },
   "outputs": [],
   "source": [
    "csv = \"https://media.githubusercontent.com/media/olgabot/macosko2015/\" \\\n",
    "         \"master/data/05_make_rentina_subsets_for_teaching/big_clusters_cell_metadata.csv\"\n",
    "# YOUR CODE HERE"
   ]
  },
  {
   "cell_type": "markdown",
   "metadata": {},
   "source": [
    "![](figures/dont_scroll.svg)"
   ]
  },
  {
   "cell_type": "code",
   "execution_count": 4,
   "metadata": {},
   "outputs": [
    {
     "name": "stdout",
     "output_type": "stream",
     "text": [
      "(300, 4)\n"
     ]
    },
    {
     "data": {
      "text/html": [
       "<div>\n",
       "<style>\n",
       "    .dataframe thead tr:only-child th {\n",
       "        text-align: right;\n",
       "    }\n",
       "\n",
       "    .dataframe thead th {\n",
       "        text-align: left;\n",
       "    }\n",
       "\n",
       "    .dataframe tbody tr th {\n",
       "        vertical-align: top;\n",
       "    }\n",
       "</style>\n",
       "<table border=\"1\" class=\"dataframe\">\n",
       "  <thead>\n",
       "    <tr style=\"text-align: right;\">\n",
       "      <th></th>\n",
       "      <th>cluster_id</th>\n",
       "      <th>celltype</th>\n",
       "      <th>cluster_n</th>\n",
       "      <th>cluster_celltype_with_id</th>\n",
       "    </tr>\n",
       "  </thead>\n",
       "  <tbody>\n",
       "    <tr>\n",
       "      <th>r1_TTCCTGCTAGGC</th>\n",
       "      <td>cluster_24</td>\n",
       "      <td>Rods</td>\n",
       "      <td>24</td>\n",
       "      <td>Rods (cluster_24)</td>\n",
       "    </tr>\n",
       "    <tr>\n",
       "      <th>r1_TGGAGATACTCT</th>\n",
       "      <td>cluster_24</td>\n",
       "      <td>Rods</td>\n",
       "      <td>24</td>\n",
       "      <td>Rods (cluster_24)</td>\n",
       "    </tr>\n",
       "    <tr>\n",
       "      <th>r1_CGTCTACATCCG</th>\n",
       "      <td>cluster_24</td>\n",
       "      <td>Rods</td>\n",
       "      <td>24</td>\n",
       "      <td>Rods (cluster_24)</td>\n",
       "    </tr>\n",
       "    <tr>\n",
       "      <th>r1_CAAGCTTGGCGC</th>\n",
       "      <td>cluster_24</td>\n",
       "      <td>Rods</td>\n",
       "      <td>24</td>\n",
       "      <td>Rods (cluster_24)</td>\n",
       "    </tr>\n",
       "    <tr>\n",
       "      <th>r1_ACTCACATAGAG</th>\n",
       "      <td>cluster_24</td>\n",
       "      <td>Rods</td>\n",
       "      <td>24</td>\n",
       "      <td>Rods (cluster_24)</td>\n",
       "    </tr>\n",
       "  </tbody>\n",
       "</table>\n",
       "</div>"
      ],
      "text/plain": [
       "                 cluster_id celltype  cluster_n cluster_celltype_with_id\n",
       "r1_TTCCTGCTAGGC  cluster_24     Rods         24        Rods (cluster_24)\n",
       "r1_TGGAGATACTCT  cluster_24     Rods         24        Rods (cluster_24)\n",
       "r1_CGTCTACATCCG  cluster_24     Rods         24        Rods (cluster_24)\n",
       "r1_CAAGCTTGGCGC  cluster_24     Rods         24        Rods (cluster_24)\n",
       "r1_ACTCACATAGAG  cluster_24     Rods         24        Rods (cluster_24)"
      ]
     },
     "execution_count": 4,
     "metadata": {},
     "output_type": "execute_result"
    }
   ],
   "source": [
    "csv = \"https://media.githubusercontent.com/media/olgabot/macosko2015/\" \\\n",
    "         \"master/data/05_make_rentina_subsets_for_teaching/big_clusters_cell_metadata.csv\"\n",
    "cell_metadata = pd.read_csv(csv, index_col=0)\n",
    "print(cell_metadata.shape)\n",
    "cell_metadata.head()"
   ]
  },
  {
   "cell_type": "markdown",
   "metadata": {},
   "source": [
    "To correlate columns of dataframes in pandas, you use the function `.corr`. Let's look at the documentation of `.corr`\n",
    "\n",
    "1. Is the default method Pearson or Spearman correlation? \n",
    "2. Can you correlate between rows, or only between columns?"
   ]
  },
  {
   "cell_type": "code",
   "execution_count": 5,
   "metadata": {},
   "outputs": [
    {
     "name": "stdout",
     "output_type": "stream",
     "text": [
      "Object `expression_t.corr` not found.\n"
     ]
    }
   ],
   "source": [
    "expression_t.corr?"
   ]
  },
  {
   "cell_type": "markdown",
   "metadata": {},
   "source": [
    "![](figures/dont_scroll.svg)\n",
    "\n",
    "Since `.corr` only correlates between columns, we need to **transpose** our dataframe. Here's a little animation of [matrix transposition from Wikipedia](https://en.wikipedia.org/wiki/Transpose):\n",
    "\n",
    "![Transposing a matrix](https://upload.wikimedia.org/wikipedia/commons/e/e4/Matrix_transpose.gif)\n",
    "\n",
    "### Exercise 2\n",
    "Transpose the expression matrix so the cells are the columns, which makes it easy to calculate correlations. How do you transpose a dataframe in `pandas`? (hint: google knows everything)"
   ]
  },
  {
   "cell_type": "code",
   "execution_count": 6,
   "metadata": {
    "collapsed": true,
    "scrolled": true
   },
   "outputs": [],
   "source": [
    "# YOUR CODE HERE"
   ]
  },
  {
   "cell_type": "markdown",
   "metadata": {},
   "source": [
    "![](figures/dont_scroll.svg)"
   ]
  },
  {
   "cell_type": "code",
   "execution_count": 7,
   "metadata": {
    "scrolled": true
   },
   "outputs": [
    {
     "name": "stdout",
     "output_type": "stream",
     "text": [
      "(259, 300)\n"
     ]
    },
    {
     "data": {
      "text/html": [
       "<div>\n",
       "<style>\n",
       "    .dataframe thead tr:only-child th {\n",
       "        text-align: right;\n",
       "    }\n",
       "\n",
       "    .dataframe thead th {\n",
       "        text-align: left;\n",
       "    }\n",
       "\n",
       "    .dataframe tbody tr th {\n",
       "        vertical-align: top;\n",
       "    }\n",
       "</style>\n",
       "<table border=\"1\" class=\"dataframe\">\n",
       "  <thead>\n",
       "    <tr style=\"text-align: right;\">\n",
       "      <th></th>\n",
       "      <th>r1_TTCCTGCTAGGC</th>\n",
       "      <th>r1_TGGAGATACTCT</th>\n",
       "      <th>r1_CGTCTACATCCG</th>\n",
       "      <th>r1_CAAGCTTGGCGC</th>\n",
       "      <th>r1_ACTCACATAGAG</th>\n",
       "      <th>r1_TAACGGACACGC</th>\n",
       "      <th>r1_CGCATGGGATAC</th>\n",
       "      <th>r1_TAACGACGCTTG</th>\n",
       "      <th>r1_TCGGCAGCCTCT</th>\n",
       "      <th>r1_TAGGATGCAAAC</th>\n",
       "      <th>...</th>\n",
       "      <th>r1_AGGGTGGGTACA</th>\n",
       "      <th>r1_AATGCTGCAAGA</th>\n",
       "      <th>r1_GTCGGGCCTTTC</th>\n",
       "      <th>r1_GGGTCAGCGGCG</th>\n",
       "      <th>r1_CTGGACCTGCCC</th>\n",
       "      <th>r1_AAGATATTGCTG</th>\n",
       "      <th>r1_GAGACCTCATGG</th>\n",
       "      <th>r1_CGGAGCGCGACA</th>\n",
       "      <th>r1_AAGGACAGATCC</th>\n",
       "      <th>r1_ATATGCACCCTA</th>\n",
       "    </tr>\n",
       "  </thead>\n",
       "  <tbody>\n",
       "    <tr>\n",
       "      <th>2010107E04RIK</th>\n",
       "      <td>2</td>\n",
       "      <td>0</td>\n",
       "      <td>2</td>\n",
       "      <td>0</td>\n",
       "      <td>1</td>\n",
       "      <td>4</td>\n",
       "      <td>2</td>\n",
       "      <td>0</td>\n",
       "      <td>0</td>\n",
       "      <td>0</td>\n",
       "      <td>...</td>\n",
       "      <td>0</td>\n",
       "      <td>0</td>\n",
       "      <td>0</td>\n",
       "      <td>2</td>\n",
       "      <td>0</td>\n",
       "      <td>1</td>\n",
       "      <td>0</td>\n",
       "      <td>1</td>\n",
       "      <td>1</td>\n",
       "      <td>0</td>\n",
       "    </tr>\n",
       "    <tr>\n",
       "      <th>4930447C04RIK</th>\n",
       "      <td>0</td>\n",
       "      <td>0</td>\n",
       "      <td>0</td>\n",
       "      <td>0</td>\n",
       "      <td>0</td>\n",
       "      <td>0</td>\n",
       "      <td>0</td>\n",
       "      <td>0</td>\n",
       "      <td>0</td>\n",
       "      <td>0</td>\n",
       "      <td>...</td>\n",
       "      <td>0</td>\n",
       "      <td>0</td>\n",
       "      <td>1</td>\n",
       "      <td>0</td>\n",
       "      <td>1</td>\n",
       "      <td>1</td>\n",
       "      <td>0</td>\n",
       "      <td>0</td>\n",
       "      <td>0</td>\n",
       "      <td>1</td>\n",
       "    </tr>\n",
       "    <tr>\n",
       "      <th>A930011O12RIK</th>\n",
       "      <td>0</td>\n",
       "      <td>1</td>\n",
       "      <td>0</td>\n",
       "      <td>11</td>\n",
       "      <td>0</td>\n",
       "      <td>2</td>\n",
       "      <td>0</td>\n",
       "      <td>3</td>\n",
       "      <td>0</td>\n",
       "      <td>7</td>\n",
       "      <td>...</td>\n",
       "      <td>0</td>\n",
       "      <td>0</td>\n",
       "      <td>0</td>\n",
       "      <td>0</td>\n",
       "      <td>0</td>\n",
       "      <td>0</td>\n",
       "      <td>2</td>\n",
       "      <td>0</td>\n",
       "      <td>0</td>\n",
       "      <td>0</td>\n",
       "    </tr>\n",
       "    <tr>\n",
       "      <th>ABCA8A</th>\n",
       "      <td>0</td>\n",
       "      <td>0</td>\n",
       "      <td>0</td>\n",
       "      <td>0</td>\n",
       "      <td>0</td>\n",
       "      <td>0</td>\n",
       "      <td>0</td>\n",
       "      <td>0</td>\n",
       "      <td>0</td>\n",
       "      <td>0</td>\n",
       "      <td>...</td>\n",
       "      <td>1</td>\n",
       "      <td>1</td>\n",
       "      <td>4</td>\n",
       "      <td>1</td>\n",
       "      <td>3</td>\n",
       "      <td>2</td>\n",
       "      <td>1</td>\n",
       "      <td>0</td>\n",
       "      <td>0</td>\n",
       "      <td>0</td>\n",
       "    </tr>\n",
       "    <tr>\n",
       "      <th>ABLIM1</th>\n",
       "      <td>1</td>\n",
       "      <td>0</td>\n",
       "      <td>0</td>\n",
       "      <td>1</td>\n",
       "      <td>0</td>\n",
       "      <td>0</td>\n",
       "      <td>0</td>\n",
       "      <td>0</td>\n",
       "      <td>0</td>\n",
       "      <td>0</td>\n",
       "      <td>...</td>\n",
       "      <td>1</td>\n",
       "      <td>0</td>\n",
       "      <td>0</td>\n",
       "      <td>0</td>\n",
       "      <td>0</td>\n",
       "      <td>1</td>\n",
       "      <td>1</td>\n",
       "      <td>0</td>\n",
       "      <td>0</td>\n",
       "      <td>0</td>\n",
       "    </tr>\n",
       "  </tbody>\n",
       "</table>\n",
       "<p>5 rows × 300 columns</p>\n",
       "</div>"
      ],
      "text/plain": [
       "               r1_TTCCTGCTAGGC  r1_TGGAGATACTCT  r1_CGTCTACATCCG  \\\n",
       "2010107E04RIK                2                0                2   \n",
       "4930447C04RIK                0                0                0   \n",
       "A930011O12RIK                0                1                0   \n",
       "ABCA8A                       0                0                0   \n",
       "ABLIM1                       1                0                0   \n",
       "\n",
       "               r1_CAAGCTTGGCGC  r1_ACTCACATAGAG  r1_TAACGGACACGC  \\\n",
       "2010107E04RIK                0                1                4   \n",
       "4930447C04RIK                0                0                0   \n",
       "A930011O12RIK               11                0                2   \n",
       "ABCA8A                       0                0                0   \n",
       "ABLIM1                       1                0                0   \n",
       "\n",
       "               r1_CGCATGGGATAC  r1_TAACGACGCTTG  r1_TCGGCAGCCTCT  \\\n",
       "2010107E04RIK                2                0                0   \n",
       "4930447C04RIK                0                0                0   \n",
       "A930011O12RIK                0                3                0   \n",
       "ABCA8A                       0                0                0   \n",
       "ABLIM1                       0                0                0   \n",
       "\n",
       "               r1_TAGGATGCAAAC       ...         r1_AGGGTGGGTACA  \\\n",
       "2010107E04RIK                0       ...                       0   \n",
       "4930447C04RIK                0       ...                       0   \n",
       "A930011O12RIK                7       ...                       0   \n",
       "ABCA8A                       0       ...                       1   \n",
       "ABLIM1                       0       ...                       1   \n",
       "\n",
       "               r1_AATGCTGCAAGA  r1_GTCGGGCCTTTC  r1_GGGTCAGCGGCG  \\\n",
       "2010107E04RIK                0                0                2   \n",
       "4930447C04RIK                0                1                0   \n",
       "A930011O12RIK                0                0                0   \n",
       "ABCA8A                       1                4                1   \n",
       "ABLIM1                       0                0                0   \n",
       "\n",
       "               r1_CTGGACCTGCCC  r1_AAGATATTGCTG  r1_GAGACCTCATGG  \\\n",
       "2010107E04RIK                0                1                0   \n",
       "4930447C04RIK                1                1                0   \n",
       "A930011O12RIK                0                0                2   \n",
       "ABCA8A                       3                2                1   \n",
       "ABLIM1                       0                1                1   \n",
       "\n",
       "               r1_CGGAGCGCGACA  r1_AAGGACAGATCC  r1_ATATGCACCCTA  \n",
       "2010107E04RIK                1                1                0  \n",
       "4930447C04RIK                0                0                1  \n",
       "A930011O12RIK                0                0                0  \n",
       "ABCA8A                       0                0                0  \n",
       "ABLIM1                       0                0                0  \n",
       "\n",
       "[5 rows x 300 columns]"
      ]
     },
     "execution_count": 7,
     "metadata": {},
     "output_type": "execute_result"
    }
   ],
   "source": [
    "expression_t = expression.T\n",
    "print(expression_t.shape)\n",
    "expression_t.head()"
   ]
  },
  {
   "cell_type": "markdown",
   "metadata": {},
   "source": [
    "### Exercise 3\n",
    "\n",
    "Use `.corr` to calculate the **Spearman** correlation of the transposed expression dataframe. Make sure to `print` the `shape`, and show the `head` of the resulting dataframe."
   ]
  },
  {
   "cell_type": "code",
   "execution_count": 8,
   "metadata": {
    "collapsed": true
   },
   "outputs": [],
   "source": [
    "# YOUR CODE HERE"
   ]
  },
  {
   "cell_type": "markdown",
   "metadata": {},
   "source": [
    "![](figures/dont_scroll.svg)"
   ]
  },
  {
   "cell_type": "code",
   "execution_count": 9,
   "metadata": {},
   "outputs": [
    {
     "name": "stdout",
     "output_type": "stream",
     "text": [
      "(300, 300)\n"
     ]
    },
    {
     "data": {
      "text/html": [
       "<div>\n",
       "<style>\n",
       "    .dataframe thead tr:only-child th {\n",
       "        text-align: right;\n",
       "    }\n",
       "\n",
       "    .dataframe thead th {\n",
       "        text-align: left;\n",
       "    }\n",
       "\n",
       "    .dataframe tbody tr th {\n",
       "        vertical-align: top;\n",
       "    }\n",
       "</style>\n",
       "<table border=\"1\" class=\"dataframe\">\n",
       "  <thead>\n",
       "    <tr style=\"text-align: right;\">\n",
       "      <th></th>\n",
       "      <th>r1_TTCCTGCTAGGC</th>\n",
       "      <th>r1_TGGAGATACTCT</th>\n",
       "      <th>r1_CGTCTACATCCG</th>\n",
       "      <th>r1_CAAGCTTGGCGC</th>\n",
       "      <th>r1_ACTCACATAGAG</th>\n",
       "      <th>r1_TAACGGACACGC</th>\n",
       "      <th>r1_CGCATGGGATAC</th>\n",
       "      <th>r1_TAACGACGCTTG</th>\n",
       "      <th>r1_TCGGCAGCCTCT</th>\n",
       "      <th>r1_TAGGATGCAAAC</th>\n",
       "      <th>...</th>\n",
       "      <th>r1_AGGGTGGGTACA</th>\n",
       "      <th>r1_AATGCTGCAAGA</th>\n",
       "      <th>r1_GTCGGGCCTTTC</th>\n",
       "      <th>r1_GGGTCAGCGGCG</th>\n",
       "      <th>r1_CTGGACCTGCCC</th>\n",
       "      <th>r1_AAGATATTGCTG</th>\n",
       "      <th>r1_GAGACCTCATGG</th>\n",
       "      <th>r1_CGGAGCGCGACA</th>\n",
       "      <th>r1_AAGGACAGATCC</th>\n",
       "      <th>r1_ATATGCACCCTA</th>\n",
       "    </tr>\n",
       "  </thead>\n",
       "  <tbody>\n",
       "    <tr>\n",
       "      <th>r1_TTCCTGCTAGGC</th>\n",
       "      <td>1.000000</td>\n",
       "      <td>0.578489</td>\n",
       "      <td>0.592947</td>\n",
       "      <td>0.581111</td>\n",
       "      <td>0.600062</td>\n",
       "      <td>0.668730</td>\n",
       "      <td>0.562366</td>\n",
       "      <td>0.537223</td>\n",
       "      <td>0.625188</td>\n",
       "      <td>0.627728</td>\n",
       "      <td>...</td>\n",
       "      <td>-0.127396</td>\n",
       "      <td>-0.238725</td>\n",
       "      <td>-0.191087</td>\n",
       "      <td>-0.062375</td>\n",
       "      <td>-0.070431</td>\n",
       "      <td>-0.211101</td>\n",
       "      <td>0.004142</td>\n",
       "      <td>0.005390</td>\n",
       "      <td>0.028681</td>\n",
       "      <td>-0.208886</td>\n",
       "    </tr>\n",
       "    <tr>\n",
       "      <th>r1_TGGAGATACTCT</th>\n",
       "      <td>0.578489</td>\n",
       "      <td>1.000000</td>\n",
       "      <td>0.605171</td>\n",
       "      <td>0.668457</td>\n",
       "      <td>0.605529</td>\n",
       "      <td>0.699568</td>\n",
       "      <td>0.626681</td>\n",
       "      <td>0.619552</td>\n",
       "      <td>0.686334</td>\n",
       "      <td>0.603006</td>\n",
       "      <td>...</td>\n",
       "      <td>-0.088473</td>\n",
       "      <td>-0.164247</td>\n",
       "      <td>-0.091119</td>\n",
       "      <td>-0.012380</td>\n",
       "      <td>0.002600</td>\n",
       "      <td>-0.128525</td>\n",
       "      <td>0.110028</td>\n",
       "      <td>0.123022</td>\n",
       "      <td>0.087241</td>\n",
       "      <td>-0.151023</td>\n",
       "    </tr>\n",
       "    <tr>\n",
       "      <th>r1_CGTCTACATCCG</th>\n",
       "      <td>0.592947</td>\n",
       "      <td>0.605171</td>\n",
       "      <td>1.000000</td>\n",
       "      <td>0.592150</td>\n",
       "      <td>0.589383</td>\n",
       "      <td>0.616885</td>\n",
       "      <td>0.539639</td>\n",
       "      <td>0.459749</td>\n",
       "      <td>0.633616</td>\n",
       "      <td>0.563735</td>\n",
       "      <td>...</td>\n",
       "      <td>-0.110518</td>\n",
       "      <td>-0.131933</td>\n",
       "      <td>-0.131094</td>\n",
       "      <td>-0.019492</td>\n",
       "      <td>-0.019556</td>\n",
       "      <td>-0.105237</td>\n",
       "      <td>0.023963</td>\n",
       "      <td>0.057967</td>\n",
       "      <td>0.124087</td>\n",
       "      <td>-0.138839</td>\n",
       "    </tr>\n",
       "    <tr>\n",
       "      <th>r1_CAAGCTTGGCGC</th>\n",
       "      <td>0.581111</td>\n",
       "      <td>0.668457</td>\n",
       "      <td>0.592150</td>\n",
       "      <td>1.000000</td>\n",
       "      <td>0.614245</td>\n",
       "      <td>0.747307</td>\n",
       "      <td>0.610552</td>\n",
       "      <td>0.624505</td>\n",
       "      <td>0.670207</td>\n",
       "      <td>0.682267</td>\n",
       "      <td>...</td>\n",
       "      <td>-0.052749</td>\n",
       "      <td>-0.108256</td>\n",
       "      <td>-0.081267</td>\n",
       "      <td>-0.036022</td>\n",
       "      <td>0.048468</td>\n",
       "      <td>-0.154414</td>\n",
       "      <td>0.184313</td>\n",
       "      <td>0.051814</td>\n",
       "      <td>0.141338</td>\n",
       "      <td>-0.155600</td>\n",
       "    </tr>\n",
       "    <tr>\n",
       "      <th>r1_ACTCACATAGAG</th>\n",
       "      <td>0.600062</td>\n",
       "      <td>0.605529</td>\n",
       "      <td>0.589383</td>\n",
       "      <td>0.614245</td>\n",
       "      <td>1.000000</td>\n",
       "      <td>0.615884</td>\n",
       "      <td>0.642180</td>\n",
       "      <td>0.556297</td>\n",
       "      <td>0.648107</td>\n",
       "      <td>0.566039</td>\n",
       "      <td>...</td>\n",
       "      <td>-0.104368</td>\n",
       "      <td>-0.184757</td>\n",
       "      <td>-0.136784</td>\n",
       "      <td>-0.045760</td>\n",
       "      <td>0.003680</td>\n",
       "      <td>-0.183599</td>\n",
       "      <td>0.096902</td>\n",
       "      <td>0.015629</td>\n",
       "      <td>0.036012</td>\n",
       "      <td>-0.142725</td>\n",
       "    </tr>\n",
       "  </tbody>\n",
       "</table>\n",
       "<p>5 rows × 300 columns</p>\n",
       "</div>"
      ],
      "text/plain": [
       "                 r1_TTCCTGCTAGGC  r1_TGGAGATACTCT  r1_CGTCTACATCCG  \\\n",
       "r1_TTCCTGCTAGGC         1.000000         0.578489         0.592947   \n",
       "r1_TGGAGATACTCT         0.578489         1.000000         0.605171   \n",
       "r1_CGTCTACATCCG         0.592947         0.605171         1.000000   \n",
       "r1_CAAGCTTGGCGC         0.581111         0.668457         0.592150   \n",
       "r1_ACTCACATAGAG         0.600062         0.605529         0.589383   \n",
       "\n",
       "                 r1_CAAGCTTGGCGC  r1_ACTCACATAGAG  r1_TAACGGACACGC  \\\n",
       "r1_TTCCTGCTAGGC         0.581111         0.600062         0.668730   \n",
       "r1_TGGAGATACTCT         0.668457         0.605529         0.699568   \n",
       "r1_CGTCTACATCCG         0.592150         0.589383         0.616885   \n",
       "r1_CAAGCTTGGCGC         1.000000         0.614245         0.747307   \n",
       "r1_ACTCACATAGAG         0.614245         1.000000         0.615884   \n",
       "\n",
       "                 r1_CGCATGGGATAC  r1_TAACGACGCTTG  r1_TCGGCAGCCTCT  \\\n",
       "r1_TTCCTGCTAGGC         0.562366         0.537223         0.625188   \n",
       "r1_TGGAGATACTCT         0.626681         0.619552         0.686334   \n",
       "r1_CGTCTACATCCG         0.539639         0.459749         0.633616   \n",
       "r1_CAAGCTTGGCGC         0.610552         0.624505         0.670207   \n",
       "r1_ACTCACATAGAG         0.642180         0.556297         0.648107   \n",
       "\n",
       "                 r1_TAGGATGCAAAC       ...         r1_AGGGTGGGTACA  \\\n",
       "r1_TTCCTGCTAGGC         0.627728       ...               -0.127396   \n",
       "r1_TGGAGATACTCT         0.603006       ...               -0.088473   \n",
       "r1_CGTCTACATCCG         0.563735       ...               -0.110518   \n",
       "r1_CAAGCTTGGCGC         0.682267       ...               -0.052749   \n",
       "r1_ACTCACATAGAG         0.566039       ...               -0.104368   \n",
       "\n",
       "                 r1_AATGCTGCAAGA  r1_GTCGGGCCTTTC  r1_GGGTCAGCGGCG  \\\n",
       "r1_TTCCTGCTAGGC        -0.238725        -0.191087        -0.062375   \n",
       "r1_TGGAGATACTCT        -0.164247        -0.091119        -0.012380   \n",
       "r1_CGTCTACATCCG        -0.131933        -0.131094        -0.019492   \n",
       "r1_CAAGCTTGGCGC        -0.108256        -0.081267        -0.036022   \n",
       "r1_ACTCACATAGAG        -0.184757        -0.136784        -0.045760   \n",
       "\n",
       "                 r1_CTGGACCTGCCC  r1_AAGATATTGCTG  r1_GAGACCTCATGG  \\\n",
       "r1_TTCCTGCTAGGC        -0.070431        -0.211101         0.004142   \n",
       "r1_TGGAGATACTCT         0.002600        -0.128525         0.110028   \n",
       "r1_CGTCTACATCCG        -0.019556        -0.105237         0.023963   \n",
       "r1_CAAGCTTGGCGC         0.048468        -0.154414         0.184313   \n",
       "r1_ACTCACATAGAG         0.003680        -0.183599         0.096902   \n",
       "\n",
       "                 r1_CGGAGCGCGACA  r1_AAGGACAGATCC  r1_ATATGCACCCTA  \n",
       "r1_TTCCTGCTAGGC         0.005390         0.028681        -0.208886  \n",
       "r1_TGGAGATACTCT         0.123022         0.087241        -0.151023  \n",
       "r1_CGTCTACATCCG         0.057967         0.124087        -0.138839  \n",
       "r1_CAAGCTTGGCGC         0.051814         0.141338        -0.155600  \n",
       "r1_ACTCACATAGAG         0.015629         0.036012        -0.142725  \n",
       "\n",
       "[5 rows x 300 columns]"
      ]
     },
     "execution_count": 9,
     "metadata": {},
     "output_type": "execute_result"
    }
   ],
   "source": [
    "expression_corr = expression_t.corr(method='spearman')\n",
    "print(expression_corr.shape)\n",
    "expression_corr.head()"
   ]
  },
  {
   "cell_type": "markdown",
   "metadata": {},
   "source": [
    "### Pro tip: if your matrix is really big, here's a trick to make spearman correlations faster\n",
    "\n",
    "Remember that spearman correlation is equal to performing pearson correlation on the ranks? Well, that's exactly what's happening inside the `.corr(method='spearman')` function! Every time it's calculating spearman, it's converting each row to ranks, which means that it's double-converting to ranks since it has to do it for each pair. Let's cut the work in half by converting to ranks FIRST. Let's take a look at the options for `.rank`:"
   ]
  },
  {
   "cell_type": "code",
   "execution_count": 10,
   "metadata": {
    "collapsed": true
   },
   "outputs": [],
   "source": [
    "expression_t.rank?"
   ]
  },
  {
   "cell_type": "markdown",
   "metadata": {},
   "source": [
    "Notice we can specify `axis=1` or `axis=0`, but what does that really *mean*? Was this ascending along rows, or ascending along columns?\n",
    "\n",
    "![](figures/ascending_across_rows_maybe.png)\n",
    "![](figures/ascending_across_columns_maybe.png)\n",
    "\n",
    "\n",
    "To figure this out, let's use a small, simple dataframe:"
   ]
  },
  {
   "cell_type": "code",
   "execution_count": 11,
   "metadata": {},
   "outputs": [
    {
     "data": {
      "text/html": [
       "<div>\n",
       "<style>\n",
       "    .dataframe thead tr:only-child th {\n",
       "        text-align: right;\n",
       "    }\n",
       "\n",
       "    .dataframe thead th {\n",
       "        text-align: left;\n",
       "    }\n",
       "\n",
       "    .dataframe tbody tr th {\n",
       "        vertical-align: top;\n",
       "    }\n",
       "</style>\n",
       "<table border=\"1\" class=\"dataframe\">\n",
       "  <thead>\n",
       "    <tr style=\"text-align: right;\">\n",
       "      <th></th>\n",
       "      <th>0</th>\n",
       "      <th>1</th>\n",
       "      <th>2</th>\n",
       "    </tr>\n",
       "  </thead>\n",
       "  <tbody>\n",
       "    <tr>\n",
       "      <th>0</th>\n",
       "      <td>5</td>\n",
       "      <td>6</td>\n",
       "      <td>7</td>\n",
       "    </tr>\n",
       "    <tr>\n",
       "      <th>1</th>\n",
       "      <td>5</td>\n",
       "      <td>6</td>\n",
       "      <td>7</td>\n",
       "    </tr>\n",
       "    <tr>\n",
       "      <th>2</th>\n",
       "      <td>5</td>\n",
       "      <td>6</td>\n",
       "      <td>7</td>\n",
       "    </tr>\n",
       "  </tbody>\n",
       "</table>\n",
       "</div>"
      ],
      "text/plain": [
       "   0  1  2\n",
       "0  5  6  7\n",
       "1  5  6  7\n",
       "2  5  6  7"
      ]
     },
     "execution_count": 11,
     "metadata": {},
     "output_type": "execute_result"
    }
   ],
   "source": [
    "df = pd.DataFrame([[5, 6, 7], [5, 6, 7], [5, 6, 7]])\n",
    "df"
   ]
  },
  {
   "cell_type": "markdown",
   "metadata": {},
   "source": [
    "\n",
    "### Exercise 4\n",
    "\n",
    "Try `axis=0` when using `rank` on this `df`"
   ]
  },
  {
   "cell_type": "code",
   "execution_count": 12,
   "metadata": {
    "collapsed": true
   },
   "outputs": [],
   "source": [
    "# YOUR CODE HERE"
   ]
  },
  {
   "cell_type": "markdown",
   "metadata": {},
   "source": [
    "Did that make ranks ascending along columns or along rows?\n",
    "\n",
    "\n",
    "### Exercise 5\n",
    "\n",
    "Now try `axis=1` when using `rank` on this `df`"
   ]
  },
  {
   "cell_type": "code",
   "execution_count": 13,
   "metadata": {
    "collapsed": true
   },
   "outputs": [],
   "source": [
    "# YOUR CODE HERE"
   ]
  },
  {
   "cell_type": "markdown",
   "metadata": {},
   "source": [
    "Did that make ranks ascending along columns or along rows?\n",
    "\n",
    "![](figures/ascending_across_rows_axis1.png)\n",
    "\n",
    "![](figures/ascending_across_columns_axis0.png)"
   ]
  },
  {
   "cell_type": "markdown",
   "metadata": {},
   "source": [
    "### Exercise 6\n",
    "\n",
    "\n",
    "To get the gene (row) ranks for each cell (column), do we want `axis=1` or `axis=0`? Perform `.rank` on the transposed expression matrix (`expression_t`), `print` the `shape` of the resulting ranks, and show the `head()` of it."
   ]
  },
  {
   "cell_type": "code",
   "execution_count": 14,
   "metadata": {
    "collapsed": true
   },
   "outputs": [],
   "source": [
    "# YOUR CODE HERE"
   ]
  },
  {
   "cell_type": "markdown",
   "metadata": {},
   "source": [
    "![](figures/dont_scroll.svg)"
   ]
  },
  {
   "cell_type": "code",
   "execution_count": 15,
   "metadata": {},
   "outputs": [
    {
     "name": "stdout",
     "output_type": "stream",
     "text": [
      "(259, 300)\n"
     ]
    },
    {
     "data": {
      "text/html": [
       "<div>\n",
       "<style>\n",
       "    .dataframe thead tr:only-child th {\n",
       "        text-align: right;\n",
       "    }\n",
       "\n",
       "    .dataframe thead th {\n",
       "        text-align: left;\n",
       "    }\n",
       "\n",
       "    .dataframe tbody tr th {\n",
       "        vertical-align: top;\n",
       "    }\n",
       "</style>\n",
       "<table border=\"1\" class=\"dataframe\">\n",
       "  <thead>\n",
       "    <tr style=\"text-align: right;\">\n",
       "      <th></th>\n",
       "      <th>r1_TTCCTGCTAGGC</th>\n",
       "      <th>r1_TGGAGATACTCT</th>\n",
       "      <th>r1_CGTCTACATCCG</th>\n",
       "      <th>r1_CAAGCTTGGCGC</th>\n",
       "      <th>r1_ACTCACATAGAG</th>\n",
       "      <th>r1_TAACGGACACGC</th>\n",
       "      <th>r1_CGCATGGGATAC</th>\n",
       "      <th>r1_TAACGACGCTTG</th>\n",
       "      <th>r1_TCGGCAGCCTCT</th>\n",
       "      <th>r1_TAGGATGCAAAC</th>\n",
       "      <th>...</th>\n",
       "      <th>r1_AGGGTGGGTACA</th>\n",
       "      <th>r1_AATGCTGCAAGA</th>\n",
       "      <th>r1_GTCGGGCCTTTC</th>\n",
       "      <th>r1_GGGTCAGCGGCG</th>\n",
       "      <th>r1_CTGGACCTGCCC</th>\n",
       "      <th>r1_AAGATATTGCTG</th>\n",
       "      <th>r1_GAGACCTCATGG</th>\n",
       "      <th>r1_CGGAGCGCGACA</th>\n",
       "      <th>r1_AAGGACAGATCC</th>\n",
       "      <th>r1_ATATGCACCCTA</th>\n",
       "    </tr>\n",
       "  </thead>\n",
       "  <tbody>\n",
       "    <tr>\n",
       "      <th>2010107E04RIK</th>\n",
       "      <td>243.0</td>\n",
       "      <td>106.0</td>\n",
       "      <td>239.0</td>\n",
       "      <td>95.5</td>\n",
       "      <td>231.5</td>\n",
       "      <td>241.5</td>\n",
       "      <td>241.0</td>\n",
       "      <td>109.0</td>\n",
       "      <td>112.0</td>\n",
       "      <td>109.0</td>\n",
       "      <td>...</td>\n",
       "      <td>88.5</td>\n",
       "      <td>79.5</td>\n",
       "      <td>70.5</td>\n",
       "      <td>181.0</td>\n",
       "      <td>85.5</td>\n",
       "      <td>141.5</td>\n",
       "      <td>77.5</td>\n",
       "      <td>210.0</td>\n",
       "      <td>153.5</td>\n",
       "      <td>96.5</td>\n",
       "    </tr>\n",
       "    <tr>\n",
       "      <th>4930447C04RIK</th>\n",
       "      <td>112.0</td>\n",
       "      <td>106.0</td>\n",
       "      <td>111.0</td>\n",
       "      <td>95.5</td>\n",
       "      <td>112.0</td>\n",
       "      <td>103.5</td>\n",
       "      <td>111.0</td>\n",
       "      <td>109.0</td>\n",
       "      <td>112.0</td>\n",
       "      <td>109.0</td>\n",
       "      <td>...</td>\n",
       "      <td>88.5</td>\n",
       "      <td>79.5</td>\n",
       "      <td>156.5</td>\n",
       "      <td>62.0</td>\n",
       "      <td>191.0</td>\n",
       "      <td>141.5</td>\n",
       "      <td>77.5</td>\n",
       "      <td>95.5</td>\n",
       "      <td>68.0</td>\n",
       "      <td>208.5</td>\n",
       "    </tr>\n",
       "    <tr>\n",
       "      <th>A930011O12RIK</th>\n",
       "      <td>112.0</td>\n",
       "      <td>222.0</td>\n",
       "      <td>111.0</td>\n",
       "      <td>246.5</td>\n",
       "      <td>112.0</td>\n",
       "      <td>225.0</td>\n",
       "      <td>111.0</td>\n",
       "      <td>253.5</td>\n",
       "      <td>112.0</td>\n",
       "      <td>252.5</td>\n",
       "      <td>...</td>\n",
       "      <td>88.5</td>\n",
       "      <td>79.5</td>\n",
       "      <td>70.5</td>\n",
       "      <td>62.0</td>\n",
       "      <td>85.5</td>\n",
       "      <td>63.0</td>\n",
       "      <td>216.0</td>\n",
       "      <td>95.5</td>\n",
       "      <td>68.0</td>\n",
       "      <td>96.5</td>\n",
       "    </tr>\n",
       "    <tr>\n",
       "      <th>ABCA8A</th>\n",
       "      <td>112.0</td>\n",
       "      <td>106.0</td>\n",
       "      <td>111.0</td>\n",
       "      <td>95.5</td>\n",
       "      <td>112.0</td>\n",
       "      <td>103.5</td>\n",
       "      <td>111.0</td>\n",
       "      <td>109.0</td>\n",
       "      <td>112.0</td>\n",
       "      <td>109.0</td>\n",
       "      <td>...</td>\n",
       "      <td>198.0</td>\n",
       "      <td>177.0</td>\n",
       "      <td>219.0</td>\n",
       "      <td>146.5</td>\n",
       "      <td>234.0</td>\n",
       "      <td>172.5</td>\n",
       "      <td>179.0</td>\n",
       "      <td>95.5</td>\n",
       "      <td>68.0</td>\n",
       "      <td>96.5</td>\n",
       "    </tr>\n",
       "    <tr>\n",
       "      <th>ABLIM1</th>\n",
       "      <td>230.5</td>\n",
       "      <td>106.0</td>\n",
       "      <td>111.0</td>\n",
       "      <td>200.0</td>\n",
       "      <td>112.0</td>\n",
       "      <td>103.5</td>\n",
       "      <td>111.0</td>\n",
       "      <td>109.0</td>\n",
       "      <td>112.0</td>\n",
       "      <td>109.0</td>\n",
       "      <td>...</td>\n",
       "      <td>198.0</td>\n",
       "      <td>79.5</td>\n",
       "      <td>70.5</td>\n",
       "      <td>62.0</td>\n",
       "      <td>85.5</td>\n",
       "      <td>141.5</td>\n",
       "      <td>179.0</td>\n",
       "      <td>95.5</td>\n",
       "      <td>68.0</td>\n",
       "      <td>96.5</td>\n",
       "    </tr>\n",
       "  </tbody>\n",
       "</table>\n",
       "<p>5 rows × 300 columns</p>\n",
       "</div>"
      ],
      "text/plain": [
       "               r1_TTCCTGCTAGGC  r1_TGGAGATACTCT  r1_CGTCTACATCCG  \\\n",
       "2010107E04RIK            243.0            106.0            239.0   \n",
       "4930447C04RIK            112.0            106.0            111.0   \n",
       "A930011O12RIK            112.0            222.0            111.0   \n",
       "ABCA8A                   112.0            106.0            111.0   \n",
       "ABLIM1                   230.5            106.0            111.0   \n",
       "\n",
       "               r1_CAAGCTTGGCGC  r1_ACTCACATAGAG  r1_TAACGGACACGC  \\\n",
       "2010107E04RIK             95.5            231.5            241.5   \n",
       "4930447C04RIK             95.5            112.0            103.5   \n",
       "A930011O12RIK            246.5            112.0            225.0   \n",
       "ABCA8A                    95.5            112.0            103.5   \n",
       "ABLIM1                   200.0            112.0            103.5   \n",
       "\n",
       "               r1_CGCATGGGATAC  r1_TAACGACGCTTG  r1_TCGGCAGCCTCT  \\\n",
       "2010107E04RIK            241.0            109.0            112.0   \n",
       "4930447C04RIK            111.0            109.0            112.0   \n",
       "A930011O12RIK            111.0            253.5            112.0   \n",
       "ABCA8A                   111.0            109.0            112.0   \n",
       "ABLIM1                   111.0            109.0            112.0   \n",
       "\n",
       "               r1_TAGGATGCAAAC       ...         r1_AGGGTGGGTACA  \\\n",
       "2010107E04RIK            109.0       ...                    88.5   \n",
       "4930447C04RIK            109.0       ...                    88.5   \n",
       "A930011O12RIK            252.5       ...                    88.5   \n",
       "ABCA8A                   109.0       ...                   198.0   \n",
       "ABLIM1                   109.0       ...                   198.0   \n",
       "\n",
       "               r1_AATGCTGCAAGA  r1_GTCGGGCCTTTC  r1_GGGTCAGCGGCG  \\\n",
       "2010107E04RIK             79.5             70.5            181.0   \n",
       "4930447C04RIK             79.5            156.5             62.0   \n",
       "A930011O12RIK             79.5             70.5             62.0   \n",
       "ABCA8A                   177.0            219.0            146.5   \n",
       "ABLIM1                    79.5             70.5             62.0   \n",
       "\n",
       "               r1_CTGGACCTGCCC  r1_AAGATATTGCTG  r1_GAGACCTCATGG  \\\n",
       "2010107E04RIK             85.5            141.5             77.5   \n",
       "4930447C04RIK            191.0            141.5             77.5   \n",
       "A930011O12RIK             85.5             63.0            216.0   \n",
       "ABCA8A                   234.0            172.5            179.0   \n",
       "ABLIM1                    85.5            141.5            179.0   \n",
       "\n",
       "               r1_CGGAGCGCGACA  r1_AAGGACAGATCC  r1_ATATGCACCCTA  \n",
       "2010107E04RIK            210.0            153.5             96.5  \n",
       "4930447C04RIK             95.5             68.0            208.5  \n",
       "A930011O12RIK             95.5             68.0             96.5  \n",
       "ABCA8A                    95.5             68.0             96.5  \n",
       "ABLIM1                    95.5             68.0             96.5  \n",
       "\n",
       "[5 rows x 300 columns]"
      ]
     },
     "execution_count": 15,
     "metadata": {},
     "output_type": "execute_result"
    }
   ],
   "source": [
    "ranks = expression_t.rank(axis=0)\n",
    "print(ranks.shape)\n",
    "ranks.head()"
   ]
  },
  {
   "cell_type": "markdown",
   "metadata": {},
   "source": [
    "\n",
    "### Exercise 6\n",
    "\n",
    "Now that you're armed with all this information, we'll calculate the ranks. While you're at it, let's compare the time it takes to run (\"runtime\") of `.corr(method=\"pearson\")` on the ranks matrix vs `.corr(method=\"spearman\")` on the expression matrix.\n",
    "\n",
    "1. Perform **pearson** correlation on the ranks\n",
    "2. Check that it is equal to the expression **spearman** correlation.\n",
    "3. Use the `%timeit` magic to check the runtimes of `.corr` on the ranks and expression matrices. (Feel free to calculate the expression correlation again, below)\n",
    "    1. Note that when you use `timeit`, you cannot assign any variables -- using an equals sign doesn't work here.\n",
    "4. How much time did it take, in comparison? What's the order of magnitude difference?\n",
    "\n",
    "\n",
    "Use as many cells as you need."
   ]
  },
  {
   "cell_type": "code",
   "execution_count": 16,
   "metadata": {
    "collapsed": true
   },
   "outputs": [],
   "source": [
    "# YOUR CODE HERE"
   ]
  },
  {
   "cell_type": "code",
   "execution_count": 17,
   "metadata": {
    "collapsed": true
   },
   "outputs": [],
   "source": [
    "# YOUR CODE HERE"
   ]
  },
  {
   "cell_type": "code",
   "execution_count": 18,
   "metadata": {
    "collapsed": true
   },
   "outputs": [],
   "source": [
    "# YOUR CODE HERE"
   ]
  },
  {
   "cell_type": "markdown",
   "metadata": {
    "collapsed": true
   },
   "source": [
    "![](figures/dont_scroll.svg)"
   ]
  },
  {
   "cell_type": "code",
   "execution_count": 21,
   "metadata": {},
   "outputs": [
    {
     "name": "stdout",
     "output_type": "stream",
     "text": [
      "1.83 s ± 17.6 ms per loop (mean ± std. dev. of 7 runs, 1 loop each)\n",
      "36.1 ms ± 7.66 ms per loop (mean ± std. dev. of 7 runs, 10 loops each)\n"
     ]
    }
   ],
   "source": [
    "%timeit expression_t.corr(method='spearman')\n",
    "%timeit ranks.corr(method='pearson')"
   ]
  },
  {
   "cell_type": "code",
   "execution_count": 28,
   "metadata": {},
   "outputs": [
    {
     "name": "stdout",
     "output_type": "stream",
     "text": [
      "(300, 300)\n"
     ]
    },
    {
     "data": {
      "text/html": [
       "<div>\n",
       "<style>\n",
       "    .dataframe thead tr:only-child th {\n",
       "        text-align: right;\n",
       "    }\n",
       "\n",
       "    .dataframe thead th {\n",
       "        text-align: left;\n",
       "    }\n",
       "\n",
       "    .dataframe tbody tr th {\n",
       "        vertical-align: top;\n",
       "    }\n",
       "</style>\n",
       "<table border=\"1\" class=\"dataframe\">\n",
       "  <thead>\n",
       "    <tr style=\"text-align: right;\">\n",
       "      <th></th>\n",
       "      <th>r1_TTCCTGCTAGGC</th>\n",
       "      <th>r1_TGGAGATACTCT</th>\n",
       "      <th>r1_CGTCTACATCCG</th>\n",
       "      <th>r1_CAAGCTTGGCGC</th>\n",
       "      <th>r1_ACTCACATAGAG</th>\n",
       "      <th>r1_TAACGGACACGC</th>\n",
       "      <th>r1_CGCATGGGATAC</th>\n",
       "      <th>r1_TAACGACGCTTG</th>\n",
       "      <th>r1_TCGGCAGCCTCT</th>\n",
       "      <th>r1_TAGGATGCAAAC</th>\n",
       "      <th>...</th>\n",
       "      <th>r1_AGGGTGGGTACA</th>\n",
       "      <th>r1_AATGCTGCAAGA</th>\n",
       "      <th>r1_GTCGGGCCTTTC</th>\n",
       "      <th>r1_GGGTCAGCGGCG</th>\n",
       "      <th>r1_CTGGACCTGCCC</th>\n",
       "      <th>r1_AAGATATTGCTG</th>\n",
       "      <th>r1_GAGACCTCATGG</th>\n",
       "      <th>r1_CGGAGCGCGACA</th>\n",
       "      <th>r1_AAGGACAGATCC</th>\n",
       "      <th>r1_ATATGCACCCTA</th>\n",
       "    </tr>\n",
       "  </thead>\n",
       "  <tbody>\n",
       "    <tr>\n",
       "      <th>r1_TTCCTGCTAGGC</th>\n",
       "      <td>1.000000</td>\n",
       "      <td>0.578489</td>\n",
       "      <td>0.592947</td>\n",
       "      <td>0.581111</td>\n",
       "      <td>0.600062</td>\n",
       "      <td>0.668730</td>\n",
       "      <td>0.562366</td>\n",
       "      <td>0.537223</td>\n",
       "      <td>0.625188</td>\n",
       "      <td>0.627728</td>\n",
       "      <td>...</td>\n",
       "      <td>-0.127396</td>\n",
       "      <td>-0.238725</td>\n",
       "      <td>-0.191087</td>\n",
       "      <td>-0.062375</td>\n",
       "      <td>-0.070431</td>\n",
       "      <td>-0.211101</td>\n",
       "      <td>0.004142</td>\n",
       "      <td>0.005390</td>\n",
       "      <td>0.028681</td>\n",
       "      <td>-0.208886</td>\n",
       "    </tr>\n",
       "    <tr>\n",
       "      <th>r1_TGGAGATACTCT</th>\n",
       "      <td>0.578489</td>\n",
       "      <td>1.000000</td>\n",
       "      <td>0.605171</td>\n",
       "      <td>0.668457</td>\n",
       "      <td>0.605529</td>\n",
       "      <td>0.699568</td>\n",
       "      <td>0.626681</td>\n",
       "      <td>0.619552</td>\n",
       "      <td>0.686334</td>\n",
       "      <td>0.603006</td>\n",
       "      <td>...</td>\n",
       "      <td>-0.088473</td>\n",
       "      <td>-0.164247</td>\n",
       "      <td>-0.091119</td>\n",
       "      <td>-0.012380</td>\n",
       "      <td>0.002600</td>\n",
       "      <td>-0.128525</td>\n",
       "      <td>0.110028</td>\n",
       "      <td>0.123022</td>\n",
       "      <td>0.087241</td>\n",
       "      <td>-0.151023</td>\n",
       "    </tr>\n",
       "    <tr>\n",
       "      <th>r1_CGTCTACATCCG</th>\n",
       "      <td>0.592947</td>\n",
       "      <td>0.605171</td>\n",
       "      <td>1.000000</td>\n",
       "      <td>0.592150</td>\n",
       "      <td>0.589383</td>\n",
       "      <td>0.616885</td>\n",
       "      <td>0.539639</td>\n",
       "      <td>0.459749</td>\n",
       "      <td>0.633616</td>\n",
       "      <td>0.563735</td>\n",
       "      <td>...</td>\n",
       "      <td>-0.110518</td>\n",
       "      <td>-0.131933</td>\n",
       "      <td>-0.131094</td>\n",
       "      <td>-0.019492</td>\n",
       "      <td>-0.019556</td>\n",
       "      <td>-0.105237</td>\n",
       "      <td>0.023963</td>\n",
       "      <td>0.057967</td>\n",
       "      <td>0.124087</td>\n",
       "      <td>-0.138839</td>\n",
       "    </tr>\n",
       "    <tr>\n",
       "      <th>r1_CAAGCTTGGCGC</th>\n",
       "      <td>0.581111</td>\n",
       "      <td>0.668457</td>\n",
       "      <td>0.592150</td>\n",
       "      <td>1.000000</td>\n",
       "      <td>0.614245</td>\n",
       "      <td>0.747307</td>\n",
       "      <td>0.610552</td>\n",
       "      <td>0.624505</td>\n",
       "      <td>0.670207</td>\n",
       "      <td>0.682267</td>\n",
       "      <td>...</td>\n",
       "      <td>-0.052749</td>\n",
       "      <td>-0.108256</td>\n",
       "      <td>-0.081267</td>\n",
       "      <td>-0.036022</td>\n",
       "      <td>0.048468</td>\n",
       "      <td>-0.154414</td>\n",
       "      <td>0.184313</td>\n",
       "      <td>0.051814</td>\n",
       "      <td>0.141338</td>\n",
       "      <td>-0.155600</td>\n",
       "    </tr>\n",
       "    <tr>\n",
       "      <th>r1_ACTCACATAGAG</th>\n",
       "      <td>0.600062</td>\n",
       "      <td>0.605529</td>\n",
       "      <td>0.589383</td>\n",
       "      <td>0.614245</td>\n",
       "      <td>1.000000</td>\n",
       "      <td>0.615884</td>\n",
       "      <td>0.642180</td>\n",
       "      <td>0.556297</td>\n",
       "      <td>0.648107</td>\n",
       "      <td>0.566039</td>\n",
       "      <td>...</td>\n",
       "      <td>-0.104368</td>\n",
       "      <td>-0.184757</td>\n",
       "      <td>-0.136784</td>\n",
       "      <td>-0.045760</td>\n",
       "      <td>0.003680</td>\n",
       "      <td>-0.183599</td>\n",
       "      <td>0.096902</td>\n",
       "      <td>0.015629</td>\n",
       "      <td>0.036012</td>\n",
       "      <td>-0.142725</td>\n",
       "    </tr>\n",
       "  </tbody>\n",
       "</table>\n",
       "<p>5 rows × 300 columns</p>\n",
       "</div>"
      ],
      "text/plain": [
       "                 r1_TTCCTGCTAGGC  r1_TGGAGATACTCT  r1_CGTCTACATCCG  \\\n",
       "r1_TTCCTGCTAGGC         1.000000         0.578489         0.592947   \n",
       "r1_TGGAGATACTCT         0.578489         1.000000         0.605171   \n",
       "r1_CGTCTACATCCG         0.592947         0.605171         1.000000   \n",
       "r1_CAAGCTTGGCGC         0.581111         0.668457         0.592150   \n",
       "r1_ACTCACATAGAG         0.600062         0.605529         0.589383   \n",
       "\n",
       "                 r1_CAAGCTTGGCGC  r1_ACTCACATAGAG  r1_TAACGGACACGC  \\\n",
       "r1_TTCCTGCTAGGC         0.581111         0.600062         0.668730   \n",
       "r1_TGGAGATACTCT         0.668457         0.605529         0.699568   \n",
       "r1_CGTCTACATCCG         0.592150         0.589383         0.616885   \n",
       "r1_CAAGCTTGGCGC         1.000000         0.614245         0.747307   \n",
       "r1_ACTCACATAGAG         0.614245         1.000000         0.615884   \n",
       "\n",
       "                 r1_CGCATGGGATAC  r1_TAACGACGCTTG  r1_TCGGCAGCCTCT  \\\n",
       "r1_TTCCTGCTAGGC         0.562366         0.537223         0.625188   \n",
       "r1_TGGAGATACTCT         0.626681         0.619552         0.686334   \n",
       "r1_CGTCTACATCCG         0.539639         0.459749         0.633616   \n",
       "r1_CAAGCTTGGCGC         0.610552         0.624505         0.670207   \n",
       "r1_ACTCACATAGAG         0.642180         0.556297         0.648107   \n",
       "\n",
       "                 r1_TAGGATGCAAAC       ...         r1_AGGGTGGGTACA  \\\n",
       "r1_TTCCTGCTAGGC         0.627728       ...               -0.127396   \n",
       "r1_TGGAGATACTCT         0.603006       ...               -0.088473   \n",
       "r1_CGTCTACATCCG         0.563735       ...               -0.110518   \n",
       "r1_CAAGCTTGGCGC         0.682267       ...               -0.052749   \n",
       "r1_ACTCACATAGAG         0.566039       ...               -0.104368   \n",
       "\n",
       "                 r1_AATGCTGCAAGA  r1_GTCGGGCCTTTC  r1_GGGTCAGCGGCG  \\\n",
       "r1_TTCCTGCTAGGC        -0.238725        -0.191087        -0.062375   \n",
       "r1_TGGAGATACTCT        -0.164247        -0.091119        -0.012380   \n",
       "r1_CGTCTACATCCG        -0.131933        -0.131094        -0.019492   \n",
       "r1_CAAGCTTGGCGC        -0.108256        -0.081267        -0.036022   \n",
       "r1_ACTCACATAGAG        -0.184757        -0.136784        -0.045760   \n",
       "\n",
       "                 r1_CTGGACCTGCCC  r1_AAGATATTGCTG  r1_GAGACCTCATGG  \\\n",
       "r1_TTCCTGCTAGGC        -0.070431        -0.211101         0.004142   \n",
       "r1_TGGAGATACTCT         0.002600        -0.128525         0.110028   \n",
       "r1_CGTCTACATCCG        -0.019556        -0.105237         0.023963   \n",
       "r1_CAAGCTTGGCGC         0.048468        -0.154414         0.184313   \n",
       "r1_ACTCACATAGAG         0.003680        -0.183599         0.096902   \n",
       "\n",
       "                 r1_CGGAGCGCGACA  r1_AAGGACAGATCC  r1_ATATGCACCCTA  \n",
       "r1_TTCCTGCTAGGC         0.005390         0.028681        -0.208886  \n",
       "r1_TGGAGATACTCT         0.123022         0.087241        -0.151023  \n",
       "r1_CGTCTACATCCG         0.057967         0.124087        -0.138839  \n",
       "r1_CAAGCTTGGCGC         0.051814         0.141338        -0.155600  \n",
       "r1_ACTCACATAGAG         0.015629         0.036012        -0.142725  \n",
       "\n",
       "[5 rows x 300 columns]"
      ]
     },
     "execution_count": 28,
     "metadata": {},
     "output_type": "execute_result"
    }
   ],
   "source": [
    "ranks_corr = ranks.corr(method='pearson')\n",
    "print(ranks_corr.shape)\n",
    "ranks_corr.head()"
   ]
  },
  {
   "cell_type": "markdown",
   "metadata": {},
   "source": [
    "Use *inequality* to see if any points are not the same. If this is equal to zero, then we know that they are ALL the same."
   ]
  },
  {
   "cell_type": "code",
   "execution_count": 29,
   "metadata": {},
   "outputs": [
    {
     "data": {
      "text/plain": [
       "0"
      ]
     },
     "execution_count": 29,
     "metadata": {},
     "output_type": "execute_result"
    }
   ],
   "source": [
    "(ranks_corr != expression_corr).sum().sum()"
   ]
  },
  {
   "cell_type": "markdown",
   "metadata": {},
   "source": [
    "This is a flip of checking for equality, which is a little trickier because then you have to know exactly how many items are in the matrix. Since we have a 300x300 matrix, that multiplication is a little easier to do in your head and know that you got the right answer."
   ]
  },
  {
   "cell_type": "code",
   "execution_count": 30,
   "metadata": {},
   "outputs": [
    {
     "data": {
      "text/plain": [
       "90000"
      ]
     },
     "execution_count": 30,
     "metadata": {},
     "output_type": "execute_result"
    }
   ],
   "source": [
    "(ranks_corr == expression_corr).sum().sum()"
   ]
  },
  {
   "cell_type": "markdown",
   "metadata": {},
   "source": [
    "### Make a heatmap!!\n",
    "\n",
    "Now we are ready to make a clustered heatmap! We'll use `seaborn`'s `sns.clustermap`. Let's read the documentation for `sns.clustermap`. What is the default distance metric and linkage method?"
   ]
  },
  {
   "cell_type": "code",
   "execution_count": 31,
   "metadata": {
    "collapsed": true
   },
   "outputs": [],
   "source": [
    "sns.clustermap?"
   ]
  },
  {
   "cell_type": "markdown",
   "metadata": {},
   "source": [
    "\n",
    "### Exercise 7\n",
    "\n",
    "Now run `sns.clustermap` on either the ranks or expression correlation matrices, since they are equal :)"
   ]
  },
  {
   "cell_type": "code",
   "execution_count": 32,
   "metadata": {
    "collapsed": true
   },
   "outputs": [],
   "source": [
    "# YOUR CODE HERE"
   ]
  },
  {
   "cell_type": "markdown",
   "metadata": {},
   "source": [
    "![](figures/dont_scroll.svg)"
   ]
  },
  {
   "cell_type": "code",
   "execution_count": 33,
   "metadata": {},
   "outputs": [
    {
     "name": "stderr",
     "output_type": "stream",
     "text": [
      "/Users/olgabot/anaconda3/envs/cshl-sca-2017/lib/python3.6/site-packages/matplotlib/cbook.py:136: MatplotlibDeprecationWarning: The axisbg attribute was deprecated in version 2.0. Use facecolor instead.\n",
      "  warnings.warn(message, mplDeprecation, stacklevel=1)\n"
     ]
    },
    {
     "data": {
      "text/plain": [
       "<seaborn.matrix.ClusterGrid at 0x10857d438>"
      ]
     },
     "execution_count": 33,
     "metadata": {},
     "output_type": "execute_result"
    }
   ],
   "source": [
    "sns.clustermap(expression_corr)"
   ]
  },
  {
   "cell_type": "markdown",
   "metadata": {},
   "source": [
    "How can we add the colors labeling the rows and columns? Check the documentation for `sns.clustermap` again:\n",
    "\n",
    "### Exercise 8"
   ]
  },
  {
   "cell_type": "code",
   "execution_count": 34,
   "metadata": {
    "collapsed": true
   },
   "outputs": [],
   "source": [
    "# YOUR CODE HERE"
   ]
  },
  {
   "cell_type": "markdown",
   "metadata": {},
   "source": [
    "![](figures/dont_scroll.svg)"
   ]
  },
  {
   "cell_type": "code",
   "execution_count": 35,
   "metadata": {
    "collapsed": true
   },
   "outputs": [],
   "source": [
    "sns.clustermap?"
   ]
  },
  {
   "cell_type": "markdown",
   "metadata": {},
   "source": [
    "Since I am not a color design expert, I defer to color design experts in choosing my color palettes. One such expert is Cynthia Brewer, who made a [ColorBrewer](http://colorbrewer2.org/#type=sequential&scheme=BuGn&n=3) (hah!) list of color maps for both increasing quantity (shades), and for categories (differing colors).\n",
    "\n",
    "As a reference, I like using [this demo of every ColorBrewer scale](https://bl.ocks.org/mbostock/5577023). Hover over the palette to see its name.\n",
    "\n",
    "\n",
    "Thankfully, `seaborn` has the ColorBrewer color maps built-in. Let's see what this output is\n",
    "\n",
    "Remember -- we never make a variable without looking at it first!!"
   ]
  },
  {
   "cell_type": "code",
   "execution_count": 36,
   "metadata": {},
   "outputs": [
    {
     "data": {
      "text/plain": [
       "[(0.49803921568627452, 0.78823529411764703, 0.49803921568627452),\n",
       " (0.74509803921568629, 0.68235294117647061, 0.83137254901960789),\n",
       " (0.99215686274509807, 0.75294117647058822, 0.52549019607843139),\n",
       " (1.0, 1.0, 0.59999999999999998),\n",
       " (0.2196078431372549, 0.42352941176470588, 0.69019607843137254),\n",
       " (0.94117647058823528, 0.0078431372549019607, 0.49803921568627452)]"
      ]
     },
     "execution_count": 36,
     "metadata": {},
     "output_type": "execute_result"
    }
   ],
   "source": [
    "palette = sns.color_palette('Accent')\n",
    "palette"
   ]
  },
  {
   "cell_type": "markdown",
   "metadata": {},
   "source": [
    "Huh that's a bunch of weird numbers. What do they mean? Turns out it's a value from 0 to 1 representing the red, green, and blue (RGB) color channels that computers understand. But I'm not a computer .... what am I supposed to do??\n",
    "\n",
    "Turns out, `seaborn` also has a very convenient function called `palplot` to plot the entire palette. This lets us look at the variable without having to convert from RGB"
   ]
  },
  {
   "cell_type": "code",
   "execution_count": 39,
   "metadata": {},
   "outputs": [
    {
     "data": {
      "image/png": "[encoded data removed]",
      "text/plain": [
       "<matplotlib.figure.Figure at 0x11492b208>"
      ]
     },
     "metadata": {},
     "output_type": "display_data"
    }
   ],
   "source": [
    "sns.palplot(palette)"
   ]
  },
  {
   "cell_type": "markdown",
   "metadata": {},
   "source": [
    "### Exercise 9\n",
    "\n",
    "* Get the color palette for the \"Set2\" colormap and specify that you want 5 colors (read the documentation of `sns.color_palette`\n",
    "* Plot the color palette"
   ]
  },
  {
   "cell_type": "code",
   "execution_count": 40,
   "metadata": {
    "collapsed": true
   },
   "outputs": [],
   "source": [
    "# YOUR CODE HERE"
   ]
  },
  {
   "cell_type": "code",
   "execution_count": 41,
   "metadata": {
    "collapsed": true
   },
   "outputs": [],
   "source": [
    "# YOUR CODE HERE"
   ]
  },
  {
   "cell_type": "markdown",
   "metadata": {},
   "source": [
    "![](figures/dont_scroll.svg)"
   ]
  },
  {
   "cell_type": "code",
   "execution_count": 42,
   "metadata": {},
   "outputs": [
    {
     "data": {
      "image/png": "[encoded data removed]",
      "text/plain": [
       "<matplotlib.figure.Figure at 0x114c7a390>"
      ]
     },
     "metadata": {},
     "output_type": "display_data"
    }
   ],
   "source": [
    "set2 = sns.color_palette('Set2', n_colors=5)\n",
    "sns.palplot(set2)"
   ]
  },
  {
   "cell_type": "markdown",
   "metadata": {},
   "source": [
    "If you are more advanced and want access to more colormaps, I recommend checking out [`palettable`](https://jiffyclub.github.io/palettable/).\n",
    "\n",
    "## Assign colors to clusters\n",
    "\n",
    "To set a specific color to each cluster, we'll need to see the unique clusters here. For an individual column (called a \"Series\" in pandas-speak), how can we get only the unique items?\n",
    "\n",
    "### Exercise 10\n",
    "\n",
    "Get the unique values from the column `\"cluster_celltype_with_id\"`. Remember, always look at the variable you created!"
   ]
  },
  {
   "cell_type": "code",
   "execution_count": 43,
   "metadata": {
    "collapsed": true
   },
   "outputs": [],
   "source": [
    "# YOUR CODE HERE"
   ]
  },
  {
   "cell_type": "markdown",
   "metadata": {},
   "source": [
    "![](figures/dont_scroll.svg)"
   ]
  },
  {
   "cell_type": "code",
   "execution_count": 44,
   "metadata": {},
   "outputs": [
    {
     "data": {
      "text/plain": [
       "array(['Rods (cluster_24)', 'Cones (cluster_25)',\n",
       "       'Bipolar cells (cluster_26)', 'Bipolar cells (cluster_27)',\n",
       "       'Bipolar cells (cluster_33)', 'Muller glia (cluster_34)'], dtype=object)"
      ]
     },
     "execution_count": 44,
     "metadata": {},
     "output_type": "execute_result"
    }
   ],
   "source": [
    "cluster_ids_unique = cell_metadata['cluster_celltype_with_id'].unique()\n",
    "cluster_ids_unique"
   ]
  },
  {
   "cell_type": "markdown",
   "metadata": {},
   "source": [
    "## Detour: `zip` and `dict`\n",
    "\n",
    "To map colors to each cluster name, we need to talk about some built-in functions in Python, called `zip` and `dict`\n",
    "\n",
    "For this next part, we'll use the built-in function `zip` which is very useful. It acts like a *zipper* (like for clothes) to glue together the pairs of items in two lists:\n"
   ]
  },
  {
   "cell_type": "code",
   "execution_count": 70,
   "metadata": {},
   "outputs": [
    {
     "data": {
      "text/plain": [
       "<zip at 0x114d2f908>"
      ]
     },
     "execution_count": 70,
     "metadata": {},
     "output_type": "execute_result"
    }
   ],
   "source": [
    "english = [\"hello\", \"goodbye\", \"no\", \"yes\", \"please\", \"thank you\",]\n",
    "spanish = [\"hola\", \"adios\", \"no\", \"si\", \"por favor\", \"gracias\"]\n",
    "zip(english, spanish)"
   ]
  },
  {
   "cell_type": "markdown",
   "metadata": {},
   "source": [
    "To be memory efficient, this doesn't show us what's inside right away. To look inside a `zip` object, we can use `list`:"
   ]
  },
  {
   "cell_type": "code",
   "execution_count": 71,
   "metadata": {},
   "outputs": [
    {
     "data": {
      "text/plain": [
       "[('hello', 'hola'),\n",
       " ('goodbye', 'adios'),\n",
       " ('no', 'no'),\n",
       " ('yes', 'si'),\n",
       " ('please', 'por favor'),\n",
       " ('thank you', 'gracias')]"
      ]
     },
     "execution_count": 71,
     "metadata": {},
     "output_type": "execute_result"
    }
   ],
   "source": [
    "list(zip(english, spanish))"
   ]
  },
  {
   "cell_type": "markdown",
   "metadata": {},
   "source": [
    "### Exercise 11\n",
    "\n",
    "What happened to  \"please\" and \"thank you\" from `english`? Make another list, called `spanish2`, that contains the Spanish words for \"please\" and \"thank you\" (again, google knows everything), then call `zip` on `english` and `spanish2`. Don't forget to use `list` on them!"
   ]
  },
  {
   "cell_type": "code",
   "execution_count": 72,
   "metadata": {
    "collapsed": true
   },
   "outputs": [],
   "source": [
    "# YOUR CODE HERE"
   ]
  },
  {
   "cell_type": "markdown",
   "metadata": {},
   "source": [
    "![](figures/dont_scroll.svg)"
   ]
  },
  {
   "cell_type": "code",
   "execution_count": 73,
   "metadata": {},
   "outputs": [
    {
     "data": {
      "text/plain": [
       "[('hello', 'hola'),\n",
       " ('goodbye', 'adios'),\n",
       " ('no', 'no'),\n",
       " ('yes', 'si'),\n",
       " ('please', 'por favor'),\n",
       " ('thank you', 'gracias')]"
      ]
     },
     "execution_count": 73,
     "metadata": {},
     "output_type": "execute_result"
    }
   ],
   "source": [
    "english = [\"hello\", \"goodbye\", \"no\", \"yes\", \"please\", \"thank you\",]\n",
    "spanish = [\"hola\", \"adios\", \"no\", \"si\", \"por favor\", \"gracias\"]\n",
    "list(zip(english, spanish))"
   ]
  },
  {
   "cell_type": "markdown",
   "metadata": {},
   "source": [
    "Now we'll use a dictionary `dict` to make a lookup table that uses the pairing made by `zip`, using the first item as the \"key\" (what you use to look up) and the second item as the \"value\" (the result of the lookup)\n",
    "\n",
    "You can think of it as a translator -- use the word in English to look up the word in Spanish."
   ]
  },
  {
   "cell_type": "code",
   "execution_count": 76,
   "metadata": {},
   "outputs": [
    {
     "data": {
      "text/plain": [
       "{'goodbye': 'adios',\n",
       " 'hello': 'hola',\n",
       " 'no': 'no',\n",
       " 'please': 'por favor',\n",
       " 'thank you': 'gracias',\n",
       " 'yes': 'si'}"
      ]
     },
     "execution_count": 76,
     "metadata": {},
     "output_type": "execute_result"
    }
   ],
   "source": [
    "english_to_spanish = dict(zip(english, spanish))\n",
    "english_to_spanish"
   ]
  },
  {
   "cell_type": "markdown",
   "metadata": {},
   "source": [
    "Now we can use English words to look up the word in Spanish! We use the square brackets and the english word we want to use, to look up the spanish word."
   ]
  },
  {
   "cell_type": "code",
   "execution_count": 77,
   "metadata": {},
   "outputs": [
    {
     "data": {
      "text/plain": [
       "'hola'"
      ]
     },
     "execution_count": 77,
     "metadata": {},
     "output_type": "execute_result"
    }
   ],
   "source": [
    "english_to_spanish['hello']"
   ]
  },
  {
   "cell_type": "markdown",
   "metadata": {},
   "source": [
    "### Exercise 12\n",
    "\n",
    "Make an `spanish_to_english` dictionary and look up the English word for \"por favor\""
   ]
  },
  {
   "cell_type": "code",
   "execution_count": 83,
   "metadata": {
    "collapsed": true
   },
   "outputs": [],
   "source": [
    "# YOUR CODE HERE"
   ]
  },
  {
   "cell_type": "markdown",
   "metadata": {},
   "source": [
    "![](figures/dont_scroll.svg)"
   ]
  },
  {
   "cell_type": "code",
   "execution_count": 81,
   "metadata": {},
   "outputs": [
    {
     "data": {
      "text/plain": [
       "'please'"
      ]
     },
     "execution_count": 81,
     "metadata": {},
     "output_type": "execute_result"
    }
   ],
   "source": [
    "spanish_to_english = dict(zip(spanish, english))\n",
    "spanish_to_english['por favor']"
   ]
  },
  {
   "cell_type": "markdown",
   "metadata": {},
   "source": [
    "Okay, detour over! Switching from linguistics back to biology :)\n",
    "\n",
    "### Exercise 13\n",
    "\n",
    "Use `dict` and `zip` to create a variable called `id_to_color` that assigns labels in `cluster_ids_unique` to a color in `set2`"
   ]
  },
  {
   "cell_type": "code",
   "execution_count": 84,
   "metadata": {
    "collapsed": true
   },
   "outputs": [],
   "source": [
    "# YOUR CODE HERE"
   ]
  },
  {
   "cell_type": "markdown",
   "metadata": {},
   "source": [
    "![](figures/dont_scroll.svg)"
   ]
  },
  {
   "cell_type": "code",
   "execution_count": 82,
   "metadata": {},
   "outputs": [
    {
     "data": {
      "text/plain": [
       "{'Bipolar cells (cluster_26)': (0.55294117647058827,\n",
       "  0.62745098039215685,\n",
       "  0.79607843137254897),\n",
       " 'Bipolar cells (cluster_27)': (0.90588235294117647,\n",
       "  0.54117647058823526,\n",
       "  0.76470588235294112),\n",
       " 'Bipolar cells (cluster_33)': (0.65098039215686276,\n",
       "  0.84705882352941175,\n",
       "  0.32941176470588235),\n",
       " 'Cones (cluster_25)': (0.9882352941176471,\n",
       "  0.55294117647058827,\n",
       "  0.3843137254901961),\n",
       " 'Rods (cluster_24)': (0.40000000000000002,\n",
       "  0.76078431372549016,\n",
       "  0.6470588235294118)}"
      ]
     },
     "execution_count": 82,
     "metadata": {},
     "output_type": "execute_result"
    }
   ],
   "source": [
    "id_to_color = dict(zip(cluster_ids_unique, set2))\n",
    "id_to_color"
   ]
  },
  {
   "cell_type": "code",
   "execution_count": null,
   "metadata": {
    "collapsed": true
   },
   "outputs": [],
   "source": []
  },
  {
   "cell_type": "markdown",
   "metadata": {},
   "source": [
    "### Exercise XX\n",
    "\n"
   ]
  },
  {
   "cell_type": "code",
   "execution_count": null,
   "metadata": {
    "collapsed": true
   },
   "outputs": [],
   "source": [
    "cluster_colors = [id_to_color[i] for i in cell_metadata['cluster_celltype_with_id']]\n",
    "cluster_colors"
   ]
  },
  {
   "cell_type": "markdown",
   "metadata": {},
   "source": [
    "### Exercise XX\n",
    "\n",
    "Now use the cluster colors to label the rows and columns in `sns.clustermap`. How can "
   ]
  },
  {
   "cell_type": "code",
   "execution_count": 49,
   "metadata": {
    "collapsed": true
   },
   "outputs": [],
   "source": [
    "# YOUR CODE HERE"
   ]
  },
  {
   "cell_type": "code",
   "execution_count": null,
   "metadata": {
    "collapsed": true
   },
   "outputs": [],
   "source": [
    "![](figures/dont_scroll.svg)"
   ]
  },
  {
   "cell_type": "code",
   "execution_count": null,
   "metadata": {
    "collapsed": true
   },
   "outputs": [],
   "source": [
    "sns.clustermap(expression_corr, row_labels=cluster_colors, col_colors=cluster_colors)"
   ]
  }
 ],
 "metadata": {
  "kernelspec": {
   "display_name": "Python 3 (cshl-sca-2017)",
   "language": "python",
   "name": "cshl-sca-2017"
  },
  "language_info": {
   "codemirror_mode": {
    "name": "ipython",
    "version": 3
   },
   "file_extension": ".py",
   "mimetype": "text/x-python",
   "name": "python",
   "nbconvert_exporter": "python",
   "pygments_lexer": "ipython3",
   "version": "3.6.1"
  }
 },
 "nbformat": 4,
 "nbformat_minor": 1
}
