{
 "cells": [
  {
   "cell_type": "code",
   "execution_count": 4,
   "metadata": {},
   "outputs": [
    {
     "data": {
      "text/plain": [
       "'1.0.0'"
      ]
     },
     "execution_count": 4,
     "metadata": {},
     "output_type": "execute_result"
    }
   ],
   "source": [
    "import macosko2015\n",
    "macosko2015.__version__"
   ]
  },
  {
   "cell_type": "code",
   "execution_count": 3,
   "metadata": {},
   "outputs": [
    {
     "ename": "FileNotFoundError",
     "evalue": "File b'/Users/olgabot/anaconda3/envs/cshl-sca-2017/lib/python3.6/site-packages/macosko2015/data/05_make_rentina_subsets_for_teaching/amacrine_expression.csv' does not exist",
     "output_type": "error",
     "traceback": [
      "\u001b[0;31m---------------------------------------------------------------------------\u001b[0m",
      "\u001b[0;31mFileNotFoundError\u001b[0m                         Traceback (most recent call last)",
      "\u001b[0;32m<ipython-input-3-50a2e486a6a4>\u001b[0m in \u001b[0;36m<module>\u001b[0;34m()\u001b[0m\n\u001b[0;32m----> 1\u001b[0;31m \u001b[0mmacosko2015\u001b[0m\u001b[0;34m.\u001b[0m\u001b[0mload_amacrine\u001b[0m\u001b[0;34m(\u001b[0m\u001b[0;34m)\u001b[0m\u001b[0;34m\u001b[0m\u001b[0m\n\u001b[0m",
      "\u001b[0;32m~/anaconda3/envs/cshl-sca-2017/lib/python3.6/site-packages/macosko2015/main.py\u001b[0m in \u001b[0;36mload_amacrine\u001b[0;34m(format)\u001b[0m\n\u001b[1;32m     57\u001b[0m     \u001b[0;32mif\u001b[0m \u001b[0mformat\u001b[0m \u001b[0;34m==\u001b[0m \u001b[0;34m'pandas'\u001b[0m\u001b[0;34m:\u001b[0m\u001b[0;34m\u001b[0m\u001b[0m\n\u001b[1;32m     58\u001b[0m         expression = pd.read_csv(\n\u001b[0;32m---> 59\u001b[0;31m             os.path.join(folder, 'amacrine_expression.csv'))\n\u001b[0m\u001b[1;32m     60\u001b[0m         cell_metadata = pd.read_csv(\n\u001b[1;32m     61\u001b[0m             os.path.join(folder, 'amacrine_cell_metadata.csv'))\n",
      "\u001b[0;32m~/anaconda3/envs/cshl-sca-2017/lib/python3.6/site-packages/pandas/io/parsers.py\u001b[0m in \u001b[0;36mparser_f\u001b[0;34m(filepath_or_buffer, sep, delimiter, header, names, index_col, usecols, squeeze, prefix, mangle_dupe_cols, dtype, engine, converters, true_values, false_values, skipinitialspace, skiprows, nrows, na_values, keep_default_na, na_filter, verbose, skip_blank_lines, parse_dates, infer_datetime_format, keep_date_col, date_parser, dayfirst, iterator, chunksize, compression, thousands, decimal, lineterminator, quotechar, quoting, escapechar, comment, encoding, dialect, tupleize_cols, error_bad_lines, warn_bad_lines, skipfooter, skip_footer, doublequote, delim_whitespace, as_recarray, compact_ints, use_unsigned, low_memory, buffer_lines, memory_map, float_precision)\u001b[0m\n\u001b[1;32m    653\u001b[0m                     skip_blank_lines=skip_blank_lines)\n\u001b[1;32m    654\u001b[0m \u001b[0;34m\u001b[0m\u001b[0m\n\u001b[0;32m--> 655\u001b[0;31m         \u001b[0;32mreturn\u001b[0m \u001b[0m_read\u001b[0m\u001b[0;34m(\u001b[0m\u001b[0mfilepath_or_buffer\u001b[0m\u001b[0;34m,\u001b[0m \u001b[0mkwds\u001b[0m\u001b[0;34m)\u001b[0m\u001b[0;34m\u001b[0m\u001b[0m\n\u001b[0m\u001b[1;32m    656\u001b[0m \u001b[0;34m\u001b[0m\u001b[0m\n\u001b[1;32m    657\u001b[0m     \u001b[0mparser_f\u001b[0m\u001b[0;34m.\u001b[0m\u001b[0m__name__\u001b[0m \u001b[0;34m=\u001b[0m \u001b[0mname\u001b[0m\u001b[0;34m\u001b[0m\u001b[0m\n",
      "\u001b[0;32m~/anaconda3/envs/cshl-sca-2017/lib/python3.6/site-packages/pandas/io/parsers.py\u001b[0m in \u001b[0;36m_read\u001b[0;34m(filepath_or_buffer, kwds)\u001b[0m\n\u001b[1;32m    403\u001b[0m \u001b[0;34m\u001b[0m\u001b[0m\n\u001b[1;32m    404\u001b[0m     \u001b[0;31m# Create the parser.\u001b[0m\u001b[0;34m\u001b[0m\u001b[0;34m\u001b[0m\u001b[0m\n\u001b[0;32m--> 405\u001b[0;31m     \u001b[0mparser\u001b[0m \u001b[0;34m=\u001b[0m \u001b[0mTextFileReader\u001b[0m\u001b[0;34m(\u001b[0m\u001b[0mfilepath_or_buffer\u001b[0m\u001b[0;34m,\u001b[0m \u001b[0;34m**\u001b[0m\u001b[0mkwds\u001b[0m\u001b[0;34m)\u001b[0m\u001b[0;34m\u001b[0m\u001b[0m\n\u001b[0m\u001b[1;32m    406\u001b[0m \u001b[0;34m\u001b[0m\u001b[0m\n\u001b[1;32m    407\u001b[0m     \u001b[0;32mif\u001b[0m \u001b[0mchunksize\u001b[0m \u001b[0;32mor\u001b[0m \u001b[0miterator\u001b[0m\u001b[0;34m:\u001b[0m\u001b[0;34m\u001b[0m\u001b[0m\n",
      "\u001b[0;32m~/anaconda3/envs/cshl-sca-2017/lib/python3.6/site-packages/pandas/io/parsers.py\u001b[0m in \u001b[0;36m__init__\u001b[0;34m(self, f, engine, **kwds)\u001b[0m\n\u001b[1;32m    762\u001b[0m             \u001b[0mself\u001b[0m\u001b[0;34m.\u001b[0m\u001b[0moptions\u001b[0m\u001b[0;34m[\u001b[0m\u001b[0;34m'has_index_names'\u001b[0m\u001b[0;34m]\u001b[0m \u001b[0;34m=\u001b[0m \u001b[0mkwds\u001b[0m\u001b[0;34m[\u001b[0m\u001b[0;34m'has_index_names'\u001b[0m\u001b[0;34m]\u001b[0m\u001b[0;34m\u001b[0m\u001b[0m\n\u001b[1;32m    763\u001b[0m \u001b[0;34m\u001b[0m\u001b[0m\n\u001b[0;32m--> 764\u001b[0;31m         \u001b[0mself\u001b[0m\u001b[0;34m.\u001b[0m\u001b[0m_make_engine\u001b[0m\u001b[0;34m(\u001b[0m\u001b[0mself\u001b[0m\u001b[0;34m.\u001b[0m\u001b[0mengine\u001b[0m\u001b[0;34m)\u001b[0m\u001b[0;34m\u001b[0m\u001b[0m\n\u001b[0m\u001b[1;32m    765\u001b[0m \u001b[0;34m\u001b[0m\u001b[0m\n\u001b[1;32m    766\u001b[0m     \u001b[0;32mdef\u001b[0m \u001b[0mclose\u001b[0m\u001b[0;34m(\u001b[0m\u001b[0mself\u001b[0m\u001b[0;34m)\u001b[0m\u001b[0;34m:\u001b[0m\u001b[0;34m\u001b[0m\u001b[0m\n",
      "\u001b[0;32m~/anaconda3/envs/cshl-sca-2017/lib/python3.6/site-packages/pandas/io/parsers.py\u001b[0m in \u001b[0;36m_make_engine\u001b[0;34m(self, engine)\u001b[0m\n\u001b[1;32m    983\u001b[0m     \u001b[0;32mdef\u001b[0m \u001b[0m_make_engine\u001b[0m\u001b[0;34m(\u001b[0m\u001b[0mself\u001b[0m\u001b[0;34m,\u001b[0m \u001b[0mengine\u001b[0m\u001b[0;34m=\u001b[0m\u001b[0;34m'c'\u001b[0m\u001b[0;34m)\u001b[0m\u001b[0;34m:\u001b[0m\u001b[0;34m\u001b[0m\u001b[0m\n\u001b[1;32m    984\u001b[0m         \u001b[0;32mif\u001b[0m \u001b[0mengine\u001b[0m \u001b[0;34m==\u001b[0m \u001b[0;34m'c'\u001b[0m\u001b[0;34m:\u001b[0m\u001b[0;34m\u001b[0m\u001b[0m\n\u001b[0;32m--> 985\u001b[0;31m             \u001b[0mself\u001b[0m\u001b[0;34m.\u001b[0m\u001b[0m_engine\u001b[0m \u001b[0;34m=\u001b[0m \u001b[0mCParserWrapper\u001b[0m\u001b[0;34m(\u001b[0m\u001b[0mself\u001b[0m\u001b[0;34m.\u001b[0m\u001b[0mf\u001b[0m\u001b[0;34m,\u001b[0m \u001b[0;34m**\u001b[0m\u001b[0mself\u001b[0m\u001b[0;34m.\u001b[0m\u001b[0moptions\u001b[0m\u001b[0;34m)\u001b[0m\u001b[0;34m\u001b[0m\u001b[0m\n\u001b[0m\u001b[1;32m    986\u001b[0m         \u001b[0;32melse\u001b[0m\u001b[0;34m:\u001b[0m\u001b[0;34m\u001b[0m\u001b[0m\n\u001b[1;32m    987\u001b[0m             \u001b[0;32mif\u001b[0m \u001b[0mengine\u001b[0m \u001b[0;34m==\u001b[0m \u001b[0;34m'python'\u001b[0m\u001b[0;34m:\u001b[0m\u001b[0;34m\u001b[0m\u001b[0m\n",
      "\u001b[0;32m~/anaconda3/envs/cshl-sca-2017/lib/python3.6/site-packages/pandas/io/parsers.py\u001b[0m in \u001b[0;36m__init__\u001b[0;34m(self, src, **kwds)\u001b[0m\n\u001b[1;32m   1603\u001b[0m         \u001b[0mkwds\u001b[0m\u001b[0;34m[\u001b[0m\u001b[0;34m'allow_leading_cols'\u001b[0m\u001b[0;34m]\u001b[0m \u001b[0;34m=\u001b[0m \u001b[0mself\u001b[0m\u001b[0;34m.\u001b[0m\u001b[0mindex_col\u001b[0m \u001b[0;32mis\u001b[0m \u001b[0;32mnot\u001b[0m \u001b[0;32mFalse\u001b[0m\u001b[0;34m\u001b[0m\u001b[0m\n\u001b[1;32m   1604\u001b[0m \u001b[0;34m\u001b[0m\u001b[0m\n\u001b[0;32m-> 1605\u001b[0;31m         \u001b[0mself\u001b[0m\u001b[0;34m.\u001b[0m\u001b[0m_reader\u001b[0m \u001b[0;34m=\u001b[0m \u001b[0mparsers\u001b[0m\u001b[0;34m.\u001b[0m\u001b[0mTextReader\u001b[0m\u001b[0;34m(\u001b[0m\u001b[0msrc\u001b[0m\u001b[0;34m,\u001b[0m \u001b[0;34m**\u001b[0m\u001b[0mkwds\u001b[0m\u001b[0;34m)\u001b[0m\u001b[0;34m\u001b[0m\u001b[0m\n\u001b[0m\u001b[1;32m   1606\u001b[0m \u001b[0;34m\u001b[0m\u001b[0m\n\u001b[1;32m   1607\u001b[0m         \u001b[0;31m# XXX\u001b[0m\u001b[0;34m\u001b[0m\u001b[0;34m\u001b[0m\u001b[0m\n",
      "\u001b[0;32mpandas/_libs/parsers.pyx\u001b[0m in \u001b[0;36mpandas._libs.parsers.TextReader.__cinit__ (pandas/_libs/parsers.c:4209)\u001b[0;34m()\u001b[0m\n",
      "\u001b[0;32mpandas/_libs/parsers.pyx\u001b[0m in \u001b[0;36mpandas._libs.parsers.TextReader._setup_parser_source (pandas/_libs/parsers.c:8873)\u001b[0;34m()\u001b[0m\n",
      "\u001b[0;31mFileNotFoundError\u001b[0m: File b'/Users/olgabot/anaconda3/envs/cshl-sca-2017/lib/python3.6/site-packages/macosko2015/data/05_make_rentina_subsets_for_teaching/amacrine_expression.csv' does not exist"
     ]
    }
   ],
   "source": [
    "macosko2015.load_amacrine()"
   ]
  },
  {
   "cell_type": "code",
   "execution_count": null,
   "metadata": {
    "collapsed": true
   },
   "outputs": [],
   "source": [
    "import os\n",
    "import common\n",
    "\n",
    "# Assign notebook and folder names\n",
    "notebook_name = '02_robust_pca'\n",
    "figure_folder = os.path.join(common.FIGURE_FOLDER, notebook_name)\n",
    "data_folder = os.path.join(common.DATA_FOLDER, notebook_name)\n",
    "\n",
    "# Make the folders\n",
    "! mkdir -p $figure_folder\n",
    "! mkdir -p $data_folder"
   ]
  },
  {
   "cell_type": "code",
   "execution_count": 6,
   "metadata": {},
   "outputs": [
    {
     "name": "stdout",
     "output_type": "stream",
     "text": [
      "The autoreload extension is already loaded. To reload it, use:\n",
      "  %reload_ext autoreload\n"
     ]
    }
   ],
   "source": [
    "%load_ext autoreload\n",
    "%autoreload 2\n",
    "\n",
    "import numpy as np\n",
    "import matplotlib.pyplot as plt\n",
    "import pandas as pd\n",
    "import seaborn as sns\n",
    "%matplotlib inline"
   ]
  },
  {
   "cell_type": "code",
   "execution_count": 7,
   "metadata": {},
   "outputs": [
    {
     "name": "stdout",
     "output_type": "stream",
     "text": [
      "(20478, 6600)\n"
     ]
    },
    {
     "data": {
      "text/html": [
       "<div>\n",
       "<style>\n",
       "    .dataframe thead tr:only-child th {\n",
       "        text-align: right;\n",
       "    }\n",
       "\n",
       "    .dataframe thead th {\n",
       "        text-align: left;\n",
       "    }\n",
       "\n",
       "    .dataframe tbody tr th {\n",
       "        vertical-align: top;\n",
       "    }\n",
       "</style>\n",
       "<table border=\"1\" class=\"dataframe\">\n",
       "  <thead>\n",
       "    <tr style=\"text-align: right;\">\n",
       "      <th></th>\n",
       "      <th>GGCCGCAGTCCG</th>\n",
       "      <th>CTTGTGCGGGAA</th>\n",
       "      <th>GCGCAACTGCTC</th>\n",
       "      <th>GATTGGGAGGCA</th>\n",
       "      <th>CCTCCTAGTTGG</th>\n",
       "      <th>AGTCAAGCCCTC</th>\n",
       "      <th>GTGCCGCCTCTC</th>\n",
       "      <th>CCTGTGACACAC</th>\n",
       "      <th>AATCTCGTTAAT</th>\n",
       "      <th>GATTTCCTCTGA</th>\n",
       "      <th>...</th>\n",
       "      <th>GATTTAATGGTA</th>\n",
       "      <th>TGTAAGGATCCG</th>\n",
       "      <th>GAGTGGCTTGAT</th>\n",
       "      <th>GCATCTTTCAGG</th>\n",
       "      <th>ACACGAGTTTGG</th>\n",
       "      <th>CACCCAGTTTCG</th>\n",
       "      <th>CCTGGAGAGTTT</th>\n",
       "      <th>TCTTCACTCTTA</th>\n",
       "      <th>GCCGTCTTACTA</th>\n",
       "      <th>GACCAAACTAAT</th>\n",
       "    </tr>\n",
       "    <tr>\n",
       "      <th>gene</th>\n",
       "      <th></th>\n",
       "      <th></th>\n",
       "      <th></th>\n",
       "      <th></th>\n",
       "      <th></th>\n",
       "      <th></th>\n",
       "      <th></th>\n",
       "      <th></th>\n",
       "      <th></th>\n",
       "      <th></th>\n",
       "      <th></th>\n",
       "      <th></th>\n",
       "      <th></th>\n",
       "      <th></th>\n",
       "      <th></th>\n",
       "      <th></th>\n",
       "      <th></th>\n",
       "      <th></th>\n",
       "      <th></th>\n",
       "      <th></th>\n",
       "      <th></th>\n",
       "    </tr>\n",
       "  </thead>\n",
       "  <tbody>\n",
       "    <tr>\n",
       "      <th>10:100015630-100100413:Kitl</th>\n",
       "      <td>0</td>\n",
       "      <td>0</td>\n",
       "      <td>1</td>\n",
       "      <td>0</td>\n",
       "      <td>0</td>\n",
       "      <td>0</td>\n",
       "      <td>0</td>\n",
       "      <td>1</td>\n",
       "      <td>0</td>\n",
       "      <td>0</td>\n",
       "      <td>...</td>\n",
       "      <td>0</td>\n",
       "      <td>0</td>\n",
       "      <td>0</td>\n",
       "      <td>0</td>\n",
       "      <td>0</td>\n",
       "      <td>0</td>\n",
       "      <td>0</td>\n",
       "      <td>0</td>\n",
       "      <td>0</td>\n",
       "      <td>0</td>\n",
       "    </tr>\n",
       "    <tr>\n",
       "      <th>10:100443902-100487350:Tmtc3</th>\n",
       "      <td>3</td>\n",
       "      <td>0</td>\n",
       "      <td>0</td>\n",
       "      <td>0</td>\n",
       "      <td>2</td>\n",
       "      <td>0</td>\n",
       "      <td>1</td>\n",
       "      <td>1</td>\n",
       "      <td>0</td>\n",
       "      <td>0</td>\n",
       "      <td>...</td>\n",
       "      <td>0</td>\n",
       "      <td>0</td>\n",
       "      <td>0</td>\n",
       "      <td>0</td>\n",
       "      <td>0</td>\n",
       "      <td>0</td>\n",
       "      <td>0</td>\n",
       "      <td>0</td>\n",
       "      <td>0</td>\n",
       "      <td>0</td>\n",
       "    </tr>\n",
       "    <tr>\n",
       "      <th>10:100488289-100573655:Cep290</th>\n",
       "      <td>1</td>\n",
       "      <td>3</td>\n",
       "      <td>0</td>\n",
       "      <td>2</td>\n",
       "      <td>1</td>\n",
       "      <td>18</td>\n",
       "      <td>10</td>\n",
       "      <td>3</td>\n",
       "      <td>4</td>\n",
       "      <td>3</td>\n",
       "      <td>...</td>\n",
       "      <td>4</td>\n",
       "      <td>0</td>\n",
       "      <td>3</td>\n",
       "      <td>0</td>\n",
       "      <td>0</td>\n",
       "      <td>0</td>\n",
       "      <td>0</td>\n",
       "      <td>2</td>\n",
       "      <td>0</td>\n",
       "      <td>1</td>\n",
       "    </tr>\n",
       "    <tr>\n",
       "      <th>10:100572274-100589259:4930430F08Rik</th>\n",
       "      <td>2</td>\n",
       "      <td>1</td>\n",
       "      <td>2</td>\n",
       "      <td>0</td>\n",
       "      <td>1</td>\n",
       "      <td>1</td>\n",
       "      <td>0</td>\n",
       "      <td>1</td>\n",
       "      <td>1</td>\n",
       "      <td>1</td>\n",
       "      <td>...</td>\n",
       "      <td>0</td>\n",
       "      <td>0</td>\n",
       "      <td>0</td>\n",
       "      <td>0</td>\n",
       "      <td>0</td>\n",
       "      <td>0</td>\n",
       "      <td>0</td>\n",
       "      <td>0</td>\n",
       "      <td>0</td>\n",
       "      <td>0</td>\n",
       "    </tr>\n",
       "    <tr>\n",
       "      <th>10:100592386-100618391:1700017N19Rik</th>\n",
       "      <td>0</td>\n",
       "      <td>0</td>\n",
       "      <td>0</td>\n",
       "      <td>0</td>\n",
       "      <td>0</td>\n",
       "      <td>0</td>\n",
       "      <td>0</td>\n",
       "      <td>0</td>\n",
       "      <td>0</td>\n",
       "      <td>0</td>\n",
       "      <td>...</td>\n",
       "      <td>0</td>\n",
       "      <td>0</td>\n",
       "      <td>0</td>\n",
       "      <td>0</td>\n",
       "      <td>0</td>\n",
       "      <td>0</td>\n",
       "      <td>0</td>\n",
       "      <td>0</td>\n",
       "      <td>0</td>\n",
       "      <td>0</td>\n",
       "    </tr>\n",
       "  </tbody>\n",
       "</table>\n",
       "<p>5 rows × 6600 columns</p>\n",
       "</div>"
      ],
      "text/plain": [
       "                                      GGCCGCAGTCCG  CTTGTGCGGGAA  \\\n",
       "gene                                                               \n",
       "10:100015630-100100413:Kitl                      0             0   \n",
       "10:100443902-100487350:Tmtc3                     3             0   \n",
       "10:100488289-100573655:Cep290                    1             3   \n",
       "10:100572274-100589259:4930430F08Rik             2             1   \n",
       "10:100592386-100618391:1700017N19Rik             0             0   \n",
       "\n",
       "                                      GCGCAACTGCTC  GATTGGGAGGCA  \\\n",
       "gene                                                               \n",
       "10:100015630-100100413:Kitl                      1             0   \n",
       "10:100443902-100487350:Tmtc3                     0             0   \n",
       "10:100488289-100573655:Cep290                    0             2   \n",
       "10:100572274-100589259:4930430F08Rik             2             0   \n",
       "10:100592386-100618391:1700017N19Rik             0             0   \n",
       "\n",
       "                                      CCTCCTAGTTGG  AGTCAAGCCCTC  \\\n",
       "gene                                                               \n",
       "10:100015630-100100413:Kitl                      0             0   \n",
       "10:100443902-100487350:Tmtc3                     2             0   \n",
       "10:100488289-100573655:Cep290                    1            18   \n",
       "10:100572274-100589259:4930430F08Rik             1             1   \n",
       "10:100592386-100618391:1700017N19Rik             0             0   \n",
       "\n",
       "                                      GTGCCGCCTCTC  CCTGTGACACAC  \\\n",
       "gene                                                               \n",
       "10:100015630-100100413:Kitl                      0             1   \n",
       "10:100443902-100487350:Tmtc3                     1             1   \n",
       "10:100488289-100573655:Cep290                   10             3   \n",
       "10:100572274-100589259:4930430F08Rik             0             1   \n",
       "10:100592386-100618391:1700017N19Rik             0             0   \n",
       "\n",
       "                                      AATCTCGTTAAT  GATTTCCTCTGA  \\\n",
       "gene                                                               \n",
       "10:100015630-100100413:Kitl                      0             0   \n",
       "10:100443902-100487350:Tmtc3                     0             0   \n",
       "10:100488289-100573655:Cep290                    4             3   \n",
       "10:100572274-100589259:4930430F08Rik             1             1   \n",
       "10:100592386-100618391:1700017N19Rik             0             0   \n",
       "\n",
       "                                          ...       GATTTAATGGTA  \\\n",
       "gene                                      ...                      \n",
       "10:100015630-100100413:Kitl               ...                  0   \n",
       "10:100443902-100487350:Tmtc3              ...                  0   \n",
       "10:100488289-100573655:Cep290             ...                  4   \n",
       "10:100572274-100589259:4930430F08Rik      ...                  0   \n",
       "10:100592386-100618391:1700017N19Rik      ...                  0   \n",
       "\n",
       "                                      TGTAAGGATCCG  GAGTGGCTTGAT  \\\n",
       "gene                                                               \n",
       "10:100015630-100100413:Kitl                      0             0   \n",
       "10:100443902-100487350:Tmtc3                     0             0   \n",
       "10:100488289-100573655:Cep290                    0             3   \n",
       "10:100572274-100589259:4930430F08Rik             0             0   \n",
       "10:100592386-100618391:1700017N19Rik             0             0   \n",
       "\n",
       "                                      GCATCTTTCAGG  ACACGAGTTTGG  \\\n",
       "gene                                                               \n",
       "10:100015630-100100413:Kitl                      0             0   \n",
       "10:100443902-100487350:Tmtc3                     0             0   \n",
       "10:100488289-100573655:Cep290                    0             0   \n",
       "10:100572274-100589259:4930430F08Rik             0             0   \n",
       "10:100592386-100618391:1700017N19Rik             0             0   \n",
       "\n",
       "                                      CACCCAGTTTCG  CCTGGAGAGTTT  \\\n",
       "gene                                                               \n",
       "10:100015630-100100413:Kitl                      0             0   \n",
       "10:100443902-100487350:Tmtc3                     0             0   \n",
       "10:100488289-100573655:Cep290                    0             0   \n",
       "10:100572274-100589259:4930430F08Rik             0             0   \n",
       "10:100592386-100618391:1700017N19Rik             0             0   \n",
       "\n",
       "                                      TCTTCACTCTTA  GCCGTCTTACTA  GACCAAACTAAT  \n",
       "gene                                                                            \n",
       "10:100015630-100100413:Kitl                      0             0             0  \n",
       "10:100443902-100487350:Tmtc3                     0             0             0  \n",
       "10:100488289-100573655:Cep290                    2             0             1  \n",
       "10:100572274-100589259:4930430F08Rik             0             0             0  \n",
       "10:100592386-100618391:1700017N19Rik             0             0             0  \n",
       "\n",
       "[5 rows x 6600 columns]"
      ]
     },
     "execution_count": 7,
     "metadata": {},
     "output_type": "execute_result"
    }
   ],
   "source": [
    "table1 = pd.read_table('/Users/olgabot/Downloads/GSE63473_RAW/GSM1626793_P14Retina_1.digital_expression.txt.gz', \n",
    "                       compression='gzip', index_col=0)\n",
    "print(table1.shape)\n",
    "table1.head()"
   ]
  },
  {
   "cell_type": "code",
   "execution_count": 8,
   "metadata": {},
   "outputs": [
    {
     "data": {
      "text/plain": [
       "<matplotlib.axes._subplots.AxesSubplot at 0x116137438>"
      ]
     },
     "execution_count": 8,
     "metadata": {},
     "output_type": "execute_result"
    },
    {
     "data": {
      "image/png": "[encoded data removed]",
      "text/plain": [
       "<matplotlib.figure.Figure at 0x116137e10>"
      ]
     },
     "metadata": {},
     "output_type": "display_data"
    }
   ],
   "source": [
    "data = table1.values\n",
    "mask = data > 5\n",
    "\n",
    "sns.distplot(data[mask].flat, kde=False)"
   ]
  },
  {
   "cell_type": "code",
   "execution_count": 9,
   "metadata": {},
   "outputs": [
    {
     "data": {
      "image/png": "[encoded data removed]",
      "text/plain": [
       "<matplotlib.figure.Figure at 0x11dae4cc0>"
      ]
     },
     "metadata": {},
     "output_type": "display_data"
    }
   ],
   "source": [
    "mask = table1 == 0\n",
    "sns.heatmap(table1, xticklabels=[], yticklabels=[], mask=mask)\n",
    "fig = plt.gcf()\n",
    "fig.savefig('table1_heatmap.png')"
   ]
  },
  {
   "cell_type": "code",
   "execution_count": 10,
   "metadata": {},
   "outputs": [
    {
     "data": {
      "text/plain": [
       "GGCCGCAGTCCG    37519\n",
       "CTTGTGCGGGAA    32077\n",
       "GCGCAACTGCTC    28162\n",
       "GATTGGGAGGCA    20384\n",
       "CCTCCTAGTTGG    19571\n",
       "dtype: int64"
      ]
     },
     "execution_count": 10,
     "metadata": {},
     "output_type": "execute_result"
    }
   ],
   "source": [
    "n_transcripts_per_cell = table1.sum()\n",
    "n_transcripts_per_cell.head()"
   ]
  },
  {
   "cell_type": "code",
   "execution_count": 11,
   "metadata": {},
   "outputs": [
    {
     "data": {
      "text/plain": [
       "<matplotlib.axes._subplots.AxesSubplot at 0x11c13bd68>"
      ]
     },
     "execution_count": 11,
     "metadata": {},
     "output_type": "execute_result"
    },
    {
     "data": {
      "image/png": "[encoded data removed]",
      "text/plain": [
       "<matplotlib.figure.Figure at 0x1162fe7f0>"
      ]
     },
     "metadata": {},
     "output_type": "display_data"
    }
   ],
   "source": [
    "sns.distplot(n_transcripts_per_cell)"
   ]
  },
  {
   "cell_type": "code",
   "execution_count": 12,
   "metadata": {},
   "outputs": [
    {
     "data": {
      "text/plain": [
       "count     6600.000000\n",
       "mean      1332.358939\n",
       "std       1572.921791\n",
       "min        466.000000\n",
       "25%        578.000000\n",
       "50%        821.000000\n",
       "75%       1452.250000\n",
       "max      37519.000000\n",
       "dtype: float64"
      ]
     },
     "execution_count": 12,
     "metadata": {},
     "output_type": "execute_result"
    }
   ],
   "source": [
    "n_transcripts_per_cell.describe()"
   ]
  },
  {
   "cell_type": "code",
   "execution_count": 13,
   "metadata": {},
   "outputs": [
    {
     "data": {
      "text/plain": [
       "GGCCGCAGTCCG    7254\n",
       "CTTGTGCGGGAA    6945\n",
       "GCGCAACTGCTC    6404\n",
       "GATTGGGAGGCA    5751\n",
       "CCTCCTAGTTGG    5785\n",
       "dtype: int64"
      ]
     },
     "execution_count": 13,
     "metadata": {},
     "output_type": "execute_result"
    }
   ],
   "source": [
    "n_expressed_genes_per_cell = (table1 > 0).sum()\n",
    "n_expressed_genes_per_cell.head()"
   ]
  },
  {
   "cell_type": "code",
   "execution_count": 14,
   "metadata": {},
   "outputs": [
    {
     "data": {
      "text/plain": [
       "<matplotlib.axes._subplots.AxesSubplot at 0x120d0add8>"
      ]
     },
     "execution_count": 14,
     "metadata": {},
     "output_type": "execute_result"
    },
    {
     "data": {
      "image/png": "[encoded data removed]",
      "text/plain": [
       "<matplotlib.figure.Figure at 0x1162feb70>"
      ]
     },
     "metadata": {},
     "output_type": "display_data"
    }
   ],
   "source": [
    "sns.distplot(n_expressed_genes_per_cell)"
   ]
  },
  {
   "cell_type": "code",
   "execution_count": 15,
   "metadata": {},
   "outputs": [
    {
     "data": {
      "text/plain": [
       "23"
      ]
     },
     "execution_count": 15,
     "metadata": {},
     "output_type": "execute_result"
    }
   ],
   "source": [
    "greater500 = (table1 > 100).sum(axis=1) > 1\n",
    "greater500.sum()"
   ]
  },
  {
   "cell_type": "code",
   "execution_count": 16,
   "metadata": {},
   "outputs": [
    {
     "name": "stdout",
     "output_type": "stream",
     "text": [
      "(6600, 20478)\n"
     ]
    },
    {
     "data": {
      "text/html": [
       "<div>\n",
       "<style>\n",
       "    .dataframe thead tr:only-child th {\n",
       "        text-align: right;\n",
       "    }\n",
       "\n",
       "    .dataframe thead th {\n",
       "        text-align: left;\n",
       "    }\n",
       "\n",
       "    .dataframe tbody tr th {\n",
       "        vertical-align: top;\n",
       "    }\n",
       "</style>\n",
       "<table border=\"1\" class=\"dataframe\">\n",
       "  <thead>\n",
       "    <tr style=\"text-align: right;\">\n",
       "      <th>gene</th>\n",
       "      <th>10:100015630-100100413:Kitl</th>\n",
       "      <th>10:100443902-100487350:Tmtc3</th>\n",
       "      <th>10:100488289-100573655:Cep290</th>\n",
       "      <th>10:100572274-100589259:4930430F08Rik</th>\n",
       "      <th>10:100592386-100618391:1700017N19Rik</th>\n",
       "      <th>10:101681487-102391469:Mgat4c</th>\n",
       "      <th>10:102512222-102546560:Rassf9</th>\n",
       "      <th>10:103063198-103236322:Lrriq1</th>\n",
       "      <th>10:10335703-10472326:Adgb</th>\n",
       "      <th>10:103367808-103419378:Slc6a15</th>\n",
       "      <th>...</th>\n",
       "      <th>X:99136130-99148991:Efnb1</th>\n",
       "      <th>X:99465734-99471273:Pja1</th>\n",
       "      <th>X:99821021-99848790:Tmem28</th>\n",
       "      <th>X:99975606-100400762:Eda</th>\n",
       "      <th>Y:1010543-1028847:Eif2s3y</th>\n",
       "      <th>Y:10640942-10643315:Gm20775</th>\n",
       "      <th>Y:1096861-1245759:Uty</th>\n",
       "      <th>Y:1260715-1286613:Ddx3y</th>\n",
       "      <th>Y:897788-943811:Kdm5d</th>\n",
       "      <th>Y:991630-991748:n-R5s1</th>\n",
       "    </tr>\n",
       "  </thead>\n",
       "  <tbody>\n",
       "    <tr>\n",
       "      <th>GGCCGCAGTCCG</th>\n",
       "      <td>0</td>\n",
       "      <td>3</td>\n",
       "      <td>1</td>\n",
       "      <td>2</td>\n",
       "      <td>0</td>\n",
       "      <td>0</td>\n",
       "      <td>0</td>\n",
       "      <td>0</td>\n",
       "      <td>0</td>\n",
       "      <td>4</td>\n",
       "      <td>...</td>\n",
       "      <td>0</td>\n",
       "      <td>8</td>\n",
       "      <td>1</td>\n",
       "      <td>0</td>\n",
       "      <td>0</td>\n",
       "      <td>0</td>\n",
       "      <td>0</td>\n",
       "      <td>0</td>\n",
       "      <td>0</td>\n",
       "      <td>0</td>\n",
       "    </tr>\n",
       "    <tr>\n",
       "      <th>CTTGTGCGGGAA</th>\n",
       "      <td>0</td>\n",
       "      <td>0</td>\n",
       "      <td>3</td>\n",
       "      <td>1</td>\n",
       "      <td>0</td>\n",
       "      <td>0</td>\n",
       "      <td>0</td>\n",
       "      <td>0</td>\n",
       "      <td>0</td>\n",
       "      <td>1</td>\n",
       "      <td>...</td>\n",
       "      <td>0</td>\n",
       "      <td>9</td>\n",
       "      <td>0</td>\n",
       "      <td>0</td>\n",
       "      <td>2</td>\n",
       "      <td>0</td>\n",
       "      <td>1</td>\n",
       "      <td>5</td>\n",
       "      <td>0</td>\n",
       "      <td>0</td>\n",
       "    </tr>\n",
       "    <tr>\n",
       "      <th>GCGCAACTGCTC</th>\n",
       "      <td>1</td>\n",
       "      <td>0</td>\n",
       "      <td>0</td>\n",
       "      <td>2</td>\n",
       "      <td>0</td>\n",
       "      <td>4</td>\n",
       "      <td>0</td>\n",
       "      <td>0</td>\n",
       "      <td>0</td>\n",
       "      <td>3</td>\n",
       "      <td>...</td>\n",
       "      <td>1</td>\n",
       "      <td>11</td>\n",
       "      <td>0</td>\n",
       "      <td>0</td>\n",
       "      <td>0</td>\n",
       "      <td>0</td>\n",
       "      <td>0</td>\n",
       "      <td>0</td>\n",
       "      <td>0</td>\n",
       "      <td>0</td>\n",
       "    </tr>\n",
       "    <tr>\n",
       "      <th>GATTGGGAGGCA</th>\n",
       "      <td>0</td>\n",
       "      <td>0</td>\n",
       "      <td>2</td>\n",
       "      <td>0</td>\n",
       "      <td>0</td>\n",
       "      <td>1</td>\n",
       "      <td>0</td>\n",
       "      <td>0</td>\n",
       "      <td>0</td>\n",
       "      <td>2</td>\n",
       "      <td>...</td>\n",
       "      <td>1</td>\n",
       "      <td>2</td>\n",
       "      <td>0</td>\n",
       "      <td>0</td>\n",
       "      <td>3</td>\n",
       "      <td>0</td>\n",
       "      <td>1</td>\n",
       "      <td>0</td>\n",
       "      <td>0</td>\n",
       "      <td>0</td>\n",
       "    </tr>\n",
       "    <tr>\n",
       "      <th>CCTCCTAGTTGG</th>\n",
       "      <td>0</td>\n",
       "      <td>2</td>\n",
       "      <td>1</td>\n",
       "      <td>1</td>\n",
       "      <td>0</td>\n",
       "      <td>2</td>\n",
       "      <td>0</td>\n",
       "      <td>0</td>\n",
       "      <td>0</td>\n",
       "      <td>1</td>\n",
       "      <td>...</td>\n",
       "      <td>0</td>\n",
       "      <td>3</td>\n",
       "      <td>0</td>\n",
       "      <td>0</td>\n",
       "      <td>0</td>\n",
       "      <td>0</td>\n",
       "      <td>0</td>\n",
       "      <td>0</td>\n",
       "      <td>0</td>\n",
       "      <td>0</td>\n",
       "    </tr>\n",
       "  </tbody>\n",
       "</table>\n",
       "<p>5 rows × 20478 columns</p>\n",
       "</div>"
      ],
      "text/plain": [
       "gene          10:100015630-100100413:Kitl  10:100443902-100487350:Tmtc3  \\\n",
       "GGCCGCAGTCCG                            0                             3   \n",
       "CTTGTGCGGGAA                            0                             0   \n",
       "GCGCAACTGCTC                            1                             0   \n",
       "GATTGGGAGGCA                            0                             0   \n",
       "CCTCCTAGTTGG                            0                             2   \n",
       "\n",
       "gene          10:100488289-100573655:Cep290  \\\n",
       "GGCCGCAGTCCG                              1   \n",
       "CTTGTGCGGGAA                              3   \n",
       "GCGCAACTGCTC                              0   \n",
       "GATTGGGAGGCA                              2   \n",
       "CCTCCTAGTTGG                              1   \n",
       "\n",
       "gene          10:100572274-100589259:4930430F08Rik  \\\n",
       "GGCCGCAGTCCG                                     2   \n",
       "CTTGTGCGGGAA                                     1   \n",
       "GCGCAACTGCTC                                     2   \n",
       "GATTGGGAGGCA                                     0   \n",
       "CCTCCTAGTTGG                                     1   \n",
       "\n",
       "gene          10:100592386-100618391:1700017N19Rik  \\\n",
       "GGCCGCAGTCCG                                     0   \n",
       "CTTGTGCGGGAA                                     0   \n",
       "GCGCAACTGCTC                                     0   \n",
       "GATTGGGAGGCA                                     0   \n",
       "CCTCCTAGTTGG                                     0   \n",
       "\n",
       "gene          10:101681487-102391469:Mgat4c  10:102512222-102546560:Rassf9  \\\n",
       "GGCCGCAGTCCG                              0                              0   \n",
       "CTTGTGCGGGAA                              0                              0   \n",
       "GCGCAACTGCTC                              4                              0   \n",
       "GATTGGGAGGCA                              1                              0   \n",
       "CCTCCTAGTTGG                              2                              0   \n",
       "\n",
       "gene          10:103063198-103236322:Lrriq1  10:10335703-10472326:Adgb  \\\n",
       "GGCCGCAGTCCG                              0                          0   \n",
       "CTTGTGCGGGAA                              0                          0   \n",
       "GCGCAACTGCTC                              0                          0   \n",
       "GATTGGGAGGCA                              0                          0   \n",
       "CCTCCTAGTTGG                              0                          0   \n",
       "\n",
       "gene          10:103367808-103419378:Slc6a15           ...            \\\n",
       "GGCCGCAGTCCG                               4           ...             \n",
       "CTTGTGCGGGAA                               1           ...             \n",
       "GCGCAACTGCTC                               3           ...             \n",
       "GATTGGGAGGCA                               2           ...             \n",
       "CCTCCTAGTTGG                               1           ...             \n",
       "\n",
       "gene          X:99136130-99148991:Efnb1  X:99465734-99471273:Pja1  \\\n",
       "GGCCGCAGTCCG                          0                         8   \n",
       "CTTGTGCGGGAA                          0                         9   \n",
       "GCGCAACTGCTC                          1                        11   \n",
       "GATTGGGAGGCA                          1                         2   \n",
       "CCTCCTAGTTGG                          0                         3   \n",
       "\n",
       "gene          X:99821021-99848790:Tmem28  X:99975606-100400762:Eda  \\\n",
       "GGCCGCAGTCCG                           1                         0   \n",
       "CTTGTGCGGGAA                           0                         0   \n",
       "GCGCAACTGCTC                           0                         0   \n",
       "GATTGGGAGGCA                           0                         0   \n",
       "CCTCCTAGTTGG                           0                         0   \n",
       "\n",
       "gene          Y:1010543-1028847:Eif2s3y  Y:10640942-10643315:Gm20775  \\\n",
       "GGCCGCAGTCCG                          0                            0   \n",
       "CTTGTGCGGGAA                          2                            0   \n",
       "GCGCAACTGCTC                          0                            0   \n",
       "GATTGGGAGGCA                          3                            0   \n",
       "CCTCCTAGTTGG                          0                            0   \n",
       "\n",
       "gene          Y:1096861-1245759:Uty  Y:1260715-1286613:Ddx3y  \\\n",
       "GGCCGCAGTCCG                      0                        0   \n",
       "CTTGTGCGGGAA                      1                        5   \n",
       "GCGCAACTGCTC                      0                        0   \n",
       "GATTGGGAGGCA                      1                        0   \n",
       "CCTCCTAGTTGG                      0                        0   \n",
       "\n",
       "gene          Y:897788-943811:Kdm5d  Y:991630-991748:n-R5s1  \n",
       "GGCCGCAGTCCG                      0                       0  \n",
       "CTTGTGCGGGAA                      0                       0  \n",
       "GCGCAACTGCTC                      0                       0  \n",
       "GATTGGGAGGCA                      0                       0  \n",
       "CCTCCTAGTTGG                      0                       0  \n",
       "\n",
       "[5 rows x 20478 columns]"
      ]
     },
     "execution_count": 16,
     "metadata": {},
     "output_type": "execute_result"
    }
   ],
   "source": [
    "table1_t = table1.T\n",
    "print(table1_t.shape)\n",
    "table1_t.head()"
   ]
  },
  {
   "cell_type": "code",
   "execution_count": 17,
   "metadata": {},
   "outputs": [
    {
     "data": {
      "text/plain": [
       "gene\n",
       "10:100015630-100100413:Kitl              131\n",
       "10:100443902-100487350:Tmtc3             434\n",
       "10:100488289-100573655:Cep290           4389\n",
       "10:100572274-100589259:4930430F08Rik     527\n",
       "10:100592386-100618391:1700017N19Rik      16\n",
       "dtype: int64"
      ]
     },
     "execution_count": 17,
     "metadata": {},
     "output_type": "execute_result"
    }
   ],
   "source": [
    "n_transcripts_per_gene = table1_t.sum()\n",
    "n_transcripts_per_gene.head()"
   ]
  },
  {
   "cell_type": "code",
   "execution_count": 18,
   "metadata": {},
   "outputs": [
    {
     "data": {
      "text/plain": [
       "gene\n",
       "10:100015630-100100413:Kitl              131\n",
       "10:100443902-100487350:Tmtc3             434\n",
       "10:100488289-100573655:Cep290           4389\n",
       "10:100572274-100589259:4930430F08Rik     527\n",
       "10:100592386-100618391:1700017N19Rik      16\n",
       "dtype: int64"
      ]
     },
     "execution_count": 18,
     "metadata": {},
     "output_type": "execute_result"
    }
   ],
   "source": [
    "n_transcripts_per_gene = table1_t.sum()\n",
    "n_transcripts_per_gene.head()"
   ]
  },
  {
   "cell_type": "code",
   "execution_count": 19,
   "metadata": {},
   "outputs": [
    {
     "data": {
      "text/plain": [
       "<matplotlib.axes._subplots.AxesSubplot at 0x11d1e0cf8>"
      ]
     },
     "execution_count": 19,
     "metadata": {},
     "output_type": "execute_result"
    },
    {
     "data": {
      "image/png": "[encoded data removed]",
      "text/plain": [
       "<matplotlib.figure.Figure at 0x11e5af5f8>"
      ]
     },
     "metadata": {},
     "output_type": "display_data"
    }
   ],
   "source": [
    "sns.distplot(n_transcripts_per_gene)"
   ]
  },
  {
   "cell_type": "markdown",
   "metadata": {},
   "source": [
    "## Subset the genes based on their total number of transcripts"
   ]
  },
  {
   "cell_type": "code",
   "execution_count": 20,
   "metadata": {},
   "outputs": [
    {
     "data": {
      "text/plain": [
       "2041"
      ]
     },
     "execution_count": 20,
     "metadata": {},
     "output_type": "execute_result"
    }
   ],
   "source": [
    "(n_transcripts_per_gene > 1e3).sum()"
   ]
  },
  {
   "cell_type": "code",
   "execution_count": 21,
   "metadata": {},
   "outputs": [
    {
     "data": {
      "text/plain": [
       "gene\n",
       "10:108497650-109010982:Syt1            17227\n",
       "10:86690209-86705509:Hsp90b1           12175\n",
       "10:98915152-99026143:Atp2b1            10137\n",
       "11:106780355-106789185:Ddx5            16403\n",
       "11:116021912-116027962:H3f3b           13245\n",
       "11:120447605-120453500:Pde6g           28298\n",
       "11:62551171-62553213:Ubb               11151\n",
       "11:67695326-67703333:Rcvrn             22902\n",
       "11:78343482-78349164:Unc119            13936\n",
       "11:94287890-94321988:Luc7l3            11121\n",
       "12:100199435-100209806:Calm1           34885\n",
       "12:109541001-109571726:Meg3            18699\n",
       "12:110690605-110702728:Hsp90aa1        17151\n",
       "12:111669355-111672338:Ckb             12471\n",
       "14:52110704-52163546:Rpgrip1           22525\n",
       "14:55518978-55524981:Nrl               10515\n",
       "14:64588115-64593959:A930011O12Rik     12209\n",
       "16:91647506-91679221:Son               12407\n",
       "16:94370618-94469222:Ttc3              10199\n",
       "16:96120618-96127729:Hmgn1             19479\n",
       "17:28351515-28365182:Tulp1             20794\n",
       "17:45567775-45573271:Hsp90ab1          11576\n",
       "17:46910459-46924933:Prph2             22544\n",
       "19:5795690-5802672:Malat1             158364\n",
       "19:8927382-8929356:Rom1                14097\n",
       "19:9982703-9985092:Fth1                10009\n",
       "1:150319417-150333905:Pdc              37632\n",
       "1:178323074-178337797:Hnrnpu           11532\n",
       "1:4343507-4360314:Rp1                  22067\n",
       "1:87803680-87845158:Sag                53013\n",
       "                                       ...  \n",
       "2:79452521-79456751:Neurod1            12530\n",
       "3:51388415-51396738:Mgarp              18432\n",
       "4:134923592-134927671:D4Wsu53e         18037\n",
       "4:155491361-155559269:Gnb1             22795\n",
       "4:21847583-21876475:Sfrs18             12185\n",
       "5:108388391-108432397:Pde6b            17839\n",
       "5:142903115-142906754:Actb             10541\n",
       "5:72603696-72642752:Cnga1              10725\n",
       "6:115931927-115938829:Rho              80682\n",
       "6:11900373-11907446:Ndufa4             11599\n",
       "6:3993797-3997436:Gngt1                64556\n",
       "6:51460434-51469894:Hnrnpa2b1          14264\n",
       "6:52713729-52766780:Tax1bp1            12541\n",
       "7:126795234-126800751:Aldoa            12031\n",
       "8:46206797-46211284:Slc25a4            15352\n",
       "8:64592558-64693040:Cpe                11149\n",
       "9:107674477-107679592:Gnat1            25722\n",
       "9:31149557-31211815:Aplp2              12596\n",
       "9:59656368-59679375:Pkm                11147\n",
       "9:59942771-59960659:Nr2e3              11118\n",
       "9:62341293-62378812:Anp32a             12359\n",
       "9:64922861-64951607:Slc24a1            13368\n",
       "MT:10167-11544:mt-Nd4                  12406\n",
       "MT:1094-2675:mt-Rnr2                  105402\n",
       "MT:11742-13565:mt-Nd5                  19337\n",
       "MT:14145-15288:mt-Cytb                 37963\n",
       "MT:2751-3707:mt-Nd1                    20787\n",
       "MT:3914-4951:mt-Nd2                    14016\n",
       "MT:70-1024:mt-Rnr1                     10925\n",
       "X:160768013-160799663:Rs1              15217\n",
       "Length: 64, dtype: int64"
      ]
     },
     "execution_count": 21,
     "metadata": {},
     "output_type": "execute_result"
    }
   ],
   "source": [
    "n_transcripts_per_gene[n_transcripts_per_gene > 1e4]"
   ]
  },
  {
   "cell_type": "markdown",
   "metadata": {},
   "source": [
    "## Look at gene's median transcript count"
   ]
  },
  {
   "cell_type": "code",
   "execution_count": 22,
   "metadata": {},
   "outputs": [
    {
     "data": {
      "text/plain": [
       "gene\n",
       "10:100015630-100100413:Kitl             0.0\n",
       "10:100443902-100487350:Tmtc3            0.0\n",
       "10:100488289-100573655:Cep290           0.0\n",
       "10:100572274-100589259:4930430F08Rik    0.0\n",
       "10:100592386-100618391:1700017N19Rik    0.0\n",
       "dtype: float64"
      ]
     },
     "execution_count": 22,
     "metadata": {},
     "output_type": "execute_result"
    }
   ],
   "source": [
    "median_transcripts_per_gene = table1_t.median()\n",
    "median_transcripts_per_gene.head()"
   ]
  },
  {
   "cell_type": "code",
   "execution_count": 23,
   "metadata": {},
   "outputs": [
    {
     "data": {
      "image/png": "[encoded data removed]",
      "text/plain": [
       "<matplotlib.figure.Figure at 0x11f743160>"
      ]
     },
     "metadata": {},
     "output_type": "display_data"
    }
   ],
   "source": [
    "sns.distplot(median_transcripts_per_gene)\n",
    "fig = plt.gcf()\n",
    "fig.savefig('median_transcripts_per_gene.png')"
   ]
  },
  {
   "cell_type": "code",
   "execution_count": 24,
   "metadata": {},
   "outputs": [
    {
     "data": {
      "image/png": "[encoded data removed]",
      "text/plain": [
       "<matplotlib.figure.Figure at 0x11a5070b8>"
      ]
     },
     "metadata": {},
     "output_type": "display_data"
    }
   ],
   "source": [
    "data = median_transcripts_per_gene\n",
    "mask = data > 0\n",
    "\n",
    "sns.distplot(data[mask])\n",
    "fig = plt.gcf()\n",
    "fig.savefig('median_transcripts_per_gene_greater0.png')"
   ]
  },
  {
   "cell_type": "markdown",
   "metadata": {
    "collapsed": true
   },
   "source": [
    "\n",
    "## Clean data matrix to be compatible with the cluster labels and identities\n",
    "\n",
    "Currently, cells are labeled by their barcode, e.g. `GCGCAACTGCTC`, and genes are labeled by their chrom:start-end:symbol, e.g. `6:51460434-51469894:Hnrnpa2b1`. But, in the supplementary data, the genes are all uppercase, e.g. `HNRNPA2B1` (which is incorrect since this is mouse data.. ) and the barcodes have `r1_` prepended before the id, e.g. `r1_GCGCAACTGCTC`.\n",
    "\n",
    "So we need to clean the data to be compatible with this"
   ]
  },
  {
   "cell_type": "code",
   "execution_count": 29,
   "metadata": {},
   "outputs": [
    {
     "data": {
      "text/html": [
       "<div>\n",
       "<style>\n",
       "    .dataframe thead tr:only-child th {\n",
       "        text-align: right;\n",
       "    }\n",
       "\n",
       "    .dataframe thead th {\n",
       "        text-align: left;\n",
       "    }\n",
       "\n",
       "    .dataframe tbody tr th {\n",
       "        vertical-align: top;\n",
       "    }\n",
       "</style>\n",
       "<table border=\"1\" class=\"dataframe\">\n",
       "  <thead>\n",
       "    <tr style=\"text-align: right;\">\n",
       "      <th>symbol</th>\n",
       "      <th>KITL</th>\n",
       "      <th>TMTC3</th>\n",
       "      <th>CEP290</th>\n",
       "      <th>4930430F08RIK</th>\n",
       "      <th>1700017N19RIK</th>\n",
       "      <th>MGAT4C</th>\n",
       "      <th>RASSF9</th>\n",
       "      <th>LRRIQ1</th>\n",
       "      <th>ADGB</th>\n",
       "      <th>SLC6A15</th>\n",
       "      <th>...</th>\n",
       "      <th>EFNB1</th>\n",
       "      <th>PJA1</th>\n",
       "      <th>TMEM28</th>\n",
       "      <th>EDA</th>\n",
       "      <th>EIF2S3Y</th>\n",
       "      <th>GM20775</th>\n",
       "      <th>UTY</th>\n",
       "      <th>DDX3Y</th>\n",
       "      <th>KDM5D</th>\n",
       "      <th>N-R5S1</th>\n",
       "    </tr>\n",
       "    <tr>\n",
       "      <th>symbol</th>\n",
       "      <th></th>\n",
       "      <th></th>\n",
       "      <th></th>\n",
       "      <th></th>\n",
       "      <th></th>\n",
       "      <th></th>\n",
       "      <th></th>\n",
       "      <th></th>\n",
       "      <th></th>\n",
       "      <th></th>\n",
       "      <th></th>\n",
       "      <th></th>\n",
       "      <th></th>\n",
       "      <th></th>\n",
       "      <th></th>\n",
       "      <th></th>\n",
       "      <th></th>\n",
       "      <th></th>\n",
       "      <th></th>\n",
       "      <th></th>\n",
       "      <th></th>\n",
       "    </tr>\n",
       "  </thead>\n",
       "  <tbody>\n",
       "    <tr>\n",
       "      <th>GGCCGCAGTCCG</th>\n",
       "      <td>0</td>\n",
       "      <td>3</td>\n",
       "      <td>1</td>\n",
       "      <td>2</td>\n",
       "      <td>0</td>\n",
       "      <td>0</td>\n",
       "      <td>0</td>\n",
       "      <td>0</td>\n",
       "      <td>0</td>\n",
       "      <td>4</td>\n",
       "      <td>...</td>\n",
       "      <td>0</td>\n",
       "      <td>8</td>\n",
       "      <td>1</td>\n",
       "      <td>0</td>\n",
       "      <td>0</td>\n",
       "      <td>0</td>\n",
       "      <td>0</td>\n",
       "      <td>0</td>\n",
       "      <td>0</td>\n",
       "      <td>0</td>\n",
       "    </tr>\n",
       "    <tr>\n",
       "      <th>CTTGTGCGGGAA</th>\n",
       "      <td>0</td>\n",
       "      <td>0</td>\n",
       "      <td>3</td>\n",
       "      <td>1</td>\n",
       "      <td>0</td>\n",
       "      <td>0</td>\n",
       "      <td>0</td>\n",
       "      <td>0</td>\n",
       "      <td>0</td>\n",
       "      <td>1</td>\n",
       "      <td>...</td>\n",
       "      <td>0</td>\n",
       "      <td>9</td>\n",
       "      <td>0</td>\n",
       "      <td>0</td>\n",
       "      <td>2</td>\n",
       "      <td>0</td>\n",
       "      <td>1</td>\n",
       "      <td>5</td>\n",
       "      <td>0</td>\n",
       "      <td>0</td>\n",
       "    </tr>\n",
       "    <tr>\n",
       "      <th>GCGCAACTGCTC</th>\n",
       "      <td>1</td>\n",
       "      <td>0</td>\n",
       "      <td>0</td>\n",
       "      <td>2</td>\n",
       "      <td>0</td>\n",
       "      <td>4</td>\n",
       "      <td>0</td>\n",
       "      <td>0</td>\n",
       "      <td>0</td>\n",
       "      <td>3</td>\n",
       "      <td>...</td>\n",
       "      <td>1</td>\n",
       "      <td>11</td>\n",
       "      <td>0</td>\n",
       "      <td>0</td>\n",
       "      <td>0</td>\n",
       "      <td>0</td>\n",
       "      <td>0</td>\n",
       "      <td>0</td>\n",
       "      <td>0</td>\n",
       "      <td>0</td>\n",
       "    </tr>\n",
       "    <tr>\n",
       "      <th>GATTGGGAGGCA</th>\n",
       "      <td>0</td>\n",
       "      <td>0</td>\n",
       "      <td>2</td>\n",
       "      <td>0</td>\n",
       "      <td>0</td>\n",
       "      <td>1</td>\n",
       "      <td>0</td>\n",
       "      <td>0</td>\n",
       "      <td>0</td>\n",
       "      <td>2</td>\n",
       "      <td>...</td>\n",
       "      <td>1</td>\n",
       "      <td>2</td>\n",
       "      <td>0</td>\n",
       "      <td>0</td>\n",
       "      <td>3</td>\n",
       "      <td>0</td>\n",
       "      <td>1</td>\n",
       "      <td>0</td>\n",
       "      <td>0</td>\n",
       "      <td>0</td>\n",
       "    </tr>\n",
       "    <tr>\n",
       "      <th>CCTCCTAGTTGG</th>\n",
       "      <td>0</td>\n",
       "      <td>2</td>\n",
       "      <td>1</td>\n",
       "      <td>1</td>\n",
       "      <td>0</td>\n",
       "      <td>2</td>\n",
       "      <td>0</td>\n",
       "      <td>0</td>\n",
       "      <td>0</td>\n",
       "      <td>1</td>\n",
       "      <td>...</td>\n",
       "      <td>0</td>\n",
       "      <td>3</td>\n",
       "      <td>0</td>\n",
       "      <td>0</td>\n",
       "      <td>0</td>\n",
       "      <td>0</td>\n",
       "      <td>0</td>\n",
       "      <td>0</td>\n",
       "      <td>0</td>\n",
       "      <td>0</td>\n",
       "    </tr>\n",
       "  </tbody>\n",
       "</table>\n",
       "<p>5 rows × 20478 columns</p>\n",
       "</div>"
      ],
      "text/plain": [
       "symbol        KITL  TMTC3  CEP290  4930430F08RIK  1700017N19RIK  MGAT4C  \\\n",
       "symbol                                                                    \n",
       "GGCCGCAGTCCG     0      3       1              2              0       0   \n",
       "CTTGTGCGGGAA     0      0       3              1              0       0   \n",
       "GCGCAACTGCTC     1      0       0              2              0       4   \n",
       "GATTGGGAGGCA     0      0       2              0              0       1   \n",
       "CCTCCTAGTTGG     0      2       1              1              0       2   \n",
       "\n",
       "symbol        RASSF9  LRRIQ1  ADGB  SLC6A15   ...    EFNB1  PJA1  TMEM28  EDA  \\\n",
       "symbol                                        ...                               \n",
       "GGCCGCAGTCCG       0       0     0        4   ...        0     8       1    0   \n",
       "CTTGTGCGGGAA       0       0     0        1   ...        0     9       0    0   \n",
       "GCGCAACTGCTC       0       0     0        3   ...        1    11       0    0   \n",
       "GATTGGGAGGCA       0       0     0        2   ...        1     2       0    0   \n",
       "CCTCCTAGTTGG       0       0     0        1   ...        0     3       0    0   \n",
       "\n",
       "symbol        EIF2S3Y  GM20775  UTY  DDX3Y  KDM5D  N-R5S1  \n",
       "symbol                                                     \n",
       "GGCCGCAGTCCG        0        0    0      0      0       0  \n",
       "CTTGTGCGGGAA        2        0    1      5      0       0  \n",
       "GCGCAACTGCTC        0        0    0      0      0       0  \n",
       "GATTGGGAGGCA        3        0    1      0      0       0  \n",
       "CCTCCTAGTTGG        0        0    0      0      0       0  \n",
       "\n",
       "[5 rows x 20478 columns]"
      ]
     },
     "execution_count": 29,
     "metadata": {},
     "output_type": "execute_result"
    }
   ],
   "source": [
    "gene_symbols = table1_t.columns.map(lambda x: x.split(':')[-1].upper())\n",
    "gene_symbols.name = 'symbol'\n",
    "table1_t.columnsmns = gene_symbols\n",
    "table1_t.head()"
   ]
  },
  {
   "cell_type": "code",
   "execution_count": 30,
   "metadata": {},
   "outputs": [
    {
     "data": {
      "text/html": [
       "<div>\n",
       "<style>\n",
       "    .dataframe thead tr:only-child th {\n",
       "        text-align: right;\n",
       "    }\n",
       "\n",
       "    .dataframe thead th {\n",
       "        text-align: left;\n",
       "    }\n",
       "\n",
       "    .dataframe tbody tr th {\n",
       "        vertical-align: top;\n",
       "    }\n",
       "</style>\n",
       "<table border=\"1\" class=\"dataframe\">\n",
       "  <thead>\n",
       "    <tr style=\"text-align: right;\">\n",
       "      <th>symbol</th>\n",
       "      <th>KITL</th>\n",
       "      <th>TMTC3</th>\n",
       "      <th>CEP290</th>\n",
       "      <th>4930430F08RIK</th>\n",
       "      <th>1700017N19RIK</th>\n",
       "      <th>MGAT4C</th>\n",
       "      <th>RASSF9</th>\n",
       "      <th>LRRIQ1</th>\n",
       "      <th>ADGB</th>\n",
       "      <th>SLC6A15</th>\n",
       "      <th>...</th>\n",
       "      <th>EFNB1</th>\n",
       "      <th>PJA1</th>\n",
       "      <th>TMEM28</th>\n",
       "      <th>EDA</th>\n",
       "      <th>EIF2S3Y</th>\n",
       "      <th>GM20775</th>\n",
       "      <th>UTY</th>\n",
       "      <th>DDX3Y</th>\n",
       "      <th>KDM5D</th>\n",
       "      <th>N-R5S1</th>\n",
       "    </tr>\n",
       "    <tr>\n",
       "      <th>barcode</th>\n",
       "      <th></th>\n",
       "      <th></th>\n",
       "      <th></th>\n",
       "      <th></th>\n",
       "      <th></th>\n",
       "      <th></th>\n",
       "      <th></th>\n",
       "      <th></th>\n",
       "      <th></th>\n",
       "      <th></th>\n",
       "      <th></th>\n",
       "      <th></th>\n",
       "      <th></th>\n",
       "      <th></th>\n",
       "      <th></th>\n",
       "      <th></th>\n",
       "      <th></th>\n",
       "      <th></th>\n",
       "      <th></th>\n",
       "      <th></th>\n",
       "      <th></th>\n",
       "    </tr>\n",
       "  </thead>\n",
       "  <tbody>\n",
       "    <tr>\n",
       "      <th>r1_GGCCGCAGTCCG</th>\n",
       "      <td>0</td>\n",
       "      <td>3</td>\n",
       "      <td>1</td>\n",
       "      <td>2</td>\n",
       "      <td>0</td>\n",
       "      <td>0</td>\n",
       "      <td>0</td>\n",
       "      <td>0</td>\n",
       "      <td>0</td>\n",
       "      <td>4</td>\n",
       "      <td>...</td>\n",
       "      <td>0</td>\n",
       "      <td>8</td>\n",
       "      <td>1</td>\n",
       "      <td>0</td>\n",
       "      <td>0</td>\n",
       "      <td>0</td>\n",
       "      <td>0</td>\n",
       "      <td>0</td>\n",
       "      <td>0</td>\n",
       "      <td>0</td>\n",
       "    </tr>\n",
       "    <tr>\n",
       "      <th>r1_CTTGTGCGGGAA</th>\n",
       "      <td>0</td>\n",
       "      <td>0</td>\n",
       "      <td>3</td>\n",
       "      <td>1</td>\n",
       "      <td>0</td>\n",
       "      <td>0</td>\n",
       "      <td>0</td>\n",
       "      <td>0</td>\n",
       "      <td>0</td>\n",
       "      <td>1</td>\n",
       "      <td>...</td>\n",
       "      <td>0</td>\n",
       "      <td>9</td>\n",
       "      <td>0</td>\n",
       "      <td>0</td>\n",
       "      <td>2</td>\n",
       "      <td>0</td>\n",
       "      <td>1</td>\n",
       "      <td>5</td>\n",
       "      <td>0</td>\n",
       "      <td>0</td>\n",
       "    </tr>\n",
       "    <tr>\n",
       "      <th>r1_GCGCAACTGCTC</th>\n",
       "      <td>1</td>\n",
       "      <td>0</td>\n",
       "      <td>0</td>\n",
       "      <td>2</td>\n",
       "      <td>0</td>\n",
       "      <td>4</td>\n",
       "      <td>0</td>\n",
       "      <td>0</td>\n",
       "      <td>0</td>\n",
       "      <td>3</td>\n",
       "      <td>...</td>\n",
       "      <td>1</td>\n",
       "      <td>11</td>\n",
       "      <td>0</td>\n",
       "      <td>0</td>\n",
       "      <td>0</td>\n",
       "      <td>0</td>\n",
       "      <td>0</td>\n",
       "      <td>0</td>\n",
       "      <td>0</td>\n",
       "      <td>0</td>\n",
       "    </tr>\n",
       "    <tr>\n",
       "      <th>r1_GATTGGGAGGCA</th>\n",
       "      <td>0</td>\n",
       "      <td>0</td>\n",
       "      <td>2</td>\n",
       "      <td>0</td>\n",
       "      <td>0</td>\n",
       "      <td>1</td>\n",
       "      <td>0</td>\n",
       "      <td>0</td>\n",
       "      <td>0</td>\n",
       "      <td>2</td>\n",
       "      <td>...</td>\n",
       "      <td>1</td>\n",
       "      <td>2</td>\n",
       "      <td>0</td>\n",
       "      <td>0</td>\n",
       "      <td>3</td>\n",
       "      <td>0</td>\n",
       "      <td>1</td>\n",
       "      <td>0</td>\n",
       "      <td>0</td>\n",
       "      <td>0</td>\n",
       "    </tr>\n",
       "    <tr>\n",
       "      <th>r1_CCTCCTAGTTGG</th>\n",
       "      <td>0</td>\n",
       "      <td>2</td>\n",
       "      <td>1</td>\n",
       "      <td>1</td>\n",
       "      <td>0</td>\n",
       "      <td>2</td>\n",
       "      <td>0</td>\n",
       "      <td>0</td>\n",
       "      <td>0</td>\n",
       "      <td>1</td>\n",
       "      <td>...</td>\n",
       "      <td>0</td>\n",
       "      <td>3</td>\n",
       "      <td>0</td>\n",
       "      <td>0</td>\n",
       "      <td>0</td>\n",
       "      <td>0</td>\n",
       "      <td>0</td>\n",
       "      <td>0</td>\n",
       "      <td>0</td>\n",
       "      <td>0</td>\n",
       "    </tr>\n",
       "  </tbody>\n",
       "</table>\n",
       "<p>5 rows × 20478 columns</p>\n",
       "</div>"
      ],
      "text/plain": [
       "symbol           KITL  TMTC3  CEP290  4930430F08RIK  1700017N19RIK  MGAT4C  \\\n",
       "barcode                                                                      \n",
       "r1_GGCCGCAGTCCG     0      3       1              2              0       0   \n",
       "r1_CTTGTGCGGGAA     0      0       3              1              0       0   \n",
       "r1_GCGCAACTGCTC     1      0       0              2              0       4   \n",
       "r1_GATTGGGAGGCA     0      0       2              0              0       1   \n",
       "r1_CCTCCTAGTTGG     0      2       1              1              0       2   \n",
       "\n",
       "symbol           RASSF9  LRRIQ1  ADGB  SLC6A15   ...    EFNB1  PJA1  TMEM28  \\\n",
       "barcode                                          ...                          \n",
       "r1_GGCCGCAGTCCG       0       0     0        4   ...        0     8       1   \n",
       "r1_CTTGTGCGGGAA       0       0     0        1   ...        0     9       0   \n",
       "r1_GCGCAACTGCTC       0       0     0        3   ...        1    11       0   \n",
       "r1_GATTGGGAGGCA       0       0     0        2   ...        1     2       0   \n",
       "r1_CCTCCTAGTTGG       0       0     0        1   ...        0     3       0   \n",
       "\n",
       "symbol           EDA  EIF2S3Y  GM20775  UTY  DDX3Y  KDM5D  N-R5S1  \n",
       "barcode                                                            \n",
       "r1_GGCCGCAGTCCG    0        0        0    0      0      0       0  \n",
       "r1_CTTGTGCGGGAA    0        2        0    1      5      0       0  \n",
       "r1_GCGCAACTGCTC    0        0        0    0      0      0       0  \n",
       "r1_GATTGGGAGGCA    0        3        0    1      0      0       0  \n",
       "r1_CCTCCTAGTTGG    0        0        0    0      0      0       0  \n",
       "\n",
       "[5 rows x 20478 columns]"
      ]
     },
     "execution_count": 30,
     "metadata": {},
     "output_type": "execute_result"
    }
   ],
   "source": [
    "barcodes = 'r1_' + table1_t.index\n",
    "barcodes.name = 'barcode'\n",
    "table1_t.index = barcodes\n",
    "table1_t.head()"
   ]
  },
  {
   "cell_type": "code",
   "execution_count": 32,
   "metadata": {
    "collapsed": true
   },
   "outputs": [],
   "source": [
    "table1_t.to_csv('expression_table1.csv')"
   ]
  },
  {
   "cell_type": "code",
   "execution_count": null,
   "metadata": {
    "collapsed": true
   },
   "outputs": [],
   "source": []
  }
 ],
 "metadata": {
  "kernelspec": {
   "display_name": "Python 3 (cshl-sca-2017)",
   "language": "python",
   "name": "cshl-sca-2017"
  },
  "language_info": {
   "codemirror_mode": {
    "name": "ipython",
    "version": 3
   },
   "file_extension": ".py",
   "mimetype": "text/x-python",
   "name": "python",
   "nbconvert_exporter": "python",
   "pygments_lexer": "ipython3",
   "version": "3.6.1"
  }
 },
 "nbformat": 4,
 "nbformat_minor": 2
}
