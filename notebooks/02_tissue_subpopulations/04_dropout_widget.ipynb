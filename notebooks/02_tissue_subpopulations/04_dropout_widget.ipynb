{
 "cells": [
  {
   "cell_type": "code",
   "execution_count": 1,
   "metadata": {
    "collapsed": true
   },
   "outputs": [],
   "source": [
    "import os\n",
    "import common\n",
    "\n",
    "# Assign notebook and folder names\n",
    "notebook_name = '04_dropout_widget'\n",
    "figure_folder = os.path.join(common.FIGURE_FOLDER, notebook_name)\n",
    "data_folder = os.path.join(common.DATA_FOLDER, notebook_name)\n",
    "\n",
    "# Make the folders\n",
    "! mkdir -p $figure_folder\n",
    "! mkdir -p $data_folder"
   ]
  },
  {
   "cell_type": "code",
   "execution_count": 6,
   "metadata": {},
   "outputs": [],
   "source": [
    "%load_ext autoreload\n",
    "%autoreload 2\n",
    "\n",
    "import numpy as np\n",
    "import matplotlib.pyplot as plt\n",
    "import pandas as pd\n",
    "import seaborn as sns\n",
    "# %matplotlib inline"
   ]
  },
  {
   "cell_type": "code",
   "execution_count": 2,
   "metadata": {
    "collapsed": true
   },
   "outputs": [],
   "source": [
    "import macosko2015"
   ]
  },
  {
   "cell_type": "code",
   "execution_count": null,
   "metadata": {
    "collapsed": true
   },
   "outputs": [],
   "source": [
    "expression = pd.read_csv('')"
   ]
  },
  {
   "cell_type": "code",
   "execution_count": 3,
   "metadata": {},
   "outputs": [
    {
     "name": "stdout",
     "output_type": "stream",
     "text": [
      "(300, 259)\n"
     ]
    },
    {
     "data": {
      "text/html": [
       "<div>\n",
       "<style>\n",
       "    .dataframe thead tr:only-child th {\n",
       "        text-align: right;\n",
       "    }\n",
       "\n",
       "    .dataframe thead th {\n",
       "        text-align: left;\n",
       "    }\n",
       "\n",
       "    .dataframe tbody tr th {\n",
       "        vertical-align: top;\n",
       "    }\n",
       "</style>\n",
       "<table border=\"1\" class=\"dataframe\">\n",
       "  <thead>\n",
       "    <tr style=\"text-align: right;\">\n",
       "      <th></th>\n",
       "      <th>2010107E04RIK</th>\n",
       "      <th>4930447C04RIK</th>\n",
       "      <th>A930011O12RIK</th>\n",
       "      <th>ABCA8A</th>\n",
       "      <th>ABLIM1</th>\n",
       "      <th>ACSL3</th>\n",
       "      <th>AIPL1</th>\n",
       "      <th>ALDOC</th>\n",
       "      <th>ANK3</th>\n",
       "      <th>APLP2</th>\n",
       "      <th>...</th>\n",
       "      <th>VEGFA</th>\n",
       "      <th>VIM</th>\n",
       "      <th>VSTM2B</th>\n",
       "      <th>VSX1</th>\n",
       "      <th>VSX2</th>\n",
       "      <th>WIPI1</th>\n",
       "      <th>YWHAB</th>\n",
       "      <th>ZBTB20</th>\n",
       "      <th>ZFP365</th>\n",
       "      <th>ZFP36L1</th>\n",
       "    </tr>\n",
       "  </thead>\n",
       "  <tbody>\n",
       "    <tr>\n",
       "      <th>r1_TTCCTGCTAGGC</th>\n",
       "      <td>2</td>\n",
       "      <td>0</td>\n",
       "      <td>0</td>\n",
       "      <td>0</td>\n",
       "      <td>1</td>\n",
       "      <td>0</td>\n",
       "      <td>1</td>\n",
       "      <td>0</td>\n",
       "      <td>0</td>\n",
       "      <td>0</td>\n",
       "      <td>...</td>\n",
       "      <td>0</td>\n",
       "      <td>0</td>\n",
       "      <td>0</td>\n",
       "      <td>0</td>\n",
       "      <td>0</td>\n",
       "      <td>0</td>\n",
       "      <td>0</td>\n",
       "      <td>0</td>\n",
       "      <td>0</td>\n",
       "      <td>0</td>\n",
       "    </tr>\n",
       "    <tr>\n",
       "      <th>r1_TGGAGATACTCT</th>\n",
       "      <td>0</td>\n",
       "      <td>0</td>\n",
       "      <td>1</td>\n",
       "      <td>0</td>\n",
       "      <td>0</td>\n",
       "      <td>0</td>\n",
       "      <td>0</td>\n",
       "      <td>0</td>\n",
       "      <td>0</td>\n",
       "      <td>0</td>\n",
       "      <td>...</td>\n",
       "      <td>0</td>\n",
       "      <td>0</td>\n",
       "      <td>0</td>\n",
       "      <td>0</td>\n",
       "      <td>0</td>\n",
       "      <td>0</td>\n",
       "      <td>0</td>\n",
       "      <td>1</td>\n",
       "      <td>0</td>\n",
       "      <td>0</td>\n",
       "    </tr>\n",
       "    <tr>\n",
       "      <th>r1_CGTCTACATCCG</th>\n",
       "      <td>2</td>\n",
       "      <td>0</td>\n",
       "      <td>0</td>\n",
       "      <td>0</td>\n",
       "      <td>0</td>\n",
       "      <td>0</td>\n",
       "      <td>2</td>\n",
       "      <td>0</td>\n",
       "      <td>0</td>\n",
       "      <td>1</td>\n",
       "      <td>...</td>\n",
       "      <td>0</td>\n",
       "      <td>0</td>\n",
       "      <td>0</td>\n",
       "      <td>0</td>\n",
       "      <td>0</td>\n",
       "      <td>0</td>\n",
       "      <td>0</td>\n",
       "      <td>0</td>\n",
       "      <td>0</td>\n",
       "      <td>0</td>\n",
       "    </tr>\n",
       "    <tr>\n",
       "      <th>r1_CAAGCTTGGCGC</th>\n",
       "      <td>0</td>\n",
       "      <td>0</td>\n",
       "      <td>11</td>\n",
       "      <td>0</td>\n",
       "      <td>1</td>\n",
       "      <td>0</td>\n",
       "      <td>6</td>\n",
       "      <td>0</td>\n",
       "      <td>0</td>\n",
       "      <td>2</td>\n",
       "      <td>...</td>\n",
       "      <td>0</td>\n",
       "      <td>0</td>\n",
       "      <td>0</td>\n",
       "      <td>0</td>\n",
       "      <td>0</td>\n",
       "      <td>0</td>\n",
       "      <td>0</td>\n",
       "      <td>0</td>\n",
       "      <td>1</td>\n",
       "      <td>0</td>\n",
       "    </tr>\n",
       "    <tr>\n",
       "      <th>r1_ACTCACATAGAG</th>\n",
       "      <td>1</td>\n",
       "      <td>0</td>\n",
       "      <td>0</td>\n",
       "      <td>0</td>\n",
       "      <td>0</td>\n",
       "      <td>0</td>\n",
       "      <td>0</td>\n",
       "      <td>0</td>\n",
       "      <td>0</td>\n",
       "      <td>1</td>\n",
       "      <td>...</td>\n",
       "      <td>0</td>\n",
       "      <td>0</td>\n",
       "      <td>0</td>\n",
       "      <td>0</td>\n",
       "      <td>0</td>\n",
       "      <td>0</td>\n",
       "      <td>0</td>\n",
       "      <td>2</td>\n",
       "      <td>0</td>\n",
       "      <td>0</td>\n",
       "    </tr>\n",
       "  </tbody>\n",
       "</table>\n",
       "<p>5 rows × 259 columns</p>\n",
       "</div>"
      ],
      "text/plain": [
       "                 2010107E04RIK  4930447C04RIK  A930011O12RIK  ABCA8A  ABLIM1  \\\n",
       "r1_TTCCTGCTAGGC              2              0              0       0       1   \n",
       "r1_TGGAGATACTCT              0              0              1       0       0   \n",
       "r1_CGTCTACATCCG              2              0              0       0       0   \n",
       "r1_CAAGCTTGGCGC              0              0             11       0       1   \n",
       "r1_ACTCACATAGAG              1              0              0       0       0   \n",
       "\n",
       "                 ACSL3  AIPL1  ALDOC  ANK3  APLP2   ...     VEGFA  VIM  \\\n",
       "r1_TTCCTGCTAGGC      0      1      0     0      0   ...         0    0   \n",
       "r1_TGGAGATACTCT      0      0      0     0      0   ...         0    0   \n",
       "r1_CGTCTACATCCG      0      2      0     0      1   ...         0    0   \n",
       "r1_CAAGCTTGGCGC      0      6      0     0      2   ...         0    0   \n",
       "r1_ACTCACATAGAG      0      0      0     0      1   ...         0    0   \n",
       "\n",
       "                 VSTM2B  VSX1  VSX2  WIPI1  YWHAB  ZBTB20  ZFP365  ZFP36L1  \n",
       "r1_TTCCTGCTAGGC       0     0     0      0      0       0       0        0  \n",
       "r1_TGGAGATACTCT       0     0     0      0      0       1       0        0  \n",
       "r1_CGTCTACATCCG       0     0     0      0      0       0       0        0  \n",
       "r1_CAAGCTTGGCGC       0     0     0      0      0       0       1        0  \n",
       "r1_ACTCACATAGAG       0     0     0      0      0       2       0        0  \n",
       "\n",
       "[5 rows x 259 columns]"
      ]
     },
     "execution_count": 3,
     "metadata": {},
     "output_type": "execute_result"
    }
   ],
   "source": [
    "expression, cell_metadata, gene_metadata = macosko2015.load_big_clusters()\n",
    "print(expression.shape)\n",
    "expression.head()"
   ]
  },
  {
   "cell_type": "code",
   "execution_count": 4,
   "metadata": {},
   "outputs": [
    {
     "name": "stdout",
     "output_type": "stream",
     "text": [
      "(300, 2)\n"
     ]
    },
    {
     "data": {
      "text/html": [
       "<div>\n",
       "<style>\n",
       "    .dataframe thead tr:only-child th {\n",
       "        text-align: right;\n",
       "    }\n",
       "\n",
       "    .dataframe thead th {\n",
       "        text-align: left;\n",
       "    }\n",
       "\n",
       "    .dataframe tbody tr th {\n",
       "        vertical-align: top;\n",
       "    }\n",
       "</style>\n",
       "<table border=\"1\" class=\"dataframe\">\n",
       "  <thead>\n",
       "    <tr style=\"text-align: right;\">\n",
       "      <th></th>\n",
       "      <th>cluster_id</th>\n",
       "      <th>cluster_name</th>\n",
       "    </tr>\n",
       "  </thead>\n",
       "  <tbody>\n",
       "    <tr>\n",
       "      <th>r1_TTCCTGCTAGGC</th>\n",
       "      <td>cluster_24</td>\n",
       "      <td>Rods</td>\n",
       "    </tr>\n",
       "    <tr>\n",
       "      <th>r1_TGGAGATACTCT</th>\n",
       "      <td>cluster_24</td>\n",
       "      <td>Rods</td>\n",
       "    </tr>\n",
       "    <tr>\n",
       "      <th>r1_CGTCTACATCCG</th>\n",
       "      <td>cluster_24</td>\n",
       "      <td>Rods</td>\n",
       "    </tr>\n",
       "    <tr>\n",
       "      <th>r1_CAAGCTTGGCGC</th>\n",
       "      <td>cluster_24</td>\n",
       "      <td>Rods</td>\n",
       "    </tr>\n",
       "    <tr>\n",
       "      <th>r1_ACTCACATAGAG</th>\n",
       "      <td>cluster_24</td>\n",
       "      <td>Rods</td>\n",
       "    </tr>\n",
       "  </tbody>\n",
       "</table>\n",
       "</div>"
      ],
      "text/plain": [
       "                 cluster_id cluster_name\n",
       "r1_TTCCTGCTAGGC  cluster_24         Rods\n",
       "r1_TGGAGATACTCT  cluster_24         Rods\n",
       "r1_CGTCTACATCCG  cluster_24         Rods\n",
       "r1_CAAGCTTGGCGC  cluster_24         Rods\n",
       "r1_ACTCACATAGAG  cluster_24         Rods"
      ]
     },
     "execution_count": 4,
     "metadata": {},
     "output_type": "execute_result"
    }
   ],
   "source": [
    "print(cell_metadata.shape)\n",
    "cell_metadata.head()"
   ]
  },
  {
   "cell_type": "code",
   "execution_count": 5,
   "metadata": {},
   "outputs": [
    {
     "name": "stdout",
     "output_type": "stream",
     "text": [
      "(259, 6)\n"
     ]
    },
    {
     "data": {
      "text/html": [
       "<div>\n",
       "<style>\n",
       "    .dataframe thead tr:only-child th {\n",
       "        text-align: right;\n",
       "    }\n",
       "\n",
       "    .dataframe thead th {\n",
       "        text-align: left;\n",
       "    }\n",
       "\n",
       "    .dataframe tbody tr th {\n",
       "        vertical-align: top;\n",
       "    }\n",
       "</style>\n",
       "<table border=\"1\" class=\"dataframe\">\n",
       "  <thead>\n",
       "    <tr style=\"text-align: right;\">\n",
       "      <th></th>\n",
       "      <th>cluster_24</th>\n",
       "      <th>cluster_25</th>\n",
       "      <th>cluster_26</th>\n",
       "      <th>cluster_27</th>\n",
       "      <th>cluster_33</th>\n",
       "      <th>cluster_34</th>\n",
       "    </tr>\n",
       "  </thead>\n",
       "  <tbody>\n",
       "    <tr>\n",
       "      <th>2010107E04RIK</th>\n",
       "      <td>False</td>\n",
       "      <td>False</td>\n",
       "      <td>True</td>\n",
       "      <td>False</td>\n",
       "      <td>False</td>\n",
       "      <td>False</td>\n",
       "    </tr>\n",
       "    <tr>\n",
       "      <th>4930447C04RIK</th>\n",
       "      <td>False</td>\n",
       "      <td>True</td>\n",
       "      <td>False</td>\n",
       "      <td>False</td>\n",
       "      <td>False</td>\n",
       "      <td>False</td>\n",
       "    </tr>\n",
       "    <tr>\n",
       "      <th>A930011O12RIK</th>\n",
       "      <td>False</td>\n",
       "      <td>False</td>\n",
       "      <td>False</td>\n",
       "      <td>False</td>\n",
       "      <td>False</td>\n",
       "      <td>True</td>\n",
       "    </tr>\n",
       "    <tr>\n",
       "      <th>ABCA8A</th>\n",
       "      <td>False</td>\n",
       "      <td>False</td>\n",
       "      <td>False</td>\n",
       "      <td>False</td>\n",
       "      <td>False</td>\n",
       "      <td>True</td>\n",
       "    </tr>\n",
       "    <tr>\n",
       "      <th>ABLIM1</th>\n",
       "      <td>False</td>\n",
       "      <td>False</td>\n",
       "      <td>True</td>\n",
       "      <td>False</td>\n",
       "      <td>False</td>\n",
       "      <td>False</td>\n",
       "    </tr>\n",
       "  </tbody>\n",
       "</table>\n",
       "</div>"
      ],
      "text/plain": [
       "               cluster_24  cluster_25  cluster_26  cluster_27  cluster_33  \\\n",
       "2010107E04RIK       False       False        True       False       False   \n",
       "4930447C04RIK       False        True       False       False       False   \n",
       "A930011O12RIK       False       False       False       False       False   \n",
       "ABCA8A              False       False       False       False       False   \n",
       "ABLIM1              False       False        True       False       False   \n",
       "\n",
       "               cluster_34  \n",
       "2010107E04RIK       False  \n",
       "4930447C04RIK       False  \n",
       "A930011O12RIK        True  \n",
       "ABCA8A               True  \n",
       "ABLIM1              False  "
      ]
     },
     "execution_count": 5,
     "metadata": {},
     "output_type": "execute_result"
    }
   ],
   "source": [
    "print(gene_metadata.shape)\n",
    "gene_metadata.head()"
   ]
  },
  {
   "cell_type": "code",
   "execution_count": 7,
   "metadata": {
    "collapsed": true
   },
   "outputs": [],
   "source": [
    "# %matplotlib notebook"
   ]
  },
  {
   "cell_type": "code",
   "execution_count": 8,
   "metadata": {
    "collapsed": true
   },
   "outputs": [],
   "source": [
    "import itertools"
   ]
  },
  {
   "cell_type": "code",
   "execution_count": 9,
   "metadata": {
    "collapsed": true
   },
   "outputs": [],
   "source": [
    "# cluster_name_to_ids = {'Horizontal cells': 1, 'Retinal ganglion cells': 2,\n",
    "#                        'Amacrine cells': range(3, 24), \"Rods\": 24,\n",
    "#                        'Cones': 25, 'Bipolar cells': range(26, 34),\n",
    "#                        'Muller glia': 34, 'Astrocytes': 35,\n",
    "#                        'Fibroblasts': 36, 'Vascular endothelium': 37,\n",
    "#                        'Pericytes': 38, 'Microglia': 39}\n",
    "\n",
    "# [zip(itertools.repeat(name), i) \n",
    "#  for name, i in cluster_name_to_ids.items()]"
   ]
  },
  {
   "cell_type": "code",
   "execution_count": 10,
   "metadata": {},
   "outputs": [],
   "source": [
    "# input_folder = os.path.join(common.DATA_FOLDER, '002_robust_pca')\n",
    "\n",
    "# csv = os.path.join(input_folder, 'lowrank.csv')\n",
    "\n",
    "# lowrank = pd.read_csv(csv, index_col=0)\n",
    "# print(lowrank.shape)\n",
    "# lowrank.head()"
   ]
  },
  {
   "cell_type": "markdown",
   "metadata": {},
   "source": [
    "## Assign colors based on clusters"
   ]
  },
  {
   "cell_type": "code",
   "execution_count": 11,
   "metadata": {},
   "outputs": [
    {
     "ename": "NameError",
     "evalue": "name 'ds' is not defined",
     "output_type": "error",
     "traceback": [
      "\u001b[0;31m---------------------------------------------------------------------------\u001b[0m",
      "\u001b[0;31mNameError\u001b[0m                                 Traceback (most recent call last)",
      "\u001b[0;32m<ipython-input-11-392dba1a8ceb>\u001b[0m in \u001b[0;36m<module>\u001b[0;34m()\u001b[0m\n\u001b[0;32m----> 1\u001b[0;31m \u001b[0mcluster_ids\u001b[0m \u001b[0;34m=\u001b[0m \u001b[0mnp\u001b[0m\u001b[0;34m.\u001b[0m\u001b[0munique\u001b[0m\u001b[0;34m(\u001b[0m\u001b[0mds\u001b[0m\u001b[0;34m.\u001b[0m\u001b[0mcell_metadata\u001b[0m\u001b[0;34m.\u001b[0m\u001b[0msel\u001b[0m\u001b[0;34m(\u001b[0m\u001b[0mcell_feature\u001b[0m\u001b[0;34m=\u001b[0m\u001b[0;34m'cluster_id'\u001b[0m\u001b[0;34m)\u001b[0m\u001b[0;34m)\u001b[0m\u001b[0;34m\u001b[0m\u001b[0m\n\u001b[0m\u001b[1;32m      2\u001b[0m \u001b[0mcluster_ids\u001b[0m\u001b[0;34m\u001b[0m\u001b[0m\n",
      "\u001b[0;31mNameError\u001b[0m: name 'ds' is not defined"
     ]
    }
   ],
   "source": [
    "cluster_ids = np.unique(ds.cell_metadata.sel(cell_feature='cluster_id'))\n",
    "cluster_ids"
   ]
  },
  {
   "cell_type": "code",
   "execution_count": null,
   "metadata": {},
   "outputs": [],
   "source": [
    "cluster_n_to_name = {24: 'Rods', 25: 'Cones', \n",
    "                      26: 'Bipolar cells (group1)', \n",
    "                      27: 'Bipolar cells (group2)', \n",
    "                      33: 'Bipolar cells (group3)', \n",
    "                      34: 'Muller glia'}\n",
    "cluster_id_to_name = dict(('cluster_{}'.format(str(i).zfill(2)), name) \n",
    "                          for i, name in cluster_n_to_name.items())\n",
    "cluster_id_to_name"
   ]
  },
  {
   "cell_type": "code",
   "execution_count": null,
   "metadata": {
    "collapsed": true
   },
   "outputs": [],
   "source": [
    "import matplotlib as mpl"
   ]
  },
  {
   "cell_type": "code",
   "execution_count": null,
   "metadata": {},
   "outputs": [],
   "source": [
    "ds.expression.indexes['cell']"
   ]
  },
  {
   "cell_type": "code",
   "execution_count": null,
   "metadata": {},
   "outputs": [],
   "source": [
    "colors = sns.color_palette(palette='Set2', n_colors=len(cluster_ids))\n",
    "# print(colors)\n",
    "id_to_color = dict(zip(cluster_ids, map(mpl.colors.rgb2hex, colors)))\n",
    "id_to_color"
   ]
  },
  {
   "cell_type": "code",
   "execution_count": null,
   "metadata": {},
   "outputs": [],
   "source": [
    "ds.cell_metadata['cell_feature']"
   ]
  },
  {
   "cell_type": "code",
   "execution_count": null,
   "metadata": {},
   "outputs": [],
   "source": [
    "cluster_names_to_color = dict((cluster_id_to_name[i], id_to_color[i]) for i in cluster_ids)\n",
    "cluster_names_to_color"
   ]
  },
  {
   "cell_type": "markdown",
   "metadata": {},
   "source": [
    "## Remove some genes"
   ]
  },
  {
   "cell_type": "code",
   "execution_count": null,
   "metadata": {},
   "outputs": [],
   "source": [
    "dropmask = np.random.randn(*ds.expression.shape) > -1\n",
    "dropmask.shape"
   ]
  },
  {
   "cell_type": "code",
   "execution_count": null,
   "metadata": {},
   "outputs": [],
   "source": [
    "dropped = pd.DataFrame(ds.expression.values * dropmask)\n",
    "print(dropped.shape)\n",
    "dropped.head()\n",
    "# dropped"
   ]
  },
  {
   "cell_type": "code",
   "execution_count": null,
   "metadata": {},
   "outputs": [],
   "source": [
    "common.clustermap(dropped.T.corr(method='spearman'), col_colors=color_labels)"
   ]
  },
  {
   "cell_type": "code",
   "execution_count": null,
   "metadata": {},
   "outputs": [],
   "source": [
    "plt.show()"
   ]
  },
  {
   "cell_type": "code",
   "execution_count": null,
   "metadata": {},
   "outputs": [],
   "source": [
    "from ipywidgets import interact\n",
    "\n",
    "from ipywidgets import IntRangeSlider\n",
    "\n",
    "\n",
    "# table1_t = table1.T\n",
    "# lowrank_t = lowrank.T\n",
    "\n",
    "from ipywidgets  import IntSlider\n",
    "\n",
    "expression = ds.expression.to_pandas()\n",
    "print(expression.shape)\n",
    "expression.head()"
   ]
  },
  {
   "cell_type": "code",
   "execution_count": null,
   "metadata": {},
   "outputs": [],
   "source": [
    "cluster_ids_in_data = ds.cell_metadata.sel(cell_feature='cluster_id').values\n",
    "# cluster_ids_in_data"
   ]
  },
  {
   "cell_type": "code",
   "execution_count": null,
   "metadata": {},
   "outputs": [],
   "source": [
    "color_labels = [id_to_color[i] for i in cluster_ids_in_data]\n",
    "color_labels[:4]"
   ]
  },
  {
   "cell_type": "code",
   "execution_count": 12,
   "metadata": {},
   "outputs": [
    {
     "ename": "NameError",
     "evalue": "name 'interact' is not defined",
     "output_type": "error",
     "traceback": [
      "\u001b[0;31m---------------------------------------------------------------------------\u001b[0m",
      "\u001b[0;31mNameError\u001b[0m                                 Traceback (most recent call last)",
      "\u001b[0;32m<ipython-input-12-bb8fe48bb5b7>\u001b[0m in \u001b[0;36m<module>\u001b[0;34m()\u001b[0m\n\u001b[1;32m     38\u001b[0m             )\n\u001b[1;32m     39\u001b[0m \u001b[0;34m\u001b[0m\u001b[0m\n\u001b[0;32m---> 40\u001b[0;31m \u001b[0mplot_dropout_interactive\u001b[0m\u001b[0;34m(\u001b[0m\u001b[0;34m)\u001b[0m\u001b[0;34m\u001b[0m\u001b[0m\n\u001b[0m",
      "\u001b[0;32m<ipython-input-12-bb8fe48bb5b7>\u001b[0m in \u001b[0;36mplot_dropout_interactive\u001b[0;34m()\u001b[0m\n\u001b[1;32m     30\u001b[0m \u001b[0;34m\u001b[0m\u001b[0m\n\u001b[1;32m     31\u001b[0m \u001b[0;32mdef\u001b[0m \u001b[0mplot_dropout_interactive\u001b[0m\u001b[0;34m(\u001b[0m\u001b[0;34m)\u001b[0m\u001b[0;34m:\u001b[0m\u001b[0;34m\u001b[0m\u001b[0m\n\u001b[0;32m---> 32\u001b[0;31m     interact(plot_dropout, \n\u001b[0m\u001b[1;32m     33\u001b[0m          \u001b[0mpercent_gene_dropout\u001b[0m\u001b[0;34m=\u001b[0m\u001b[0mIntSlider\u001b[0m\u001b[0;34m(\u001b[0m\u001b[0mvalue\u001b[0m\u001b[0;34m=\u001b[0m\u001b[0;36m0\u001b[0m\u001b[0;34m,\u001b[0m \u001b[0mmin\u001b[0m\u001b[0;34m=\u001b[0m\u001b[0;36m0\u001b[0m\u001b[0;34m,\u001b[0m \u001b[0mmax\u001b[0m\u001b[0;34m=\u001b[0m\u001b[0;36m100\u001b[0m\u001b[0;34m,\u001b[0m \u001b[0mstep\u001b[0m\u001b[0;34m=\u001b[0m\u001b[0;36m10\u001b[0m\u001b[0;34m)\u001b[0m\u001b[0;34m,\u001b[0m\u001b[0;34m\u001b[0m\u001b[0m\n\u001b[1;32m     34\u001b[0m          \u001b[0mcorrelation\u001b[0m\u001b[0;34m=\u001b[0m\u001b[0;34m[\u001b[0m\u001b[0;34m'pearson'\u001b[0m\u001b[0;34m,\u001b[0m \u001b[0;34m'spearman'\u001b[0m\u001b[0;34m]\u001b[0m\u001b[0;34m,\u001b[0m\u001b[0;34m\u001b[0m\u001b[0m\n",
      "\u001b[0;31mNameError\u001b[0m: name 'interact' is not defined"
     ]
    }
   ],
   "source": [
    "def plot_dropout(percent_gene_dropout=50,\n",
    "                 correlation='pearson', linkage_method='ward',\n",
    "                 distance_metric='euclidean', #dataset='original'\n",
    "                ):\n",
    "#     if dataset == 'original':\n",
    "#         data = expression\n",
    "#     elif dataset == 'low-rank':\n",
    "#         data = lowrank_t\n",
    "    \n",
    "    \n",
    "    title = '{}%, {}, {}, {}'.format(percent_gene_dropout, \n",
    "                                         correlation, linkage_method, \n",
    "                                         distance_metric, )\n",
    "    \n",
    "    threshold = percent_gene_dropout / 100.\n",
    "    print('threshold', threshold)\n",
    "    mask = np.random.uniform(size=expression.shape) > threshold\n",
    "    print(mask.shape)\n",
    "    data = expression * mask\n",
    "    print(data.head())\n",
    "    g = common.clustermap(data.corr(method=correlation), \n",
    "                         col_colors=color_labels, \n",
    "                         row_colors=color_labels, \n",
    "                         metric=distance_metric, \n",
    "                          method=linkage_method, \n",
    "                          figsize=(4, 4))\n",
    "    g.fig.suptitle(title)\n",
    "    plt.show()\n",
    "\n",
    "\n",
    "def plot_dropout_interactive():\n",
    "    interact(plot_dropout, \n",
    "         percent_gene_dropout=IntSlider(value=0, min=0, max=100, step=10), \n",
    "         correlation=['pearson', 'spearman'], \n",
    "         linkage_method=['ward', 'average', 'single', \"complete\"],\n",
    "         distance_metric=['euclidean', \"cityblock\"], \n",
    "#          dataset=['original', 'low-rank']\n",
    "            )\n",
    "\n",
    "plot_dropout_interactive()"
   ]
  },
  {
   "cell_type": "code",
   "execution_count": null,
   "metadata": {
    "collapsed": true
   },
   "outputs": [],
   "source": [
    "warnings.onceregistry"
   ]
  },
  {
   "cell_type": "code",
   "execution_count": null,
   "metadata": {
    "collapsed": true,
    "scrolled": false
   },
   "outputs": [],
   "source": [
    "common.clustermap(table1.T.corr(method='spearman'), col_colors=color_labels)\n"
   ]
  },
  {
   "cell_type": "markdown",
   "metadata": {},
   "source": [
    "## Add Robust PCA implementations to path"
   ]
  },
  {
   "cell_type": "code",
   "execution_count": null,
   "metadata": {
    "collapsed": true
   },
   "outputs": [],
   "source": [
    "import sys\n",
    "\n",
    "sys.path.extend(['/Users/olgabot/code/robust-pca/', '/Users/olgabot/code/rpcaADMM/'])\n",
    "\n",
    "import r_pca\n",
    "import rpcaADMM"
   ]
  },
  {
   "cell_type": "code",
   "execution_count": null,
   "metadata": {
    "collapsed": true
   },
   "outputs": [],
   "source": [
    "%%time\n",
    "rpca_alm = r_pca.R_pca(dropped.as_matrix(), lmbda=0.1)\n",
    "rpca_alm.fit()"
   ]
  },
  {
   "cell_type": "code",
   "execution_count": null,
   "metadata": {
    "collapsed": true
   },
   "outputs": [],
   "source": [
    "rpca_alm.lmbda"
   ]
  },
  {
   "cell_type": "code",
   "execution_count": null,
   "metadata": {
    "collapsed": true
   },
   "outputs": [],
   "source": [
    "sns.heatmap(dropped)"
   ]
  },
  {
   "cell_type": "code",
   "execution_count": null,
   "metadata": {
    "collapsed": true
   },
   "outputs": [],
   "source": [
    "sns.heatmap(rpca_alm.L)"
   ]
  },
  {
   "cell_type": "code",
   "execution_count": null,
   "metadata": {
    "collapsed": true
   },
   "outputs": [],
   "source": [
    "sns.heatmap(rpca_alm.S)"
   ]
  },
  {
   "cell_type": "code",
   "execution_count": null,
   "metadata": {
    "collapsed": true
   },
   "outputs": [],
   "source": [
    "L = pd.DataFrame(rpca_alm.L, index=dropped.index, columns=dropped.columns)\n",
    "print(L.shape)\n",
    "L.head()"
   ]
  },
  {
   "cell_type": "code",
   "execution_count": null,
   "metadata": {
    "collapsed": true
   },
   "outputs": [],
   "source": [
    "common.clustermap(L.T.corr(method='spearman'), col_colors=color_labels)"
   ]
  },
  {
   "cell_type": "code",
   "execution_count": null,
   "metadata": {
    "collapsed": true
   },
   "outputs": [],
   "source": []
  }
 ],
 "metadata": {
  "kernelspec": {
   "display_name": "Python 3 (cshl-sca-2017)",
   "language": "python",
   "name": "cshl-sca-2017"
  },
  "language_info": {
   "codemirror_mode": {
    "name": "ipython",
    "version": 3
   },
   "file_extension": ".py",
   "mimetype": "text/x-python",
   "name": "python",
   "nbconvert_exporter": "python",
   "pygments_lexer": "ipython3",
   "version": "3.6.1"
  }
 },
 "nbformat": 4,
 "nbformat_minor": 2
}
