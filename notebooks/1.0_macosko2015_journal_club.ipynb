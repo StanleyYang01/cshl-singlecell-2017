{
 "cells": [
  {
   "cell_type": "markdown",
   "metadata": {},
   "source": [
    "# Journal club discussion\n",
    "\n",
    "1. What was their biological question?\n",
    "2. What were their quality control methods? Specifically ….\n",
    "    1. How did they filter cells?\n",
    "    1. How did they filter genes?\n",
    "        1. What was their unit of gene expression?\n",
    "3. How do they account for the following confounding factors (and any others)?\n",
    "    1. Cell size\n",
    "    1. Dead cells\n",
    "    1. Extremely high expression (e.g. insulin is very highly expressed in certain pancreas cell types)\n",
    "    1. Dropout of lowly expressed genes (e.g. transcription factors)\n",
    "1. For each of the following, answer what is the heterogeneity and how they accounted for it.\n",
    "    1. What is the known biological heterogeneity? (e.g. knockout of a gene)\n",
    "    1. What is the unknown biological heterogeneity? (e.g. the cell type heterogeneity)\n",
    "    1. What is the biological stochasticity? (e.g. transcriptional bursting)\n",
    "    1. What is the technical heterogeneity? (e.g. dropout or batch effects)\n",
    "1. What computational steps did they take to answer their biological question? It’s okay if these terms are over your head right now, we’ll go over them in the course. What’s important is to capture the overall flow chart.\n",
    "    1. E.g. Filtered genes → PCA → k-means clustering → differential expression"
   ]
  }
 ],
 "metadata": {
  "kernelspec": {
   "display_name": "Python 3 (cshl-sca-2017)",
   "language": "python",
   "name": "cshl-sca-2017"
  },
  "language_info": {
   "codemirror_mode": {
    "name": "ipython",
    "version": 3
   },
   "file_extension": ".py",
   "mimetype": "text/x-python",
   "name": "python",
   "nbconvert_exporter": "python",
   "pygments_lexer": "ipython3",
   "version": "3.6.1"
  }
 },
 "nbformat": 4,
 "nbformat_minor": 2
}
