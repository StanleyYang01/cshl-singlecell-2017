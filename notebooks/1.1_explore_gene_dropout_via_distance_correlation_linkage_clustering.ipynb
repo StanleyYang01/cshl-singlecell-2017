{
 "cells": [
  {
   "cell_type": "markdown",
   "metadata": {},
   "source": [
    "# How does gene dropout affect my results?\n",
    "\n",
    "A key issue in single-cell anything-seq is that you're not capturing every single molecule that you want. Thus you have many more zeros in your data than you truly have. We will discuss:\n",
    "\n",
    "- How does gene dropout affect your interpretation of the results? \n",
    "- What computational tricks can you use to avoid making conclusions that are a result of lack of data?\n",
    "\n",
    "To be able to talk about this, we need to introduce some computational concepts. Here, we will talk about:\n",
    "\n",
    "- Correlation metrics\n",
    "- Distance metrics\n",
    "- Clustering linkage method\n",
    "- Hierarchical clustering - agglomerative vs dismissive\n",
    "\n",
    "Let's get started! In the first code cell, we import modules we'll use"
   ]
  },
  {
   "cell_type": "code",
   "execution_count": null,
   "metadata": {
    "collapsed": true
   },
   "outputs": [],
   "source": [
    "# Alphabetical order for nonstandard python modules is conventional\n",
    "# We're doing \"import superlongname as abbrev\" for our laziness -- \n",
    "# -- this way we don't have to type out the whole thing each time.\n",
    "\n",
    "# Python plotting library\n",
    "import matplotlib.pyplot as plt\n",
    "\n",
    "# Dataframes in Python\n",
    "import pandas as pd\n",
    "\n",
    "# Statistical plotting library we'll use\n",
    "import seaborn as sns\n",
    "# Use the visual style of plots that I prefer and use the \n",
    "# \"notebook\" context, which sets the default font and figure sizes\n",
    "sns.set(style='whitegrid')\n",
    "\n",
    "# This is necessary to show the plotted figures inside the notebook -- \"inline\" with the notebook cells\n",
    "%matplotlib inline\n",
    "\n",
    "# Import figure code for interactive widgets\n",
    "import fig_code"
   ]
  },
  {
   "cell_type": "markdown",
   "metadata": {},
   "source": [
    "## Correlation metrics\n",
    "\n",
    "### Spearman correlation\n",
    "[Spearman correlation](https://en.wikipedia.org/wiki/Spearman%27s_rank_correlation_coefficient)`\n",
    "answers the simple question, every time $x$ increases, does $y$ increase also? If yes, then spearman correlation = 1.\n",
    "\n",
    "Mathematically speaking, Spearman tells you whether $x$ and $y$ increase monotonically together (but not necessarily linearly!!)\n",
    "\n",
    "![](https://upload.wikimedia.org/wikipedia/commons/thumb/4/4e/Spearman_fig1.svg/360px-Spearman_fig1.svg.png)\n",
    "\n",
    "\n",
    "### Pearson correlation\n",
    "[Pearson Correlation](https://en.wikipedia.org/wiki/Pearson_product-moment_correlation_coefficient) answers the question, every time my $x$ decreases by some amount $a$, does $y$ decrease by an amount proportional to that, say $10a$ or $0.5a$, and is this amount constant?\n",
    "\n",
    "$\\rho_{x,y} = \\frac{\\mathrm{cov}(\\vec{x}, \\vec{y})}{\\sigma_x, \\sigma_y}$\n",
    "\n",
    "Mathematically speaking, pearson tells you whether $x$ and $y$ are *linear* to each other.\n",
    "\n",
    "![](https://upload.wikimedia.org/wikipedia/commons/3/34/Correlation_coefficient.png)\n",
    "\n",
    "### Spearman vs Pearson\n",
    "\n",
    "Spearman's correlation is related to Pearson because Spearman \n",
    "\n",
    "Spearman correlation = Pearson correlation on the ranks of the data."
   ]
  },
  {
   "cell_type": "markdown",
   "metadata": {},
   "source": [
    "## Anscombe's quartet \n",
    "\n",
    "Anscombe's quartet is a group of four datasets that have nearly identical statistical properties that we'll use for exploring distance and correlation metrics."
   ]
  },
  {
   "cell_type": "code",
   "execution_count": null,
   "metadata": {},
   "outputs": [],
   "source": [
    "# Read the file - notice it is a URL. pandas can read either URLs or files on your computer\n",
    "anscombe = pd.read_csv(\"https://github.com/mwaskom/seaborn-data/raw/master/anscombe.csv\")\n",
    "\n",
    "# Say the variable name with no arguments to look at the data\n",
    "anscombe"
   ]
  },
  {
   "cell_type": "markdown",
   "metadata": {},
   "source": [
    "Let's use `FacetGrid` from seaborn to plot the data onto four axes, and plot the regression line `"
   ]
  },
  {
   "cell_type": "code",
   "execution_count": null,
   "metadata": {},
   "outputs": [],
   "source": [
    "# Make a \"grid\" of plots based on the column name \"dataset\"\n",
    "g = sns.FacetGrid(anscombe, col='dataset')\n",
    "\n",
    "# Make a regression plot (regplot) using 'x' for the x-axis and 'y' for the y-axis\n",
    "g.map(sns.regplot, 'x', 'y')"
   ]
  },
  {
   "cell_type": "markdown",
   "metadata": {},
   "source": [
    "Below is a widget that calculates different summary statistics or distance metrics using Anscombe's quartet. It shows both a table and a barplot of the values. Play around with the different settings and discuss the questions below with your partner."
   ]
  },
  {
   "cell_type": "code",
   "execution_count": null,
   "metadata": {},
   "outputs": [],
   "source": [
    "fig_code.interact_anscombe()"
   ]
  },
  {
   "cell_type": "markdown",
   "metadata": {},
   "source": [
    "### Discussion\n",
    "\n",
    "Discuss the questions below while you play with the widgets.\n",
    "\n",
    "1. Which metrics were nearly the same between all four datasets of Anscombe's quartet? Why?\n",
    "2. Which metrics were different between all four datasets of Anscombe's quartet? Why?\n",
    "3. Why do we use different summary statistics?\n"
   ]
  },
  {
   "cell_type": "markdown",
   "metadata": {},
   "source": [
    "## Distance metrics: Euclidean vs Manhattan\n",
    "One important point of how you decide two points are \"near\" each other is which distance metric you use.\n",
    "\n",
    "- Euclidean distance is what you learned in algebra class: $d(x, y) = \\sqrt{x^2 + y^2}$, but all the way to $N$ dimensional vectors ($\\vec{x}, \\vec{y}$ represent $N$-dimensional vectors): $d(\\vec{x}, \\vec{y}) = \\sqrt{\\sum_i^N \\left(x_i -y_i\\right)^2}$\n",
    "- Manhattan distance (also called \"taxicab geometry\") is similar but no squares or square roots: $d(\\vec{x}, \\vec{y}) = \\sum_i^N |x_i - y_i|$\n",
    "\n",
    "![](https://upload.wikimedia.org/wikipedia/commons/thumb/0/08/Manhattan_distance.svg/283px-Manhattan_distance.svg.png)\n",
    "\n",
    "\n",
    "## Clustering linkage methods: Ward, average, single, complete\n",
    "\n",
    "![Linkage methods](figures/linkage_methods.jpg)\n",
    "\n",
    "* Single: Compares shortest distance between clusters\n",
    "* Complete: Compares largest distance between clusters\n",
    "* Average: Compares average distance between clusters\n",
    "* Ward: Compares how the addition of a new cluster increases the within-cluster variance\n",
    "* Centroid: Compares centroid points of clusters\n",
    "\n",
    "source: http://www.slideshare.net/neerajkaushik/cluster-analysis\n",
    "\n",
    "\n",
    "## Hierarchical clustering: Agglomerative vs Dismissive\n",
    "\n",
    "Hierarchical clustering creates a ordered grouping of the cells (or genes, but today we're focusing on cells) based on how close they are. To create this grouping, you can either be \"top-down\" (dismissive) or \"bottom-up\" (agglomerative)\n",
    "\n",
    "- \"Top-down\" means you start with one BIG cluster of all the cells, you remove one cell at a time, and the way you choose that cell is by using the one that is least similar to everyone else. You're basically kicking out the outcasts every time :(\n",
    "- \"Bottom-up\" is much more inclusive - everyone starts as their own solo cluster, and then the two closest cells get merged together, then the next closest cell gets added to the growing cluster. This way. you're growing a big happy family.\n",
    "\n",
    "Below is a diagram showing the steps of \"bottom-up\" (agglomerative) clustering on a small dataset. Notice that as you group points together, you add \"leaves\" to your \"tree\" -- yes these are the real words that are used! The diagram of lines on top of the ordered letters showing the clustering is called a \"dendrogram\" (\"tree diagram\").\n",
    "\n",
    "![Agglomerative clustering](https://www.researchgate.net/profile/Carsten_Walther/publication/273456906/figure/fig3/AS:294866065084419@1447312956501/Figure-4-Example-of-hierarchical-clustering-clusters-are-consecutively-merged-with-the.png)\n",
    "\n",
    "source: https://www.researchgate.net/figure/273456906_fig3_Figure-4-Example-of-hierarchical-clustering-clusters-are-consecutively-merged-with-the"
   ]
  },
  {
   "cell_type": "markdown",
   "metadata": {},
   "source": [
    "## Dropout using Macosko2015 data\n",
    "\n",
    "To explore the concepts of correlation, linkage, and distance metrics, we will be using a 300-cell, 259-gene subset of the Macosko 2015 data that contains 50 cells each from the following clusters:"
   ]
  },
  {
   "cell_type": "code",
   "execution_count": null,
   "metadata": {},
   "outputs": [],
   "source": [
    "for cluster_id, name in fig_code.cluster_id_to_name.items():\n",
    "    # The 'f' before the string means it's a \"format string,\"\n",
    "    # which means it will read the variable names that exist\n",
    "    # in your workspace. This is a very helpful and convient thing that was\n",
    "    # just released in Python 3.6! (not available in Python 3.5)\n",
    "    print('---')\n",
    "    print(f'{cluster_id}: {name}')"
   ]
  },
  {
   "cell_type": "markdown",
   "metadata": {},
   "source": [
    "Here is a plot of the colors associated with each group"
   ]
  },
  {
   "cell_type": "code",
   "execution_count": null,
   "metadata": {},
   "outputs": [],
   "source": [
    "fig_code.plot_color_legend()"
   ]
  },
  {
   "cell_type": "markdown",
   "metadata": {},
   "source": [
    "Below is another widget for you to play with. It lets you set different gene dropout thresholds (starts at 0 dropout), which will randomly remove (additional!) genes from the data.\n",
    "\n",
    "We will be evaluating dropout by looking at the cell-cell correlations, measured by the correlation metric (starts at pearson), then will be clustered using hierarchical clustering using the distance metric and linkage method specified."
   ]
  },
  {
   "cell_type": "code",
   "execution_count": null,
   "metadata": {
    "scrolled": false
   },
   "outputs": [],
   "source": [
    "fig_code.plot_dropout_interactive()"
   ]
  },
  {
   "cell_type": "markdown",
   "metadata": {},
   "source": [
    "#### Notes:\n",
    "\n",
    "* The ends of the branches are called \"leaves\" and this indicates how closely related the pairs of samples (or groups of samples) are related\n",
    "* By \"best clustering\", I mean where do you see the most biologically relevant information?\n",
    "\n",
    "\n",
    "### Discussion\n",
    "\n",
    "Discuss the questions below while you play with the widgets.\n",
    "\n",
    "#### Correlation methods\n",
    "\n",
    "1. Can you tell the difference between the correlations at 0% dropout? What about at 50%?\n",
    "1. Which correlation method maintains the clustering from the paper even at higher dropouts?\n",
    "1. Which correlation method made the best clusters, in your opininon?\n",
    "1. Which one would you use for single-cell RNA seq data with lots of dropout?\n",
    "\n",
    "#### Distance metrics\n",
    "\n",
    "1. Which distance metric produced the longest branch lengths? The shortest?\n",
    "1. Which distance metric was most consistent with their clustering? Least consistent?\n",
    "1. Which distance metric made the best clusters, in your opininon?\n",
    "1. Which one would you use for single-cell RNA seq data with lots of dropout?\n",
    "\n",
    "#### Linkage methods\n",
    "\n",
    "1. Which linkage method produced the longest branch lengths? The shortest?\n",
    "1. Which linkage method was most consistent with their clustering? Least consistent?\n",
    "1. Which linkage method made the best clusters, in your opininon?\n",
    "1. Which one would you use for single-cell RNA seq data with lots of dropout?\n",
    "\n",
    "#### General\n",
    "\n",
    "1. Did the cell type clustering from the paper always agree with the different methods/metrics? Why do you think that is?\n",
    "1. Do you think their clustering could have been improved? How?\n",
    "3. What influenced the clustering the most?\n",
    "    - Gene dropout\n",
    "    - Correlation method\n",
    "    - Distance metric\n",
    "    - Linkage method"
   ]
  }
 ],
 "metadata": {
  "kernelspec": {
   "display_name": "Python 3 (cshl-sca-2017)",
   "language": "python",
   "name": "cshl-sca-2017"
  },
  "language_info": {
   "codemirror_mode": {
    "name": "ipython",
    "version": 3
   },
   "file_extension": ".py",
   "mimetype": "text/x-python",
   "name": "python",
   "nbconvert_exporter": "python",
   "pygments_lexer": "ipython3",
   "version": "3.6.1"
  }
 },
 "nbformat": 4,
 "nbformat_minor": 1
}
