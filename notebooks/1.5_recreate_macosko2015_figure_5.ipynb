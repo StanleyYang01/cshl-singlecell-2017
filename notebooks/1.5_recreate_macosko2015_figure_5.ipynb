{
 "cells": [
  {
   "cell_type": "markdown",
   "metadata": {},
   "source": [
    "# Recreate Figure 5\n",
    "\n",
    "The purpose of this notebook is to combine all the digital gene expression data for the retina cells, downloaded from the Gene Expression Omnibus using the accession number [GSE63473](https://www.ncbi.nlm.nih.gov/geo/query/acc.cgi?acc=GSE63473)."
   ]
  },
  {
   "cell_type": "code",
   "execution_count": null,
   "metadata": {},
   "outputs": [],
   "source": [
    "import altair\n",
    "import numpy as np\n",
    "import matplotlib.pyplot as plt\n",
    "import pandas as pd\n",
    "import seaborn as sns\n",
    "\n",
    "# Set the plotting style as for a \"paper\" (smaller labels) \n",
    "# and using a white background with a grid (\"whitegrid\")\n",
    "sns.set(context='paper', style='whitegrid')\n",
    "\n",
    "%matplotlib inline"
   ]
  },
  {
   "cell_type": "markdown",
   "metadata": {},
   "source": [
    "We'll import the `macosko2015` package, which contains a URL pointing to where we've created clean data"
   ]
  },
  {
   "cell_type": "code",
   "execution_count": null,
   "metadata": {},
   "outputs": [],
   "source": [
    "import macosko2015\n",
    "macosko2015.BASE_URL"
   ]
  },
  {
   "cell_type": "markdown",
   "metadata": {},
   "source": [
    "We've created a subset of the data that contains all the cells from batch 1, and only the differentially expressed genes. This is still pretty big!!"
   ]
  },
  {
   "cell_type": "code",
   "execution_count": null,
   "metadata": {},
   "outputs": [],
   "source": [
    "urlname = macosko2015.BASE_URL + 'differential_clusters_expression.csv'\n",
    "urlname"
   ]
  },
  {
   "cell_type": "code",
   "execution_count": null,
   "metadata": {},
   "outputs": [],
   "source": [
    "expression = pd.read_csv(urlname, index_col=0)\n",
    "print(expression.shape)\n",
    "expression.head()"
   ]
  },
  {
   "cell_type": "markdown",
   "metadata": {},
   "source": [
    "For later, let's also make a logged version the expression matrix:"
   ]
  },
  {
   "cell_type": "code",
   "execution_count": null,
   "metadata": {},
   "outputs": [],
   "source": [
    "expression_log10 = np.log10(expression + 1)\n",
    "print(expression_log10.shape)\n",
    "expression_log10.head()"
   ]
  },
  {
   "cell_type": "markdown",
   "metadata": {},
   "source": [
    "Now let's read the cell metadata"
   ]
  },
  {
   "cell_type": "code",
   "execution_count": null,
   "metadata": {},
   "outputs": [],
   "source": [
    "urlname = macosko2015.BASE_URL + 'differential_clusters_cell_metadata.csv'\n",
    "cell_metadata = pd.read_csv(urlname, index_col=0)\n",
    "cell_metadata.head()"
   ]
  },
  {
   "cell_type": "markdown",
   "metadata": {},
   "source": [
    "## Figure 5a\n",
    "\n",
    "For this figure, the caption is:\n",
    "\n",
    "> (A) Pan-amacrine markers. The expression levels of the six genes identified (Nrxn2, Atp1b1, Pax6, Slc32a1, Slc6a1, Elavl3) are represented as dot plots across all 39 clusters; larger dots indicate broader expression within the cluster; deeper red denotes a higher expression level.\n",
    "\n",
    "I wonder, how did they aggregate their expression per cluster? Mean, median, or mode? Did they log their data? We'll find out :)\n",
    "\n",
    "![Macosko2015 figure 5a](figures/macosko2015_figure5a.png)"
   ]
  },
  {
   "cell_type": "markdown",
   "metadata": {},
   "source": [
    "You may have noticed that while the gene names are Captialcase in the paper, they're all uppercase in the data. So first, we'll define a function called `upperizer` that will make our gene names uppercase.\n",
    "\n",
    "Then, we'll make a list of genes for Figure 5a"
   ]
  },
  {
   "cell_type": "code",
   "execution_count": null,
   "metadata": {},
   "outputs": [],
   "source": [
    "def upperizer(genes):\n",
    "    return [x.upper() for x in genes]\n",
    "\n",
    "figure5a_genes = ['Nrxn2', 'Atp1b1', 'Pax6', 'Slc32a1', 'Slc6a1', 'Elavl3']\n",
    "figure5a_genes_upper = upperizer(figure5a_genes)\n",
    "figure5a_genes_upper"
   ]
  },
  {
   "cell_type": "markdown",
   "metadata": {},
   "source": [
    "### Exercise 1\n",
    "\n",
    "Make a subset of the data called `figure5a_expression` that contains only the genes from `figure5a_genes_upper` - Remember, genes are columns! How do you select only certain columns for pandas dataframes?"
   ]
  },
  {
   "cell_type": "code",
   "execution_count": null,
   "metadata": {
    "collapsed": true
   },
   "outputs": [],
   "source": [
    "# YOUR CODE HERE"
   ]
  },
  {
   "cell_type": "markdown",
   "metadata": {},
   "source": [
    "![](figures/dont_scroll.svg)"
   ]
  },
  {
   "cell_type": "code",
   "execution_count": null,
   "metadata": {},
   "outputs": [],
   "source": [
    "figure5a_expression = expression[figure5a_genes_upper]\n",
    "print(figure5a_expression.shape)\n",
    "figure5a_expression.head()"
   ]
  },
  {
   "cell_type": "markdown",
   "metadata": {},
   "source": [
    "We will use a function called `groupby` to grab the cells from each cluster, and use `.mean()`"
   ]
  },
  {
   "cell_type": "code",
   "execution_count": null,
   "metadata": {},
   "outputs": [],
   "source": [
    "figure5a_expression_mean = figure5a_expression.groupby(cell_metadata['cluster_n'], axis=0).mean()\n",
    "print(figure5a_expression_mean.shape)\n",
    "figure5a_expression_mean.head()"
   ]
  },
  {
   "cell_type": "markdown",
   "metadata": {},
   "source": [
    "## Tidy data\n",
    "\n",
    "To make this \"punchcard\" style figure, we will use the program `altair`. To use this program, we need to reshape our data into a tall, [\"tidy\" data format](http://vita.had.co.nz/papers/tidy-data.html), where each row is an observation, and each column is a variable:\n",
    "\n",
    "![Tidy data](http://r4ds.had.co.nz/images/tidy-1.png)\n",
    "\n",
    "Source: http://r4ds.had.co.nz/tidy-data.html\n",
    "\n",
    "First, we will `unstack` our data, which will make a very long column of gene expression, where the gene name and cluster number is the `index`."
   ]
  },
  {
   "cell_type": "code",
   "execution_count": null,
   "metadata": {},
   "outputs": [],
   "source": [
    "figure5a_expression_mean_unstack = figure5a_expression_mean.unstack()\n",
    "print(figure5a_expression_mean_unstack.shape)\n",
    "figure5a_expression_mean_unstack.head()"
   ]
  },
  {
   "cell_type": "markdown",
   "metadata": {},
   "source": [
    "Now let's use the function `reset_index`, which will take everything that was an `index` and now make it a column:"
   ]
  },
  {
   "cell_type": "code",
   "execution_count": null,
   "metadata": {},
   "outputs": [],
   "source": [
    "figure5a_expression_tidy = figure5a_expression_mean_unstack.reset_index()\n",
    "print(figure5a_expression_tidy.shape)\n",
    "figure5a_expression_tidy.head()"
   ]
  },
  {
   "cell_type": "markdown",
   "metadata": {},
   "source": [
    "But our column names aren't so nice anymore ... let's create a `dict` to map the old column name to a new, nicer one."
   ]
  },
  {
   "cell_type": "code",
   "execution_count": null,
   "metadata": {},
   "outputs": [],
   "source": [
    "renamer = {'level_0': 'gene_symbol', 0: 'expression'}\n",
    "renamer"
   ]
  },
  {
   "cell_type": "markdown",
   "metadata": {},
   "source": [
    "We can use the dataframe function `.rename()` to rename our columns:"
   ]
  },
  {
   "cell_type": "code",
   "execution_count": null,
   "metadata": {},
   "outputs": [],
   "source": [
    "figure5a_expression_tidy = figure5a_expression_tidy.rename(columns=renamer)\n",
    "print(figure5a_expression_tidy.shape)\n",
    "figure5a_expression_tidy.head()"
   ]
  },
  {
   "cell_type": "markdown",
   "metadata": {},
   "source": [
    "Let's also add a log expression column, just in case :)"
   ]
  },
  {
   "cell_type": "code",
   "execution_count": null,
   "metadata": {},
   "outputs": [],
   "source": [
    "figure5a_expression_tidy['expression_log'] = np.log10(figure5a_expression_tidy['expression'] + 1)\n",
    "print(figure5a_expression_tidy.shape)\n",
    "figure5a_expression_tidy.head()"
   ]
  },
  {
   "cell_type": "code",
   "execution_count": null,
   "metadata": {},
   "outputs": [],
   "source": [
    "altair.Chart(figure5a_expression_tidy).mark_circle().encode(\n",
    "    size='expression', x=altair.X('gene_symbol'), y=altair.Y('cluster_n'))"
   ]
  },
  {
   "cell_type": "markdown",
   "metadata": {},
   "source": [
    "### Exercise 2\n",
    "\n",
    "Make the same plot, but use the logged expression column"
   ]
  },
  {
   "cell_type": "code",
   "execution_count": null,
   "metadata": {
    "collapsed": true
   },
   "outputs": [],
   "source": [
    "# YOUR CODE HERE"
   ]
  },
  {
   "cell_type": "markdown",
   "metadata": {},
   "source": [
    "![](figures/dont_scroll.svg)"
   ]
  },
  {
   "cell_type": "code",
   "execution_count": null,
   "metadata": {},
   "outputs": [],
   "source": [
    "altair.Chart(figure5a_expression_tidy).mark_circle().encode(\n",
    "    size='expression_log', x=altair.X('gene_symbol'), y=altair.Y('cluster_n'))"
   ]
  },
  {
   "cell_type": "markdown",
   "metadata": {},
   "source": [
    "### Bonus exercise (if you're feeling ahead)\n",
    "\n",
    "Try the same thing, but with:\n",
    "\n",
    "- **Median** within clusters, raw counts\n",
    "- **Median** within clusters, log expression"
   ]
  },
  {
   "cell_type": "markdown",
   "metadata": {},
   "source": [
    "## Figure 5b\n",
    "\n",
    "Here, we will make violinplots of specific genes within our dataset.\n",
    "\n",
    "The caption of this figure is:\n",
    "\n",
    "> (B) Identification of known amacrine types among clusters. The 21 amacrine clusters consisted of 12 GABAergic, five glycinergic, one glutamatergic, and three non-GABAergic non-glycinergic clusters. Starburst amacrines were identified in cluster 3 by their expression of Chat; excitatory amacrines by expression of Slc17a8; A-II amacrines by their expression of Gjd2; and SEG amacrine neurons by their expression of Ebf3.\n",
    "\n",
    "![Macosko2015 Figure 5b](figures/macosko2015_figure5b.png)"
   ]
  },
  {
   "cell_type": "markdown",
   "metadata": {},
   "source": [
    "### Exercise 3\n",
    "\n",
    "1. Make a subset of genes called `figure5b_genes` using the gene names from the paper figure. \n",
    "    * You may want to use the `upperizer()` function we used before\n",
    "\n",
    "Use as many code cells as you need"
   ]
  },
  {
   "cell_type": "code",
   "execution_count": null,
   "metadata": {
    "collapsed": true
   },
   "outputs": [],
   "source": [
    "# YOUR CODE HERE"
   ]
  },
  {
   "cell_type": "code",
   "execution_count": null,
   "metadata": {
    "collapsed": true
   },
   "outputs": [],
   "source": [
    "# YOUR CODE HERE"
   ]
  },
  {
   "cell_type": "code",
   "execution_count": null,
   "metadata": {
    "collapsed": true
   },
   "outputs": [],
   "source": [
    "# YOUR CODE HERE"
   ]
  },
  {
   "cell_type": "markdown",
   "metadata": {},
   "source": [
    "![](figures/dont_scroll.svg)"
   ]
  },
  {
   "cell_type": "code",
   "execution_count": null,
   "metadata": {},
   "outputs": [],
   "source": [
    "figure5b_genes = ['Chat', \"Gad1\", 'Gad2', 'Slc17a8', 'Slc6a9', 'Gjd2', 'Gjd2', 'Ebf3']\n",
    "figure5b_genes_upper = upperizer(figure5b_genes)\n",
    "figure5b_genes_upper"
   ]
  },
  {
   "cell_type": "markdown",
   "metadata": {},
   "source": [
    "Now that we have the genes we want, let's get the cells we want!\n",
    "\n",
    "We can use the `range` function in Python to get numbers in order"
   ]
  },
  {
   "cell_type": "code",
   "execution_count": null,
   "metadata": {},
   "outputs": [],
   "source": [
    "range(5)"
   ]
  },
  {
   "cell_type": "markdown",
   "metadata": {},
   "source": [
    "Now this returns a \"range object\" which means Python is being lazy and not telling us what's inside. To force Python into action, we can use `list`:"
   ]
  },
  {
   "cell_type": "code",
   "execution_count": null,
   "metadata": {},
   "outputs": [],
   "source": [
    "list(range(5))"
   ]
  },
  {
   "cell_type": "markdown",
   "metadata": {},
   "source": [
    "So this is getting us all numbers from 0 to 4 (not including 5). We can use this group of numbers to subset our cell metadata! Let's make a variable called `rows` that contains `True`/`False` values telling us whether the cells are in that cluster number:"
   ]
  },
  {
   "cell_type": "code",
   "execution_count": null,
   "metadata": {},
   "outputs": [],
   "source": [
    "rows = cell_metadata.cluster_n.isin(range(5))\n",
    "rows"
   ]
  },
  {
   "cell_type": "markdown",
   "metadata": {},
   "source": [
    "Now let's use our `rows` variable to subset `cell_metadata`"
   ]
  },
  {
   "cell_type": "code",
   "execution_count": null,
   "metadata": {},
   "outputs": [],
   "source": [
    "print('cell_metadata.shape', cell_metadata.shape)\n",
    "cell_metadata_subset = cell_metadata.loc[rows]\n",
    "print('cell_metadata_subset.shape', cell_metadata_subset.shape)\n",
    "cell_metadata_subset.head()"
   ]
  },
  {
   "cell_type": "markdown",
   "metadata": {},
   "source": [
    "Let's make sure we only have the clusters we need:"
   ]
  },
  {
   "cell_type": "code",
   "execution_count": null,
   "metadata": {},
   "outputs": [],
   "source": [
    "cell_metadata_subset.cluster_n.unique()"
   ]
  },
  {
   "cell_type": "markdown",
   "metadata": {},
   "source": [
    "This is kinda out of order so let's sort it with the `sorted` function:"
   ]
  },
  {
   "cell_type": "code",
   "execution_count": null,
   "metadata": {},
   "outputs": [],
   "source": [
    "sorted(cell_metadata_subset.cluster_n.unique())"
   ]
  },
  {
   "cell_type": "markdown",
   "metadata": {},
   "source": [
    "### Exercise 4\n",
    "Make a subset of the cell metadata, called `figure5b_cell_metadata`, that contains only the cells in the clusters shown in figure 5b."
   ]
  },
  {
   "cell_type": "code",
   "execution_count": null,
   "metadata": {
    "collapsed": true
   },
   "outputs": [],
   "source": [
    "# YOUR CODE HERE"
   ]
  },
  {
   "cell_type": "code",
   "execution_count": null,
   "metadata": {
    "collapsed": true
   },
   "outputs": [],
   "source": [
    "# YOUR CODE HERE"
   ]
  },
  {
   "cell_type": "code",
   "execution_count": null,
   "metadata": {
    "collapsed": true
   },
   "outputs": [],
   "source": [
    "# YOUR CODE HERE"
   ]
  },
  {
   "cell_type": "markdown",
   "metadata": {},
   "source": [
    "![](figures/dont_scroll.svg)"
   ]
  },
  {
   "cell_type": "code",
   "execution_count": null,
   "metadata": {},
   "outputs": [],
   "source": [
    "rows = cell_metadata.cluster_n.isin(range(3, 24))\n",
    "figure5b_cell_metadata = cell_metadata.loc[rows]\n",
    "print(figure5b_cell_metadata.shape)\n",
    "figure5b_cell_metadata.head()"
   ]
  },
  {
   "cell_type": "code",
   "execution_count": null,
   "metadata": {},
   "outputs": [],
   "source": [
    "sorted(figure5b_cell_metadata.cluster_n.unique())"
   ]
  },
  {
   "cell_type": "markdown",
   "metadata": {},
   "source": [
    "\n",
    "Now we want to get only the cells from these clusters. To do that, we would use `.index`\n"
   ]
  },
  {
   "cell_type": "code",
   "execution_count": null,
   "metadata": {},
   "outputs": [],
   "source": [
    "figure5b_cell_metadata.index"
   ]
  },
  {
   "cell_type": "markdown",
   "metadata": {},
   "source": [
    "### Exercise 5\n",
    "\n",
    "Make a subset of gene expression called `figure5b_expression` using the `figure5b_genes` and `figure5b_cell_metadata`. Hint: Use `.loc` on `expression`"
   ]
  },
  {
   "cell_type": "code",
   "execution_count": null,
   "metadata": {
    "collapsed": true
   },
   "outputs": [],
   "source": [
    "# YOUR CODE HERE"
   ]
  },
  {
   "cell_type": "markdown",
   "metadata": {},
   "source": [
    "![](figures/dont_scroll.svg)"
   ]
  },
  {
   "cell_type": "code",
   "execution_count": null,
   "metadata": {},
   "outputs": [],
   "source": [
    "figure5b_expression = expression.loc[figure5b_cell_metadata.index, figure5b_genes_upper]\n",
    "print(figure5b_expression.shape)\n",
    "figure5b_expression.head()"
   ]
  },
  {
   "cell_type": "markdown",
   "metadata": {},
   "source": [
    "Again, we'll have to make a `tidy` version of the data to be able to make the violinplots"
   ]
  },
  {
   "cell_type": "markdown",
   "metadata": {},
   "source": [
    "### Exercise 6\n",
    "\n",
    "3. Make a tidy version of the `figure5b_expression` called `figure5b_tidy`\n",
    "4. Add a column to the `figure5b_tidy` dataframe that contains the log10 expression data\n"
   ]
  },
  {
   "cell_type": "code",
   "execution_count": null,
   "metadata": {},
   "outputs": [],
   "source": [
    "figure5b_cell_metadata.index"
   ]
  },
  {
   "cell_type": "code",
   "execution_count": null,
   "metadata": {},
   "outputs": [],
   "source": [
    "figure5b_expression.index"
   ]
  },
  {
   "cell_type": "code",
   "execution_count": null,
   "metadata": {},
   "outputs": [],
   "source": [
    "figure5b_tidy = figure5b_expression.unstack().reset_index()\n",
    "figure5b_tidy = figure5b_tidy.rename(columns={'level_1': 'barcode', 'level_0': 'gene_symbol', 0: 'expression'})\n",
    "figure5b_tidy['expression_log'] = np.log10(figure5b_tidy['expression'] + 1)\n",
    "print(figure5b_tidy.shape)\n",
    "figure5b_tidy.head()"
   ]
  },
  {
   "cell_type": "markdown",
   "metadata": {},
   "source": [
    "If you want, you could also create a function to simplify the tidying and logging:"
   ]
  },
  {
   "cell_type": "code",
   "execution_count": null,
   "metadata": {
    "collapsed": true
   },
   "outputs": [],
   "source": [
    "def tidify_and_log(data):\n",
    "    tidy = data.unstack().reset_index()\n",
    "    tidy = tidy.rename(columns={'level_1': 'barcode', 'level_0': 'gene_symbol', 0: 'expression'})\n",
    "    tidy['expression_log'] = np.log10(tidy['expression'] + 1)\n",
    "    return tidy"
   ]
  },
  {
   "cell_type": "markdown",
   "metadata": {},
   "source": [
    "Now that you have your tidy data, we need to add the cell metadata. We will use `.join`, and specify to use the `\"barcode\"` column of `figure5b_tidy`"
   ]
  },
  {
   "cell_type": "code",
   "execution_count": null,
   "metadata": {},
   "outputs": [],
   "source": [
    "figure5b_tidy_clusters = figure5b_tidy.join(figure5b_cell_metadata, on='barcode')\n",
    "print(figure5b_tidy_clusters.shape)\n",
    "figure5b_tidy_clusters.head()"
   ]
  },
  {
   "cell_type": "markdown",
   "metadata": {},
   "source": [
    "We can make violinplots using seaborn's `sns.violinplot`, but that will show us the expression across all genes :("
   ]
  },
  {
   "cell_type": "code",
   "execution_count": null,
   "metadata": {
    "collapsed": true
   },
   "outputs": [],
   "source": [
    "sns.violinplot?"
   ]
  },
  {
   "cell_type": "markdown",
   "metadata": {},
   "source": [
    "The below command specifies `\"expression\"` as the x-axis value (first argument), and `\"cluster_id\"` as the y-axis value (second argument). Then we say that we want the program to look at the `data` in our dataframe called `figure5b_tidy_clusters`."
   ]
  },
  {
   "cell_type": "code",
   "execution_count": null,
   "metadata": {},
   "outputs": [],
   "source": [
    "sns.violinplot('expression', 'cluster_id', data=figure5b_tidy_clusters)"
   ]
  },
  {
   "cell_type": "markdown",
   "metadata": {},
   "source": [
    "### Using `sns.FacetGrid` to make multiple violinplots\n",
    "\n",
    "Since we want to make a separate violinplot for each gene, we need to take multiple steps. We will use the function `sns.FacetGrid` to make mini-plots of each gene. If you want to read more about plotting on data-aware grid in Python, check out the [seaborn docs on grid plotting](http://seaborn.pydata.org/tutorial/axis_grids.html).\n",
    "\n",
    "Let's take a look at the documentation."
   ]
  },
  {
   "cell_type": "code",
   "execution_count": null,
   "metadata": {
    "collapsed": true
   },
   "outputs": [],
   "source": [
    "sns.FacetGrid?"
   ]
  },
  {
   "cell_type": "markdown",
   "metadata": {},
   "source": [
    "### Exercise 7\n",
    "\n",
    "What is the first argument of `FacetGrid`? How can we specify that we want each column to be a gene symbol?\n",
    "\n",
    "Use `sns.FacetGrid` on our `figure5b_tidy_clusters` data, specifying `\"gene_symbol\"` as the column in our data to use as columns in the grid."
   ]
  },
  {
   "cell_type": "code",
   "execution_count": null,
   "metadata": {
    "collapsed": true
   },
   "outputs": [],
   "source": [
    "# YOUR CODE HERE"
   ]
  },
  {
   "cell_type": "markdown",
   "metadata": {},
   "source": [
    "![](figures/dont_scroll.svg)"
   ]
  },
  {
   "cell_type": "code",
   "execution_count": null,
   "metadata": {},
   "outputs": [],
   "source": [
    "facetgrid = sns.FacetGrid(figure5b_tidy_clusters, col='gene_symbol')\n",
    "facetgrid"
   ]
  },
  {
   "cell_type": "markdown",
   "metadata": {},
   "source": [
    "I have no idea which gene is where .. so let's add some titles with the convenient function `g.set_titles`"
   ]
  },
  {
   "cell_type": "code",
   "execution_count": null,
   "metadata": {},
   "outputs": [],
   "source": [
    "facetgrid = sns.FacetGrid(figure5b_tidy_clusters, col='gene_symbol')\n",
    "facetgrid.set_titles('{col_name}')"
   ]
  },
  {
   "cell_type": "markdown",
   "metadata": {},
   "source": [
    "Now let's add our violinplots, using `map` on the `facetgrid`. Again, we'll use `\"expression\"` as the x-value (first argument) and `\"cluster_id\"` as the second argument."
   ]
  },
  {
   "cell_type": "code",
   "execution_count": null,
   "metadata": {},
   "outputs": [],
   "source": [
    "facetgrid = sns.FacetGrid(figure5b_tidy_clusters, col='gene_symbol')\n",
    "facetgrid.map(sns.violinplot, 'expression', 'cluster_id')\n",
    "facetgrid.set_titles('{col_name}')"
   ]
  },
  {
   "cell_type": "markdown",
   "metadata": {},
   "source": [
    "Hmm, all of these genes are on totally different scales .. how can we make it so that each gene is scaled to its own minimum and maximum?\n",
    "\n",
    "### Exercise 8\n",
    "\n",
    "Read the documentation for `sns.FacetGrid` and figure out how to turn of the shared values on the x axis"
   ]
  },
  {
   "cell_type": "code",
   "execution_count": null,
   "metadata": {
    "collapsed": true
   },
   "outputs": [],
   "source": [
    "# YOUR CODE HERE"
   ]
  },
  {
   "cell_type": "code",
   "execution_count": null,
   "metadata": {
    "collapsed": true
   },
   "outputs": [],
   "source": [
    "# YOUR CODE HERE"
   ]
  },
  {
   "cell_type": "markdown",
   "metadata": {},
   "source": [
    "![](figures/dont_scroll.svg)"
   ]
  },
  {
   "cell_type": "code",
   "execution_count": null,
   "metadata": {},
   "outputs": [],
   "source": [
    "facetgrid = sns.FacetGrid(figure5b_tidy_clusters, col='gene_symbol', sharex=False)\n",
    "facetgrid.map(sns.violinplot, 'expression', 'cluster_id')\n",
    "facetgrid.set_titles('{col_name}')"
   ]
  },
  {
   "cell_type": "markdown",
   "metadata": {},
   "source": [
    "Okay these violinplots are still pretty weird looking. In the paper, they scale the violinplots to all be the same width, and the lines are much thinner.\n",
    "\n",
    "Let's look at the documentation of `sns.violinplot` and see what we can do."
   ]
  },
  {
   "cell_type": "code",
   "execution_count": null,
   "metadata": {},
   "outputs": [],
   "source": [
    "sns.violinplot?"
   ]
  },
  {
   "cell_type": "markdown",
   "metadata": {},
   "source": [
    "Looks like we can set the `scale` variable to be \"width\" and let's try setting the `linewidth` to 1."
   ]
  },
  {
   "cell_type": "code",
   "execution_count": null,
   "metadata": {},
   "outputs": [],
   "source": [
    "facetgrid = sns.FacetGrid(figure5b_tidy_clusters, col='gene_symbol', sharex=False)\n",
    "facetgrid.map(sns.violinplot, 'expression', 'cluster_id', scale='width', linewidth=1)\n",
    "facetgrid.set_titles('{col_name}')"
   ]
  },
  {
   "cell_type": "markdown",
   "metadata": {},
   "source": [
    "Much better! There's a few more things we need to tweak in `sns.violinplot`. Let's get rid of the dotted thing on the inside, and only show the data exactly where it's valued - the ends of the violins should be square, not pointy.\n",
    "\n",
    "### Exercise 9\n",
    "\n",
    "Read the documentation of sns.violinplot and add to the options to cut off the violinplots at the data bounds, and have nothing on the inside of the violins."
   ]
  },
  {
   "cell_type": "code",
   "execution_count": null,
   "metadata": {
    "collapsed": true
   },
   "outputs": [],
   "source": [
    "# YOUR CODE HERE"
   ]
  },
  {
   "cell_type": "markdown",
   "metadata": {},
   "source": [
    "![](figures/dont_scroll.svg)"
   ]
  },
  {
   "cell_type": "code",
   "execution_count": null,
   "metadata": {},
   "outputs": [],
   "source": [
    "facetgrid = sns.FacetGrid(figure5b_tidy_clusters, col='gene_symbol',\n",
    "                  gridspec_kws=dict(hspace=0, wspace=0), sharex=False)\n",
    "facetgrid.map(sns.violinplot, 'expression', 'cluster_id', scale='width', linewidth=1, inner=None, cut=True)\n",
    "facetgrid.set_titles('{col_name}')"
   ]
  },
  {
   "cell_type": "markdown",
   "metadata": {},
   "source": [
    "Okay one more thing on the violinplots ... they had a different color for every cluster, so let's do the same thing too. Right now they're all blue but let's make them all a different color. Since we have so many categories (21), and ColorBrewer doesn't have setups for when there are more than 10 colors, we need to use a different set of colors. We'll use the `\"husl\"` colormap, which uses perception research to make colormaps where no one color is too bright or too dark. Read more about it [here](http://www.hsluv.org/comparison/)\n",
    "\n",
    "\n",
    "Here is an example of what the colormap looks like:"
   ]
  },
  {
   "cell_type": "code",
   "execution_count": null,
   "metadata": {},
   "outputs": [],
   "source": [
    "sns.palplot(sns.color_palette('husl', n_colors=50))"
   ]
  },
  {
   "cell_type": "markdown",
   "metadata": {},
   "source": [
    "Let's add `palette=\"husl\"` to our violinplot command and see what it does:"
   ]
  },
  {
   "cell_type": "code",
   "execution_count": null,
   "metadata": {},
   "outputs": [],
   "source": [
    "facetgrid = sns.FacetGrid(figure5b_tidy_clusters, col='gene_symbol', sharex=False)\n",
    "facetgrid.map(sns.violinplot, 'expression', 'cluster_id', scale='width', \n",
    "      linewidth=1, inner=None, cut=True, palette='husl')\n",
    "facetgrid.set_titles('{col_name}')"
   ]
  },
  {
   "cell_type": "markdown",
   "metadata": {},
   "source": [
    "Now let's work on resizing the plots so they're each narrower. We'll add the following three options to `sns.FacetGrid to accomplish this:\n",
    "\n",
    "* `size=4` (default: `size=3`) - Make the relative size of the plot bigger\n",
    "* `aspect=0.25` (default: `aspect=1`) - Make the the width of the plot be 1/4 the size of the heigh\n",
    "* `gridspec_kws=dict(wspace=0)` - Set the width between plots to be zero\n"
   ]
  },
  {
   "cell_type": "code",
   "execution_count": null,
   "metadata": {},
   "outputs": [],
   "source": [
    "facetgrid = sns.FacetGrid(figure5b_tidy_clusters, col='gene_symbol', \n",
    "                          size=4, aspect=0.25, gridspec_kws=dict(wspace=0), \n",
    "                          sharex=False)\n",
    "facetgrid.map(sns.violinplot, 'expression', 'cluster_id', scale='width', \n",
    "      linewidth=1, palette='husl', inner=None, cut=True)\n",
    "facetgrid.set_titles('{col_name}')"
   ]
  },
  {
   "cell_type": "markdown",
   "metadata": {},
   "source": [
    "Hmm.. now we can see that the clusters aren't in numeric order. Is there an option in  `sns.violinplot` that we can specify the *order* of the values?"
   ]
  },
  {
   "cell_type": "markdown",
   "metadata": {},
   "source": [
    "### Exercise 10\n",
    "\n",
    "1. Read the `sns.violinplot` documentation to figure out the keyword to use to specify the order of the clusters\n",
    "2. Make a sorted list of the unique cluster ids\n",
    "3. Plot the violinplots on the FacetGrid"
   ]
  },
  {
   "cell_type": "code",
   "execution_count": null,
   "metadata": {
    "collapsed": true
   },
   "outputs": [],
   "source": [
    "# YOUR CODE HERE"
   ]
  },
  {
   "cell_type": "code",
   "execution_count": null,
   "metadata": {
    "collapsed": true
   },
   "outputs": [],
   "source": [
    "# YOUR CODE HERE"
   ]
  },
  {
   "cell_type": "code",
   "execution_count": null,
   "metadata": {
    "collapsed": true
   },
   "outputs": [],
   "source": [
    "# YOUR CODE HERE"
   ]
  },
  {
   "cell_type": "markdown",
   "metadata": {},
   "source": [
    "![](figures/dont_scroll.svg)"
   ]
  },
  {
   "cell_type": "code",
   "execution_count": null,
   "metadata": {},
   "outputs": [],
   "source": [
    "cluster_order = figure5b_tidy_clusters.cluster_id.sort_values().unique()\n",
    "cluster_order"
   ]
  },
  {
   "cell_type": "code",
   "execution_count": null,
   "metadata": {},
   "outputs": [],
   "source": [
    "facetgrid = sns.FacetGrid(figure5b_tidy_clusters, col='gene_symbol', size=4, aspect=0.25,\n",
    "                  gridspec_kws=dict(wspace=0), sharex=False)\n",
    "facetgrid.map(sns.violinplot, 'expression', 'cluster_id', scale='width', \n",
    "      linewidth=1, palette='husl', inner=None, cut=True, order=cluster_order)\n",
    "facetgrid.set_titles('{col_name}')"
   ]
  },
  {
   "cell_type": "markdown",
   "metadata": {},
   "source": [
    "Okay one last thing .. let's turn off the \"expression\" label at the bottom and the value scales (since right now we're just looking comparatively) with:\n",
    "\n",
    "    facetgrid.set(xlabel='', xticks=[])\n"
   ]
  },
  {
   "cell_type": "code",
   "execution_count": null,
   "metadata": {},
   "outputs": [],
   "source": [
    "facetgrid = sns.FacetGrid(figure5b_tidy_clusters, col='gene_symbol', size=4, aspect=0.25,\n",
    "                  gridspec_kws=dict(wspace=0), sharex=False)\n",
    "facetgrid.map(sns.violinplot, 'expression', 'cluster_id', scale='width', \n",
    "      linewidth=1, palette='husl', inner=None, cut=True, order=cluster_order)\n",
    "facetgrid.set(xlabel='', xticks=[])\n",
    "facetgrid.set_titles('{col_name}')"
   ]
  },
  {
   "cell_type": "markdown",
   "metadata": {},
   "source": [
    "### Exercise 11\n",
    "\n",
    "#### Take a step back ... does this look like the actual Figure 5b from the paper? Do you see the bimodality that they claim?\n",
    "\n",
    "Why or why not?\n",
    "\n",
    "![](figures/macosko2015_figure5b.png)"
   ]
  },
  {
   "cell_type": "markdown",
   "metadata": {},
   "source": [
    "YOUR ANSWER HERE"
   ]
  },
  {
   "cell_type": "markdown",
   "metadata": {},
   "source": [
    "![](figures/dont_scroll.svg)"
   ]
  },
  {
   "cell_type": "markdown",
   "metadata": {},
   "source": [
    "We don't see the bimodality here because they used **loggged** data, not the raw counts.\n",
    "\n",
    "### Exercise 12\n",
    "\n",
    "Use logged expression (which column was this in our data? Check `figure5b_tidy_clusters.head()` to remind yourself) on the facetgrid of violinplots we created."
   ]
  },
  {
   "cell_type": "code",
   "execution_count": null,
   "metadata": {
    "collapsed": true
   },
   "outputs": [],
   "source": [
    "# YOUR CODE HERE"
   ]
  },
  {
   "cell_type": "code",
   "execution_count": null,
   "metadata": {
    "collapsed": true
   },
   "outputs": [],
   "source": [
    "# YOUR CODE HERE"
   ]
  },
  {
   "cell_type": "markdown",
   "metadata": {},
   "source": [
    "![](figures/dont_scroll.svg)"
   ]
  },
  {
   "cell_type": "code",
   "execution_count": null,
   "metadata": {},
   "outputs": [],
   "source": [
    "figure5b_tidy_clusters.head()"
   ]
  },
  {
   "cell_type": "code",
   "execution_count": null,
   "metadata": {},
   "outputs": [],
   "source": [
    "facetgrid = sns.FacetGrid(figure5b_tidy_clusters, col='gene_symbol', size=4, aspect=0.25,\n",
    "                  gridspec_kws=dict(wspace=0), sharex=False)\n",
    "facetgrid.map(sns.violinplot, 'expression_log', 'cluster_id', scale='width', \n",
    "      linewidth=1, palette='husl', inner=None, cut=True, order=cluster_order)\n",
    "facetgrid.set(xlabel='', xticks=[])\n",
    "facetgrid.set_titles('{col_name}')"
   ]
  },
  {
   "cell_type": "markdown",
   "metadata": {},
   "source": [
    "Since we worked so hard to get these lines, let's write them as a function to a file called `plotting_code.py`. We'll move all the options we fiddled with into the arguments of our `violinplot_grid` function.\n",
    "\n",
    "Notice we have to add `import seaborn as sns` into our file. That's because the file must be standalone and include everything it needs, including all the modules."
   ]
  },
  {
   "cell_type": "code",
   "execution_count": null,
   "metadata": {},
   "outputs": [],
   "source": [
    "%%file plotting_code.py\n",
    "\n",
    "import seaborn as sns\n",
    "\n",
    "def violinplot_grid(tidy, col='gene_symbol', size=4, aspect=0.25, gridspec_kws=dict(wspace=0),\n",
    "                    sharex=False, scale='width', linewidth=1, palette='husl', inner=None, \n",
    "                    cut=True, order=None):\n",
    "    facetgrid = sns.FacetGrid(tidy, col=col, size=size, aspect=aspect,\n",
    "                  gridspec_kws=gridspec_kws, sharex=sharex)\n",
    "    facetgrid.map(sns.violinplot, 'expression_log', 'cluster_id', scale=scale, \n",
    "          linewidth=linewidth, palette=palette, inner=inner, cut=cut, order=order)\n",
    "    facetgrid.set(xlabel='', xticks=[])\n",
    "    facetgrid.set_titles('{col_name}')"
   ]
  },
  {
   "cell_type": "markdown",
   "metadata": {},
   "source": [
    "We can `cat` (short for con**cat**enate) the file, which means dump the contents out to the output:"
   ]
  },
  {
   "cell_type": "code",
   "execution_count": null,
   "metadata": {},
   "outputs": [],
   "source": [
    "cat plotting_code.py"
   ]
  },
  {
   "cell_type": "code",
   "execution_count": null,
   "metadata": {},
   "outputs": [],
   "source": [
    "import plotting_code\n",
    "\n",
    "plotting_code.violinplot_grid(figure5b_tidy_clusters, order=cluster_order)"
   ]
  },
  {
   "cell_type": "markdown",
   "metadata": {},
   "source": [
    "Now we see more of the \"bimodality\" they talk about in the paper"
   ]
  },
  {
   "cell_type": "markdown",
   "metadata": {},
   "source": [
    "## Figure 5c \n",
    "\n",
    "Figure 5c is all you!\n",
    "\n",
    "### Exercise 13\n",
    "\n",
    "Use all the amacrine cells, but this time use all the genes from Figure 5c.\n",
    "\n",
    "Note: You may not have expression in EVERY gene .. this is a subset of the entire dataset (only run 1!) and \n",
    "\n",
    "![Macosko2015 Figure 5c](figures/macosko2015_figure5c.png)"
   ]
  },
  {
   "cell_type": "code",
   "execution_count": null,
   "metadata": {
    "collapsed": true
   },
   "outputs": [],
   "source": [
    "# YOUR CODE HERE"
   ]
  },
  {
   "cell_type": "code",
   "execution_count": null,
   "metadata": {
    "collapsed": true
   },
   "outputs": [],
   "source": [
    "# YOUR CODE HERE"
   ]
  },
  {
   "cell_type": "code",
   "execution_count": null,
   "metadata": {
    "collapsed": true
   },
   "outputs": [],
   "source": [
    "# YOUR CODE HERE"
   ]
  },
  {
   "cell_type": "code",
   "execution_count": null,
   "metadata": {
    "collapsed": true
   },
   "outputs": [],
   "source": [
    "# YOUR CODE HERE"
   ]
  },
  {
   "cell_type": "code",
   "execution_count": null,
   "metadata": {
    "collapsed": true
   },
   "outputs": [],
   "source": [
    "# YOUR CODE HERE"
   ]
  },
  {
   "cell_type": "markdown",
   "metadata": {},
   "source": [
    "![](figures/dont_scroll.svg)"
   ]
  },
  {
   "cell_type": "code",
   "execution_count": null,
   "metadata": {},
   "outputs": [],
   "source": [
    "figure5c_genes = ['Gng7', 'Gbx2', 'Tpbg', 'Slitrk6', 'Maf', 'Tac2', 'Loxl2', 'Vip', 'Glra1',\n",
    "                  'Igfbp5', 'Pdgfra', 'Slc35d3', 'Car3', 'Fgf1', 'Igf1', 'Col12a1', 'Ptgds',\n",
    "                  'Ppp1r17', 'Cck', 'Shisa9', 'Pou3f3']\n",
    "figure5c_genes_upper = upperizer(figure5c_genes)\n",
    "figure5c_expression = expression.loc[figure5b_cell_metadata.index, figure5c_genes_upper]\n",
    "print(figure5c_expression.shape)\n",
    "figure5c_expression.head()"
   ]
  },
  {
   "cell_type": "code",
   "execution_count": null,
   "metadata": {},
   "outputs": [],
   "source": [
    "figure5c_genes_upper"
   ]
  },
  {
   "cell_type": "code",
   "execution_count": null,
   "metadata": {},
   "outputs": [],
   "source": [
    "figure5c_tidy = tidify_and_log(figure5c_expression)\n",
    "print(figure5c_tidy.shape)\n",
    "figure5c_tidy.head()"
   ]
  },
  {
   "cell_type": "code",
   "execution_count": null,
   "metadata": {},
   "outputs": [],
   "source": [
    "figure5c_tidy_cell_metadata = figure5c_tidy.join(cell_metadata, on='barcode')\n",
    "print(figure5c_tidy_cell_metadata.shape)\n",
    "figure5c_tidy_cell_metadata.head()"
   ]
  },
  {
   "cell_type": "code",
   "execution_count": null,
   "metadata": {},
   "outputs": [],
   "source": [
    "plotting_code.violinplot_grid(figure5c_tidy_cell_metadata, order=cluster_order, aspect=0.2)"
   ]
  },
  {
   "cell_type": "markdown",
   "metadata": {},
   "source": [
    "## Let's take a step back ... What does this all mean?\n",
    "\n",
    "They showed that for each amacrine cell cluster, they showed that one gene that was mutually exclusively **detected using single-cell RNA-seq**. And then, in Figure 5F, they showed that indeed, one of the markers is expressed in some amacrine cells but not others.\n",
    "\n",
    "**But, single-cell RNA seq is plagued with gene dropout -- randomly, one gene will be detected in one cell but not another.**\n",
    "\n",
    "What if there was a way that we could detect the genes that dropped out?\n",
    "\n",
    "## Compressed Sensing/Robust PCA\n",
    "\n",
    "[Compressed sensing](https://en.wikipedia.org/wiki/Compressed_sensing) is a field where they think about problems like, \"if we only get 10% of the signal, and it's super noisy, could we reconstruct 100% of what was originally there?(sound familiar??) Turns out yes, you can! [Robust PCA](https://en.wikipedia.org/wiki/Robust_principal_component_analysis) is one of the algorithms in compressed sensing which models the data $X$ as the sum of a low-rank matrix $L$ and a sparse matrix $S$.\n",
    "\n",
    "$X = L + S$\n",
    "\n",
    "* $X$ is the expression data\n",
    "* $L$ is the low rank data. In our case, this essentially becomes a smoothed version of the expression matrix\n",
    "* $S$ is the sparse data. In our case, this captures the stochastic noise in the data. *Some of this data may be biological*, it is true. But largely, this data seems to carry the technical noise.\n",
    "\n",
    "Robust PCA is often used in video analysis to find anomalies. In their case, $L$ is the background and $S$ is the \"anomalies\" (people walking around).\n",
    "\n",
    "![Robust PCA on video](figures/robust_pca_example_cctv.jpeg)\n",
    "\n",
    "### Cluster on raw (log2) amacrine cell expression\n",
    "\n",
    "To understand what Robust PCA does to biological data, we first need to understand what the raw data looks like. Let's look at the gene expression in only amacrine cells, with the RAW data:"
   ]
  },
  {
   "cell_type": "code",
   "execution_count": null,
   "metadata": {},
   "outputs": [],
   "source": [
    "# Import a file I wrote with a cleaned-up clustermap\n",
    "import fig_code\n",
    "\n",
    "amacrine_cluster_n = sorted(figure5b_cell_metadata.cluster_n.unique())\n",
    "amacrine_cluster_to_color = dict(zip(amacrine_cluster_n, sns.color_palette('husl', n_colors=len(amacrine_cluster_n))))\n",
    "amacrine_cell_colors = [amacrine_cluster_to_color[i] for i in figure5b_cell_metadata['cluster_n']]\n",
    "\n",
    "amacrine_expression = expression_log10.loc[figure5b_cell_metadata.index]\n",
    "print(amacrine_expression.shape)\n",
    "\n",
    "fig_code.clustermap(amacrine_expression, row_colors=amacrine_cell_colors)"
   ]
  },
  {
   "cell_type": "markdown",
   "metadata": {},
   "source": [
    "### Cluster on Robust PCA'd amacrine cell expression (lowrank)"
   ]
  },
  {
   "cell_type": "code",
   "execution_count": null,
   "metadata": {},
   "outputs": [],
   "source": [
    "csv = macosko2015.BASE_URL + 'differential_clusters_lowrank_tidy_metadata_amacrine.csv'\n",
    "lowrank_tidy = pd.read_csv(csv)\n",
    "print(lowrank_tidy.shape)\n",
    "\n",
    "# Reshape the data to be a large 2d matrix\n",
    "lowrank_tidy_2d = lowrank_tidy.pivot(index='barcode', columns='gene_symbol', values='expression_log')\n",
    "\n",
    "# set minimum value shown to 0 because there's a bunch of small (e.g. -1.1) negative numbers in the lowrank data\n",
    "fig_code.clustermap(lowrank_tidy_2d, row_colors=amacrine_cell_colors, vmin=0)"
   ]
  },
  {
   "cell_type": "markdown",
   "metadata": {},
   "source": [
    "### Figure 5b using Robust PCA data"
   ]
  },
  {
   "cell_type": "code",
   "execution_count": null,
   "metadata": {},
   "outputs": [],
   "source": [
    "# Subset the genes on only figure 5b\n",
    "rows = lowrank_tidy.gene_symbol.isin(figure5b_genes_upper)\n",
    "lowrank_tidy_figure5b = lowrank_tidy.loc[rows]\n",
    "print(lowrank_tidy_figure5b.shape)\n",
    "lowrank_tidy_figure5b.head()\n",
    "\n",
    "plotting_code.violinplot_grid(lowrank_tidy_figure5b, order=cluster_order, aspect=0.25)"
   ]
  },
  {
   "cell_type": "markdown",
   "metadata": {},
   "source": [
    "Looks like a lot of the signal from the genes was recovered!\n",
    "\n",
    "### Robust PCA data for Figure 5c\n",
    "\n",
    "Subset the genes on only figure 5c"
   ]
  },
  {
   "cell_type": "code",
   "execution_count": null,
   "metadata": {
    "scrolled": true
   },
   "outputs": [],
   "source": [
    "rows = lowrank_tidy.gene_symbol.isin(figure5c_genes_upper)\n",
    "lowrank_tidy_figure5c = lowrank_tidy.loc[rows]\n",
    "print(lowrank_tidy_figure5c.shape)\n",
    "lowrank_tidy_figure5c.head()\n",
    "\n",
    "plotting_code.violinplot_grid(lowrank_tidy_figure5c, order=cluster_order, aspect=0.2)"
   ]
  },
  {
   "cell_type": "markdown",
   "metadata": {},
   "source": [
    "Interesting what happens to the \"unique cluster identifiers\" ..."
   ]
  }
 ],
 "metadata": {
  "kernelspec": {
   "display_name": "Python (macosko2015-env)",
   "language": "python",
   "name": "macosko2015-env"
  },
  "language_info": {
   "codemirror_mode": {
    "name": "ipython",
    "version": 3
   },
   "file_extension": ".py",
   "mimetype": "text/x-python",
   "name": "python",
   "nbconvert_exporter": "python",
   "pygments_lexer": "ipython3",
   "version": "3.6.1"
  }
 },
 "nbformat": 4,
 "nbformat_minor": 2
}
