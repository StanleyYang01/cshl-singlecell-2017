{
 "cells": [
  {
   "cell_type": "code",
   "execution_count": 96,
   "metadata": {
    "collapsed": true
   },
   "outputs": [],
   "source": [
    "import os\n",
    "import common\n",
    "\n",
    "# Assign notebook and folder names\n",
    "notebook_name = '01_downsample_macosko_data'\n",
    "figure_folder = os.path.join(common.FIGURE_FOLDER, notebook_name)\n",
    "data_folder = os.path.join(common.DATA_FOLDER, notebook_name)\n",
    "\n",
    "# Make the folders\n",
    "! mkdir -p $figure_folder\n",
    "! mkdir -p $data_folder"
   ]
  },
  {
   "cell_type": "code",
   "execution_count": 2,
   "metadata": {
    "collapsed": true
   },
   "outputs": [],
   "source": [
    "%load_ext autoreload\n",
    "%autoreload 2\n",
    "\n",
    "import numpy as np\n",
    "import matplotlib.pyplot as plt\n",
    "import pandas as pd\n",
    "import seaborn as sns\n",
    "%matplotlib inline"
   ]
  },
  {
   "cell_type": "code",
   "execution_count": 4,
   "metadata": {},
   "outputs": [
    {
     "name": "stdout",
     "output_type": "stream",
     "text": [
      "(6600, 20478)\n"
     ]
    },
    {
     "data": {
      "text/html": [
       "<div>\n",
       "<style>\n",
       "    .dataframe thead tr:only-child th {\n",
       "        text-align: right;\n",
       "    }\n",
       "\n",
       "    .dataframe thead th {\n",
       "        text-align: left;\n",
       "    }\n",
       "\n",
       "    .dataframe tbody tr th {\n",
       "        vertical-align: top;\n",
       "    }\n",
       "</style>\n",
       "<table border=\"1\" class=\"dataframe\">\n",
       "  <thead>\n",
       "    <tr style=\"text-align: right;\">\n",
       "      <th></th>\n",
       "      <th>KITL</th>\n",
       "      <th>TMTC3</th>\n",
       "      <th>CEP290</th>\n",
       "      <th>4930430F08RIK</th>\n",
       "      <th>1700017N19RIK</th>\n",
       "      <th>MGAT4C</th>\n",
       "      <th>RASSF9</th>\n",
       "      <th>LRRIQ1</th>\n",
       "      <th>ADGB</th>\n",
       "      <th>SLC6A15</th>\n",
       "      <th>...</th>\n",
       "      <th>EFNB1</th>\n",
       "      <th>PJA1</th>\n",
       "      <th>TMEM28</th>\n",
       "      <th>EDA</th>\n",
       "      <th>EIF2S3Y</th>\n",
       "      <th>GM20775</th>\n",
       "      <th>UTY</th>\n",
       "      <th>DDX3Y</th>\n",
       "      <th>KDM5D</th>\n",
       "      <th>N-R5S1</th>\n",
       "    </tr>\n",
       "    <tr>\n",
       "      <th>barcode</th>\n",
       "      <th></th>\n",
       "      <th></th>\n",
       "      <th></th>\n",
       "      <th></th>\n",
       "      <th></th>\n",
       "      <th></th>\n",
       "      <th></th>\n",
       "      <th></th>\n",
       "      <th></th>\n",
       "      <th></th>\n",
       "      <th></th>\n",
       "      <th></th>\n",
       "      <th></th>\n",
       "      <th></th>\n",
       "      <th></th>\n",
       "      <th></th>\n",
       "      <th></th>\n",
       "      <th></th>\n",
       "      <th></th>\n",
       "      <th></th>\n",
       "      <th></th>\n",
       "    </tr>\n",
       "  </thead>\n",
       "  <tbody>\n",
       "    <tr>\n",
       "      <th>r1_GGCCGCAGTCCG</th>\n",
       "      <td>0</td>\n",
       "      <td>3</td>\n",
       "      <td>1</td>\n",
       "      <td>2</td>\n",
       "      <td>0</td>\n",
       "      <td>0</td>\n",
       "      <td>0</td>\n",
       "      <td>0</td>\n",
       "      <td>0</td>\n",
       "      <td>4</td>\n",
       "      <td>...</td>\n",
       "      <td>0</td>\n",
       "      <td>8</td>\n",
       "      <td>1</td>\n",
       "      <td>0</td>\n",
       "      <td>0</td>\n",
       "      <td>0</td>\n",
       "      <td>0</td>\n",
       "      <td>0</td>\n",
       "      <td>0</td>\n",
       "      <td>0</td>\n",
       "    </tr>\n",
       "    <tr>\n",
       "      <th>r1_CTTGTGCGGGAA</th>\n",
       "      <td>0</td>\n",
       "      <td>0</td>\n",
       "      <td>3</td>\n",
       "      <td>1</td>\n",
       "      <td>0</td>\n",
       "      <td>0</td>\n",
       "      <td>0</td>\n",
       "      <td>0</td>\n",
       "      <td>0</td>\n",
       "      <td>1</td>\n",
       "      <td>...</td>\n",
       "      <td>0</td>\n",
       "      <td>9</td>\n",
       "      <td>0</td>\n",
       "      <td>0</td>\n",
       "      <td>2</td>\n",
       "      <td>0</td>\n",
       "      <td>1</td>\n",
       "      <td>5</td>\n",
       "      <td>0</td>\n",
       "      <td>0</td>\n",
       "    </tr>\n",
       "    <tr>\n",
       "      <th>r1_GCGCAACTGCTC</th>\n",
       "      <td>1</td>\n",
       "      <td>0</td>\n",
       "      <td>0</td>\n",
       "      <td>2</td>\n",
       "      <td>0</td>\n",
       "      <td>4</td>\n",
       "      <td>0</td>\n",
       "      <td>0</td>\n",
       "      <td>0</td>\n",
       "      <td>3</td>\n",
       "      <td>...</td>\n",
       "      <td>1</td>\n",
       "      <td>11</td>\n",
       "      <td>0</td>\n",
       "      <td>0</td>\n",
       "      <td>0</td>\n",
       "      <td>0</td>\n",
       "      <td>0</td>\n",
       "      <td>0</td>\n",
       "      <td>0</td>\n",
       "      <td>0</td>\n",
       "    </tr>\n",
       "    <tr>\n",
       "      <th>r1_GATTGGGAGGCA</th>\n",
       "      <td>0</td>\n",
       "      <td>0</td>\n",
       "      <td>2</td>\n",
       "      <td>0</td>\n",
       "      <td>0</td>\n",
       "      <td>1</td>\n",
       "      <td>0</td>\n",
       "      <td>0</td>\n",
       "      <td>0</td>\n",
       "      <td>2</td>\n",
       "      <td>...</td>\n",
       "      <td>1</td>\n",
       "      <td>2</td>\n",
       "      <td>0</td>\n",
       "      <td>0</td>\n",
       "      <td>3</td>\n",
       "      <td>0</td>\n",
       "      <td>1</td>\n",
       "      <td>0</td>\n",
       "      <td>0</td>\n",
       "      <td>0</td>\n",
       "    </tr>\n",
       "    <tr>\n",
       "      <th>r1_CCTCCTAGTTGG</th>\n",
       "      <td>0</td>\n",
       "      <td>2</td>\n",
       "      <td>1</td>\n",
       "      <td>1</td>\n",
       "      <td>0</td>\n",
       "      <td>2</td>\n",
       "      <td>0</td>\n",
       "      <td>0</td>\n",
       "      <td>0</td>\n",
       "      <td>1</td>\n",
       "      <td>...</td>\n",
       "      <td>0</td>\n",
       "      <td>3</td>\n",
       "      <td>0</td>\n",
       "      <td>0</td>\n",
       "      <td>0</td>\n",
       "      <td>0</td>\n",
       "      <td>0</td>\n",
       "      <td>0</td>\n",
       "      <td>0</td>\n",
       "      <td>0</td>\n",
       "    </tr>\n",
       "  </tbody>\n",
       "</table>\n",
       "<p>5 rows × 20478 columns</p>\n",
       "</div>"
      ],
      "text/plain": [
       "                 KITL  TMTC3  CEP290  4930430F08RIK  1700017N19RIK  MGAT4C  \\\n",
       "barcode                                                                      \n",
       "r1_GGCCGCAGTCCG     0      3       1              2              0       0   \n",
       "r1_CTTGTGCGGGAA     0      0       3              1              0       0   \n",
       "r1_GCGCAACTGCTC     1      0       0              2              0       4   \n",
       "r1_GATTGGGAGGCA     0      0       2              0              0       1   \n",
       "r1_CCTCCTAGTTGG     0      2       1              1              0       2   \n",
       "\n",
       "                 RASSF9  LRRIQ1  ADGB  SLC6A15   ...    EFNB1  PJA1  TMEM28  \\\n",
       "barcode                                          ...                          \n",
       "r1_GGCCGCAGTCCG       0       0     0        4   ...        0     8       1   \n",
       "r1_CTTGTGCGGGAA       0       0     0        1   ...        0     9       0   \n",
       "r1_GCGCAACTGCTC       0       0     0        3   ...        1    11       0   \n",
       "r1_GATTGGGAGGCA       0       0     0        2   ...        1     2       0   \n",
       "r1_CCTCCTAGTTGG       0       0     0        1   ...        0     3       0   \n",
       "\n",
       "                 EDA  EIF2S3Y  GM20775  UTY  DDX3Y  KDM5D  N-R5S1  \n",
       "barcode                                                            \n",
       "r1_GGCCGCAGTCCG    0        0        0    0      0      0       0  \n",
       "r1_CTTGTGCGGGAA    0        2        0    1      5      0       0  \n",
       "r1_GCGCAACTGCTC    0        0        0    0      0      0       0  \n",
       "r1_GATTGGGAGGCA    0        3        0    1      0      0       0  \n",
       "r1_CCTCCTAGTTGG    0        0        0    0      0      0       0  \n",
       "\n",
       "[5 rows x 20478 columns]"
      ]
     },
     "execution_count": 4,
     "metadata": {},
     "output_type": "execute_result"
    }
   ],
   "source": [
    "table1 = pd.read_csv('expression_table1.csv', index_col=0)\n",
    "print(table1.shape)\n",
    "table1.head()"
   ]
  },
  {
   "cell_type": "markdown",
   "metadata": {},
   "source": [
    "## Subset cells based on cluster identies"
   ]
  },
  {
   "cell_type": "code",
   "execution_count": 16,
   "metadata": {},
   "outputs": [
    {
     "name": "stdout",
     "output_type": "stream",
     "text": [
      "(44808,)\n"
     ]
    },
    {
     "data": {
      "text/plain": [
       "barcode\n",
       "r1_GGCCGCAGTCCG     2\n",
       "r1_CTTGTGCGGGAA     2\n",
       "r1_GCGCAACTGCTC     2\n",
       "r1_GATTGGGAGGCA     2\n",
       "r1_GTGCCGCCTCTC    25\n",
       "Name: cluster_id, dtype: int64"
      ]
     },
     "execution_count": 16,
     "metadata": {},
     "output_type": "execute_result"
    }
   ],
   "source": [
    "cluster_identities = pd.read_table('macosko2015/retina_clusteridentities.txt', header=None,\n",
    "                                   names=['barcode', 'cluster_id'], index_col=0, squeeze=True)\n",
    "print(cluster_identities.shape)\n",
    "cluster_identities.head()"
   ]
  },
  {
   "cell_type": "code",
   "execution_count": 17,
   "metadata": {},
   "outputs": [
    {
     "data": {
      "text/plain": [
       "cluster_id\n",
       "1       252\n",
       "2       432\n",
       "3       289\n",
       "4        73\n",
       "5        77\n",
       "6       211\n",
       "7       326\n",
       "8       159\n",
       "9       350\n",
       "10      191\n",
       "11      214\n",
       "12      274\n",
       "13       50\n",
       "14      111\n",
       "15       73\n",
       "16      262\n",
       "17      375\n",
       "18       83\n",
       "19      127\n",
       "20      389\n",
       "21      254\n",
       "22      274\n",
       "23      264\n",
       "24    29400\n",
       "25     1868\n",
       "26     2217\n",
       "27      664\n",
       "28      496\n",
       "29      591\n",
       "30      636\n",
       "31      512\n",
       "32      320\n",
       "33      849\n",
       "34     1624\n",
       "35       54\n",
       "36       85\n",
       "37      252\n",
       "38       63\n",
       "39       67\n",
       "Name: cluster_id, dtype: int64"
      ]
     },
     "execution_count": 17,
     "metadata": {},
     "output_type": "execute_result"
    }
   ],
   "source": [
    "cluster_identities.groupby(cluster_identities).size()"
   ]
  },
  {
   "cell_type": "markdown",
   "metadata": {},
   "source": [
    "## What is the cluster representation in this file?"
   ]
  },
  {
   "cell_type": "code",
   "execution_count": 19,
   "metadata": {},
   "outputs": [
    {
     "data": {
      "text/plain": [
       "cluster_id\n",
       "1.0       27\n",
       "2.0       70\n",
       "3.0       44\n",
       "4.0       13\n",
       "5.0       18\n",
       "6.0       42\n",
       "7.0       54\n",
       "8.0       23\n",
       "9.0       42\n",
       "10.0      29\n",
       "11.0      31\n",
       "12.0      47\n",
       "13.0      11\n",
       "14.0      10\n",
       "15.0      13\n",
       "16.0      36\n",
       "17.0      72\n",
       "18.0      14\n",
       "19.0      19\n",
       "20.0      64\n",
       "21.0      47\n",
       "22.0      46\n",
       "23.0      39\n",
       "24.0    3746\n",
       "25.0     241\n",
       "26.0     317\n",
       "27.0     126\n",
       "28.0      56\n",
       "29.0      85\n",
       "30.0      87\n",
       "31.0      80\n",
       "32.0      54\n",
       "33.0     114\n",
       "34.0     244\n",
       "35.0       4\n",
       "36.0      13\n",
       "37.0      24\n",
       "38.0       9\n",
       "39.0       9\n",
       "dtype: int64"
      ]
     },
     "execution_count": 19,
     "metadata": {},
     "output_type": "execute_result"
    }
   ],
   "source": [
    "cluster_sizes_table1 = table1.groupby(cluster_identities, axis=0).size()\n",
    "cluster_sizes_table1"
   ]
  },
  {
   "cell_type": "code",
   "execution_count": 21,
   "metadata": {
    "collapsed": true
   },
   "outputs": [],
   "source": [
    "del cluster_markers_dropna"
   ]
  },
  {
   "cell_type": "code",
   "execution_count": 22,
   "metadata": {},
   "outputs": [
    {
     "data": {
      "text/plain": [
       "cluster_id\n",
       "24.0    3746\n",
       "25.0     241\n",
       "26.0     317\n",
       "27.0     126\n",
       "33.0     114\n",
       "34.0     244\n",
       "dtype: int64"
      ]
     },
     "execution_count": 22,
     "metadata": {},
     "output_type": "execute_result"
    }
   ],
   "source": [
    "big_clusters = cluster_sizes_table1[cluster_sizes_table1 > 100]\n",
    "big_clusters\n"
   ]
  },
  {
   "cell_type": "code",
   "execution_count": 26,
   "metadata": {},
   "outputs": [
    {
     "data": {
      "text/plain": [
       "cluster_id\n",
       "24    3746\n",
       "25     241\n",
       "26     317\n",
       "27     126\n",
       "33     114\n",
       "34     244\n",
       "dtype: int64"
      ]
     },
     "execution_count": 26,
     "metadata": {},
     "output_type": "execute_result"
    }
   ],
   "source": [
    "big_clusters.index = big_clusters.index.astype(int)\n",
    "big_clusters"
   ]
  },
  {
   "cell_type": "code",
   "execution_count": 28,
   "metadata": {},
   "outputs": [
    {
     "data": {
      "text/plain": [
       "36622"
      ]
     },
     "execution_count": 28,
     "metadata": {},
     "output_type": "execute_result"
    }
   ],
   "source": [
    "cells_in_big_clusters = cluster_identities.isin(big_clusters.index)\n",
    "cells_in_big_clusters = cells_in_big_clusters[cells_in_big_clusters]\n",
    "cells_in_big_clusters.sum()"
   ]
  },
  {
   "cell_type": "code",
   "execution_count": 29,
   "metadata": {},
   "outputs": [
    {
     "data": {
      "text/plain": [
       "barcode\n",
       "r1_GTGCCGCCTCTC    True\n",
       "r1_TGCGAGAGCTTG    True\n",
       "r1_TAGATTATTCAT    True\n",
       "r1_TTCTTTTTTCAA    True\n",
       "r1_TGCGTGCCGGTC    True\n",
       "Name: cluster_id, dtype: bool"
      ]
     },
     "execution_count": 29,
     "metadata": {},
     "output_type": "execute_result"
    }
   ],
   "source": [
    "cells_in_big_clusters.head()"
   ]
  },
  {
   "cell_type": "markdown",
   "metadata": {},
   "source": [
    "### Perform the subset!"
   ]
  },
  {
   "cell_type": "code",
   "execution_count": 107,
   "metadata": {},
   "outputs": [
    {
     "name": "stdout",
     "output_type": "stream",
     "text": [
      "(4788, 20478)\n",
      "(4788,)\n"
     ]
    }
   ],
   "source": [
    "table1_big_clusters, y = table1.align(cells_in_big_clusters, axis=0, join='inner')\n",
    "print(table1_big_clusters.shape)\n",
    "print(y.shape)"
   ]
  },
  {
   "cell_type": "markdown",
   "metadata": {},
   "source": [
    "Grab random genes and make sure this has decent cluster representation\n"
   ]
  },
  {
   "cell_type": "code",
   "execution_count": 103,
   "metadata": {
    "collapsed": true
   },
   "outputs": [],
   "source": [
    "# np.random.seed(2017)\n",
    "\n",
    "# n_cells = 200\n",
    "# random_cells = np.random.choice(x.index, size=n_cells, replace=False)\n",
    "\n",
    "# #  Perform the subset\n",
    "# table1_subset_cells = x.loc[random_cells, :]\n",
    "# print(table1_subset_cells.shape)\n",
    "# table1_subset_cells.groupby(cluster_identities).size()"
   ]
  },
  {
   "cell_type": "markdown",
   "metadata": {},
   "source": [
    "#### Just kidding... this gets too lopsided so we're going to take 50 cells from each cluster"
   ]
  },
  {
   "cell_type": "code",
   "execution_count": 112,
   "metadata": {},
   "outputs": [
    {
     "name": "stdout",
     "output_type": "stream",
     "text": [
      "(300, 20478)\n"
     ]
    },
    {
     "data": {
      "text/html": [
       "<div>\n",
       "<style>\n",
       "    .dataframe thead tr:only-child th {\n",
       "        text-align: right;\n",
       "    }\n",
       "\n",
       "    .dataframe thead th {\n",
       "        text-align: left;\n",
       "    }\n",
       "\n",
       "    .dataframe tbody tr th {\n",
       "        vertical-align: top;\n",
       "    }\n",
       "</style>\n",
       "<table border=\"1\" class=\"dataframe\">\n",
       "  <thead>\n",
       "    <tr style=\"text-align: right;\">\n",
       "      <th></th>\n",
       "      <th>KITL</th>\n",
       "      <th>TMTC3</th>\n",
       "      <th>CEP290</th>\n",
       "      <th>4930430F08RIK</th>\n",
       "      <th>1700017N19RIK</th>\n",
       "      <th>MGAT4C</th>\n",
       "      <th>RASSF9</th>\n",
       "      <th>LRRIQ1</th>\n",
       "      <th>ADGB</th>\n",
       "      <th>SLC6A15</th>\n",
       "      <th>...</th>\n",
       "      <th>EFNB1</th>\n",
       "      <th>PJA1</th>\n",
       "      <th>TMEM28</th>\n",
       "      <th>EDA</th>\n",
       "      <th>EIF2S3Y</th>\n",
       "      <th>GM20775</th>\n",
       "      <th>UTY</th>\n",
       "      <th>DDX3Y</th>\n",
       "      <th>KDM5D</th>\n",
       "      <th>N-R5S1</th>\n",
       "    </tr>\n",
       "    <tr>\n",
       "      <th>barcode</th>\n",
       "      <th></th>\n",
       "      <th></th>\n",
       "      <th></th>\n",
       "      <th></th>\n",
       "      <th></th>\n",
       "      <th></th>\n",
       "      <th></th>\n",
       "      <th></th>\n",
       "      <th></th>\n",
       "      <th></th>\n",
       "      <th></th>\n",
       "      <th></th>\n",
       "      <th></th>\n",
       "      <th></th>\n",
       "      <th></th>\n",
       "      <th></th>\n",
       "      <th></th>\n",
       "      <th></th>\n",
       "      <th></th>\n",
       "      <th></th>\n",
       "      <th></th>\n",
       "    </tr>\n",
       "  </thead>\n",
       "  <tbody>\n",
       "    <tr>\n",
       "      <th>r1_TTCCTGCTAGGC</th>\n",
       "      <td>0</td>\n",
       "      <td>3</td>\n",
       "      <td>0</td>\n",
       "      <td>0</td>\n",
       "      <td>0</td>\n",
       "      <td>0</td>\n",
       "      <td>0</td>\n",
       "      <td>0</td>\n",
       "      <td>0</td>\n",
       "      <td>0</td>\n",
       "      <td>...</td>\n",
       "      <td>0</td>\n",
       "      <td>0</td>\n",
       "      <td>0</td>\n",
       "      <td>0</td>\n",
       "      <td>0</td>\n",
       "      <td>0</td>\n",
       "      <td>0</td>\n",
       "      <td>0</td>\n",
       "      <td>0</td>\n",
       "      <td>0</td>\n",
       "    </tr>\n",
       "    <tr>\n",
       "      <th>r1_TGGAGATACTCT</th>\n",
       "      <td>0</td>\n",
       "      <td>0</td>\n",
       "      <td>0</td>\n",
       "      <td>0</td>\n",
       "      <td>0</td>\n",
       "      <td>0</td>\n",
       "      <td>0</td>\n",
       "      <td>0</td>\n",
       "      <td>0</td>\n",
       "      <td>0</td>\n",
       "      <td>...</td>\n",
       "      <td>0</td>\n",
       "      <td>0</td>\n",
       "      <td>0</td>\n",
       "      <td>0</td>\n",
       "      <td>0</td>\n",
       "      <td>0</td>\n",
       "      <td>0</td>\n",
       "      <td>0</td>\n",
       "      <td>0</td>\n",
       "      <td>0</td>\n",
       "    </tr>\n",
       "    <tr>\n",
       "      <th>r1_CGTCTACATCCG</th>\n",
       "      <td>0</td>\n",
       "      <td>0</td>\n",
       "      <td>0</td>\n",
       "      <td>0</td>\n",
       "      <td>0</td>\n",
       "      <td>0</td>\n",
       "      <td>0</td>\n",
       "      <td>0</td>\n",
       "      <td>0</td>\n",
       "      <td>0</td>\n",
       "      <td>...</td>\n",
       "      <td>0</td>\n",
       "      <td>0</td>\n",
       "      <td>0</td>\n",
       "      <td>0</td>\n",
       "      <td>0</td>\n",
       "      <td>0</td>\n",
       "      <td>0</td>\n",
       "      <td>0</td>\n",
       "      <td>0</td>\n",
       "      <td>0</td>\n",
       "    </tr>\n",
       "    <tr>\n",
       "      <th>r1_CAAGCTTGGCGC</th>\n",
       "      <td>0</td>\n",
       "      <td>0</td>\n",
       "      <td>3</td>\n",
       "      <td>0</td>\n",
       "      <td>0</td>\n",
       "      <td>0</td>\n",
       "      <td>0</td>\n",
       "      <td>0</td>\n",
       "      <td>0</td>\n",
       "      <td>0</td>\n",
       "      <td>...</td>\n",
       "      <td>0</td>\n",
       "      <td>0</td>\n",
       "      <td>0</td>\n",
       "      <td>0</td>\n",
       "      <td>0</td>\n",
       "      <td>0</td>\n",
       "      <td>0</td>\n",
       "      <td>0</td>\n",
       "      <td>0</td>\n",
       "      <td>0</td>\n",
       "    </tr>\n",
       "    <tr>\n",
       "      <th>r1_ACTCACATAGAG</th>\n",
       "      <td>0</td>\n",
       "      <td>0</td>\n",
       "      <td>1</td>\n",
       "      <td>0</td>\n",
       "      <td>0</td>\n",
       "      <td>0</td>\n",
       "      <td>0</td>\n",
       "      <td>0</td>\n",
       "      <td>0</td>\n",
       "      <td>0</td>\n",
       "      <td>...</td>\n",
       "      <td>0</td>\n",
       "      <td>0</td>\n",
       "      <td>0</td>\n",
       "      <td>0</td>\n",
       "      <td>0</td>\n",
       "      <td>0</td>\n",
       "      <td>0</td>\n",
       "      <td>0</td>\n",
       "      <td>0</td>\n",
       "      <td>0</td>\n",
       "    </tr>\n",
       "  </tbody>\n",
       "</table>\n",
       "<p>5 rows × 20478 columns</p>\n",
       "</div>"
      ],
      "text/plain": [
       "                 KITL  TMTC3  CEP290  4930430F08RIK  1700017N19RIK  MGAT4C  \\\n",
       "barcode                                                                      \n",
       "r1_TTCCTGCTAGGC     0      3       0              0              0       0   \n",
       "r1_TGGAGATACTCT     0      0       0              0              0       0   \n",
       "r1_CGTCTACATCCG     0      0       0              0              0       0   \n",
       "r1_CAAGCTTGGCGC     0      0       3              0              0       0   \n",
       "r1_ACTCACATAGAG     0      0       1              0              0       0   \n",
       "\n",
       "                 RASSF9  LRRIQ1  ADGB  SLC6A15   ...    EFNB1  PJA1  TMEM28  \\\n",
       "barcode                                          ...                          \n",
       "r1_TTCCTGCTAGGC       0       0     0        0   ...        0     0       0   \n",
       "r1_TGGAGATACTCT       0       0     0        0   ...        0     0       0   \n",
       "r1_CGTCTACATCCG       0       0     0        0   ...        0     0       0   \n",
       "r1_CAAGCTTGGCGC       0       0     0        0   ...        0     0       0   \n",
       "r1_ACTCACATAGAG       0       0     0        0   ...        0     0       0   \n",
       "\n",
       "                 EDA  EIF2S3Y  GM20775  UTY  DDX3Y  KDM5D  N-R5S1  \n",
       "barcode                                                            \n",
       "r1_TTCCTGCTAGGC    0        0        0    0      0      0       0  \n",
       "r1_TGGAGATACTCT    0        0        0    0      0      0       0  \n",
       "r1_CGTCTACATCCG    0        0        0    0      0      0       0  \n",
       "r1_CAAGCTTGGCGC    0        0        0    0      0      0       0  \n",
       "r1_ACTCACATAGAG    0        0        0    0      0      0       0  \n",
       "\n",
       "[5 rows x 20478 columns]"
      ]
     },
     "execution_count": 112,
     "metadata": {},
     "output_type": "execute_result"
    }
   ],
   "source": [
    "np.random.seed(2017)\n",
    "\n",
    "n_cells = 50\n",
    "table1_subset_cells = table1_big_clusters.groupby(\n",
    "    cluster_identities, as_index=False, group_keys=False).apply(\n",
    "        lambda x: x.loc[np.random.choice(x.index, size=n_cells, replace=False)])\n",
    "print(table1_subset_cells.shape)\n",
    "table1_subset_cells.head()"
   ]
  },
  {
   "cell_type": "markdown",
   "metadata": {},
   "source": [
    "## Subset genes by differential expression\n",
    "\n",
    "Use Supplementary table 4, which has the information of which genes were differentially expressed in different clusters"
   ]
  },
  {
   "cell_type": "code",
   "execution_count": 113,
   "metadata": {},
   "outputs": [
    {
     "name": "stdout",
     "output_type": "stream",
     "text": [
      "(4292, 5)\n"
     ]
    },
    {
     "data": {
      "text/html": [
       "<div>\n",
       "<style>\n",
       "    .dataframe thead tr:only-child th {\n",
       "        text-align: right;\n",
       "    }\n",
       "\n",
       "    .dataframe thead th {\n",
       "        text-align: left;\n",
       "    }\n",
       "\n",
       "    .dataframe tbody tr th {\n",
       "        vertical-align: top;\n",
       "    }\n",
       "</style>\n",
       "<table border=\"1\" class=\"dataframe\">\n",
       "  <thead>\n",
       "    <tr style=\"text-align: right;\">\n",
       "      <th></th>\n",
       "      <th>Unnamed: 0</th>\n",
       "      <th>myAUC</th>\n",
       "      <th>myDiff</th>\n",
       "      <th>power</th>\n",
       "      <th>cluster #</th>\n",
       "    </tr>\n",
       "  </thead>\n",
       "  <tbody>\n",
       "    <tr>\n",
       "      <th>0</th>\n",
       "      <td>CALB1</td>\n",
       "      <td>0.966</td>\n",
       "      <td>3.615047</td>\n",
       "      <td>0.466</td>\n",
       "      <td>1</td>\n",
       "    </tr>\n",
       "    <tr>\n",
       "      <th>1</th>\n",
       "      <td>SLC4A3</td>\n",
       "      <td>0.963</td>\n",
       "      <td>3.448571</td>\n",
       "      <td>0.463</td>\n",
       "      <td>1</td>\n",
       "    </tr>\n",
       "    <tr>\n",
       "      <th>2</th>\n",
       "      <td>TPM3</td>\n",
       "      <td>0.965</td>\n",
       "      <td>3.151521</td>\n",
       "      <td>0.465</td>\n",
       "      <td>1</td>\n",
       "    </tr>\n",
       "    <tr>\n",
       "      <th>3</th>\n",
       "      <td>SEPT4</td>\n",
       "      <td>0.964</td>\n",
       "      <td>2.939258</td>\n",
       "      <td>0.464</td>\n",
       "      <td>1</td>\n",
       "    </tr>\n",
       "    <tr>\n",
       "      <th>4</th>\n",
       "      <td>VIM</td>\n",
       "      <td>0.944</td>\n",
       "      <td>2.937992</td>\n",
       "      <td>0.444</td>\n",
       "      <td>1</td>\n",
       "    </tr>\n",
       "  </tbody>\n",
       "</table>\n",
       "</div>"
      ],
      "text/plain": [
       "  Unnamed: 0  myAUC    myDiff  power cluster #\n",
       "0      CALB1  0.966  3.615047  0.466         1\n",
       "1     SLC4A3  0.963  3.448571  0.463         1\n",
       "2       TPM3  0.965  3.151521  0.465         1\n",
       "3      SEPT4  0.964  2.939258  0.464         1\n",
       "4        VIM  0.944  2.937992  0.444         1"
      ]
     },
     "execution_count": 113,
     "metadata": {},
     "output_type": "execute_result"
    }
   ],
   "source": [
    "cluster_markers = pd.read_excel('macosko2015/mmc4.xlsx', \n",
    "                                sheetname='FINAL_MARKERS_FOR_EACH_CLUSTER.',\n",
    "                                skiprows=3)\n",
    "print(cluster_markers.shape)\n",
    "cluster_markers.head()"
   ]
  },
  {
   "cell_type": "code",
   "execution_count": 114,
   "metadata": {},
   "outputs": [
    {
     "data": {
      "text/plain": [
       "Unnamed: 0    object\n",
       "myAUC         object\n",
       "myDiff        object\n",
       "power         object\n",
       "cluster #     object\n",
       "dtype: object"
      ]
     },
     "execution_count": 114,
     "metadata": {},
     "output_type": "execute_result"
    }
   ],
   "source": [
    "cluster_markers.dtypes"
   ]
  },
  {
   "cell_type": "code",
   "execution_count": 115,
   "metadata": {},
   "outputs": [
    {
     "data": {
      "text/html": [
       "<div>\n",
       "<style>\n",
       "    .dataframe thead tr:only-child th {\n",
       "        text-align: right;\n",
       "    }\n",
       "\n",
       "    .dataframe thead th {\n",
       "        text-align: left;\n",
       "    }\n",
       "\n",
       "    .dataframe tbody tr th {\n",
       "        vertical-align: top;\n",
       "    }\n",
       "</style>\n",
       "<table border=\"1\" class=\"dataframe\">\n",
       "  <thead>\n",
       "    <tr style=\"text-align: right;\">\n",
       "      <th></th>\n",
       "      <th>Unnamed: 0</th>\n",
       "      <th>myAUC</th>\n",
       "      <th>myDiff</th>\n",
       "      <th>power</th>\n",
       "      <th>cluster #</th>\n",
       "    </tr>\n",
       "  </thead>\n",
       "  <tbody>\n",
       "    <tr>\n",
       "      <th>4287</th>\n",
       "      <td>PDC</td>\n",
       "      <td>0.163</td>\n",
       "      <td>-2.033191</td>\n",
       "      <td>0.337</td>\n",
       "      <td>39</td>\n",
       "    </tr>\n",
       "    <tr>\n",
       "      <th>4288</th>\n",
       "      <td>PDE6B</td>\n",
       "      <td>0.205</td>\n",
       "      <td>-2.102541</td>\n",
       "      <td>0.295</td>\n",
       "      <td>39</td>\n",
       "    </tr>\n",
       "    <tr>\n",
       "      <th>4289</th>\n",
       "      <td>RPGRIP1</td>\n",
       "      <td>0.221</td>\n",
       "      <td>-2.105338</td>\n",
       "      <td>0.279</td>\n",
       "      <td>39</td>\n",
       "    </tr>\n",
       "    <tr>\n",
       "      <th>4290</th>\n",
       "      <td>SAG</td>\n",
       "      <td>0.154</td>\n",
       "      <td>-2.197799</td>\n",
       "      <td>0.346</td>\n",
       "      <td>39</td>\n",
       "    </tr>\n",
       "    <tr>\n",
       "      <th>4291</th>\n",
       "      <td>RP1</td>\n",
       "      <td>0.197</td>\n",
       "      <td>-2.359118</td>\n",
       "      <td>0.303</td>\n",
       "      <td>39</td>\n",
       "    </tr>\n",
       "  </tbody>\n",
       "</table>\n",
       "</div>"
      ],
      "text/plain": [
       "     Unnamed: 0  myAUC     myDiff  power cluster #\n",
       "4287        PDC  0.163  -2.033191  0.337        39\n",
       "4288      PDE6B  0.205  -2.102541  0.295        39\n",
       "4289    RPGRIP1  0.221  -2.105338  0.279        39\n",
       "4290        SAG  0.154  -2.197799  0.346        39\n",
       "4291        RP1  0.197  -2.359118  0.303        39"
      ]
     },
     "execution_count": 115,
     "metadata": {},
     "output_type": "execute_result"
    }
   ],
   "source": [
    "cluster_markers.tail()"
   ]
  },
  {
   "cell_type": "code",
   "execution_count": 116,
   "metadata": {},
   "outputs": [
    {
     "name": "stdout",
     "output_type": "stream",
     "text": [
      "(4148, 5)\n"
     ]
    },
    {
     "data": {
      "text/html": [
       "<div>\n",
       "<style>\n",
       "    .dataframe thead tr:only-child th {\n",
       "        text-align: right;\n",
       "    }\n",
       "\n",
       "    .dataframe thead th {\n",
       "        text-align: left;\n",
       "    }\n",
       "\n",
       "    .dataframe tbody tr th {\n",
       "        vertical-align: top;\n",
       "    }\n",
       "</style>\n",
       "<table border=\"1\" class=\"dataframe\">\n",
       "  <thead>\n",
       "    <tr style=\"text-align: right;\">\n",
       "      <th></th>\n",
       "      <th>Unnamed: 0</th>\n",
       "      <th>myAUC</th>\n",
       "      <th>myDiff</th>\n",
       "      <th>power</th>\n",
       "      <th>cluster #</th>\n",
       "    </tr>\n",
       "  </thead>\n",
       "  <tbody>\n",
       "    <tr>\n",
       "      <th>4287</th>\n",
       "      <td>PDC</td>\n",
       "      <td>0.163</td>\n",
       "      <td>-2.033191</td>\n",
       "      <td>0.337</td>\n",
       "      <td>39</td>\n",
       "    </tr>\n",
       "    <tr>\n",
       "      <th>4288</th>\n",
       "      <td>PDE6B</td>\n",
       "      <td>0.205</td>\n",
       "      <td>-2.102541</td>\n",
       "      <td>0.295</td>\n",
       "      <td>39</td>\n",
       "    </tr>\n",
       "    <tr>\n",
       "      <th>4289</th>\n",
       "      <td>RPGRIP1</td>\n",
       "      <td>0.221</td>\n",
       "      <td>-2.105338</td>\n",
       "      <td>0.279</td>\n",
       "      <td>39</td>\n",
       "    </tr>\n",
       "    <tr>\n",
       "      <th>4290</th>\n",
       "      <td>SAG</td>\n",
       "      <td>0.154</td>\n",
       "      <td>-2.197799</td>\n",
       "      <td>0.346</td>\n",
       "      <td>39</td>\n",
       "    </tr>\n",
       "    <tr>\n",
       "      <th>4291</th>\n",
       "      <td>RP1</td>\n",
       "      <td>0.197</td>\n",
       "      <td>-2.359118</td>\n",
       "      <td>0.303</td>\n",
       "      <td>39</td>\n",
       "    </tr>\n",
       "  </tbody>\n",
       "</table>\n",
       "</div>"
      ],
      "text/plain": [
       "     Unnamed: 0  myAUC     myDiff  power cluster #\n",
       "4287        PDC  0.163  -2.033191  0.337        39\n",
       "4288      PDE6B  0.205  -2.102541  0.295        39\n",
       "4289    RPGRIP1  0.221  -2.105338  0.279        39\n",
       "4290        SAG  0.154  -2.197799  0.346        39\n",
       "4291        RP1  0.197  -2.359118  0.303        39"
      ]
     },
     "execution_count": 116,
     "metadata": {},
     "output_type": "execute_result"
    }
   ],
   "source": [
    "cluster_markers = cluster_markers.dropna()\n",
    "print(cluster_markers.shape)\n",
    "cluster_markers.tail()"
   ]
  },
  {
   "cell_type": "code",
   "execution_count": 117,
   "metadata": {},
   "outputs": [
    {
     "data": {
      "text/plain": [
       "dtype('int64')"
      ]
     },
     "execution_count": 117,
     "metadata": {},
     "output_type": "execute_result"
    }
   ],
   "source": [
    "big_clusters.index.values.dtype"
   ]
  },
  {
   "cell_type": "code",
   "execution_count": 118,
   "metadata": {},
   "outputs": [
    {
     "data": {
      "text/plain": [
       "cluster #\n",
       "1         190\n",
       "10        120\n",
       "11        111\n",
       "12         68\n",
       "13        163\n",
       "14        127\n",
       "15         69\n",
       "16         97\n",
       "17         99\n",
       "18         75\n",
       "18 D3       1\n",
       "19        115\n",
       "2         174\n",
       "22         51\n",
       "23         67\n",
       "25         14\n",
       "26         87\n",
       "28         48\n",
       "29         39\n",
       "3         179\n",
       "3    A      1\n",
       "3    C      1\n",
       "3    F      1\n",
       "3    G      4\n",
       "3    H      1\n",
       "3    L      2\n",
       "3    N      2\n",
       "3    P      5\n",
       "3    R      1\n",
       "3    T      2\n",
       "         ... \n",
       "R          11\n",
       "RAB         1\n",
       "RCV         4\n",
       "RO          4\n",
       "RPGRI       3\n",
       "RRB         1\n",
       "RT          1\n",
       "S           4\n",
       "SAMS        2\n",
       "SC          2\n",
       "SLC24       4\n",
       "SN          1\n",
       "SO          1\n",
       "SPHK        3\n",
       "ST          1\n",
       "SUL         1\n",
       "SY          2\n",
       "TC          3\n",
       "THSD        1\n",
       "TMEM2       1\n",
       "TT          2\n",
       "TUBB        1\n",
       "TUL         4\n",
       "UNC1        2\n",
       "VIP         1\n",
       "VS          1\n",
       "ZFP80       2\n",
       "ge          4\n",
       "t           3\n",
       "ust         1\n",
       "Length: 190, dtype: int64"
      ]
     },
     "execution_count": 118,
     "metadata": {},
     "output_type": "execute_result"
    }
   ],
   "source": [
    "cluster_markers.groupby('cluster #').size()"
   ]
  },
  {
   "cell_type": "markdown",
   "metadata": {},
   "source": [
    "Okay this file is corrupted..... have to go in and manually change the file so the cluster numbers are in the right column"
   ]
  },
  {
   "cell_type": "markdown",
   "metadata": {},
   "source": [
    "### Use manually created file"
   ]
  },
  {
   "cell_type": "code",
   "execution_count": 119,
   "metadata": {},
   "outputs": [
    {
     "name": "stdout",
     "output_type": "stream",
     "text": [
      "(4292, 5)\n",
      "(3994, 5)\n"
     ]
    },
    {
     "data": {
      "text/html": [
       "<div>\n",
       "<style>\n",
       "    .dataframe thead tr:only-child th {\n",
       "        text-align: right;\n",
       "    }\n",
       "\n",
       "    .dataframe thead th {\n",
       "        text-align: left;\n",
       "    }\n",
       "\n",
       "    .dataframe tbody tr th {\n",
       "        vertical-align: top;\n",
       "    }\n",
       "</style>\n",
       "<table border=\"1\" class=\"dataframe\">\n",
       "  <thead>\n",
       "    <tr style=\"text-align: right;\">\n",
       "      <th></th>\n",
       "      <th>gene_symbol</th>\n",
       "      <th>myAUC</th>\n",
       "      <th>myDiff</th>\n",
       "      <th>power</th>\n",
       "      <th>cluster #</th>\n",
       "    </tr>\n",
       "  </thead>\n",
       "  <tbody>\n",
       "    <tr>\n",
       "      <th>0</th>\n",
       "      <td>CALB1</td>\n",
       "      <td>0.966</td>\n",
       "      <td>3.615047</td>\n",
       "      <td>0.466</td>\n",
       "      <td>1</td>\n",
       "    </tr>\n",
       "    <tr>\n",
       "      <th>1</th>\n",
       "      <td>SLC4A3</td>\n",
       "      <td>0.963</td>\n",
       "      <td>3.448571</td>\n",
       "      <td>0.463</td>\n",
       "      <td>1</td>\n",
       "    </tr>\n",
       "    <tr>\n",
       "      <th>2</th>\n",
       "      <td>TPM3</td>\n",
       "      <td>0.965</td>\n",
       "      <td>3.151521</td>\n",
       "      <td>0.465</td>\n",
       "      <td>1</td>\n",
       "    </tr>\n",
       "    <tr>\n",
       "      <th>3</th>\n",
       "      <td>SEPT4</td>\n",
       "      <td>0.964</td>\n",
       "      <td>2.939258</td>\n",
       "      <td>0.464</td>\n",
       "      <td>1</td>\n",
       "    </tr>\n",
       "    <tr>\n",
       "      <th>4</th>\n",
       "      <td>VIM</td>\n",
       "      <td>0.944</td>\n",
       "      <td>2.937992</td>\n",
       "      <td>0.444</td>\n",
       "      <td>1</td>\n",
       "    </tr>\n",
       "  </tbody>\n",
       "</table>\n",
       "</div>"
      ],
      "text/plain": [
       "  gene_symbol  myAUC    myDiff  power  cluster #\n",
       "0       CALB1  0.966  3.615047  0.466          1\n",
       "1      SLC4A3  0.963  3.448571  0.463          1\n",
       "2        TPM3  0.965  3.151521  0.465          1\n",
       "3       SEPT4  0.964  2.939258  0.464          1\n",
       "4         VIM  0.944  2.937992  0.444          1"
      ]
     },
     "execution_count": 119,
     "metadata": {},
     "output_type": "execute_result"
    }
   ],
   "source": [
    "cluster_markers = pd.read_excel('macosko2015/mmc4_v2.xlsx', skiprows=3)\n",
    "cluster_markers = cluster_markers.rename(columns={\"Unnamed: 0\": 'gene_symbol'})\n",
    "\n",
    "# Remove any rows with NA because those are all header rows\n",
    "print(cluster_markers.shape)\n",
    "cluster_markers = cluster_markers.dropna()\n",
    "print(cluster_markers.shape)\n",
    "cluster_markers['cluster #'] = cluster_markers['cluster #'].astype(int)\n",
    "cluster_markers.head()"
   ]
  },
  {
   "cell_type": "code",
   "execution_count": 120,
   "metadata": {},
   "outputs": [
    {
     "data": {
      "text/plain": [
       "gene_symbol    object\n",
       "myAUC          object\n",
       "myDiff         object\n",
       "power          object\n",
       "cluster #       int64\n",
       "dtype: object"
      ]
     },
     "execution_count": 120,
     "metadata": {},
     "output_type": "execute_result"
    }
   ],
   "source": [
    "cluster_markers.dtypes"
   ]
  },
  {
   "cell_type": "code",
   "execution_count": 1,
   "metadata": {},
   "outputs": [
    {
     "ename": "NameError",
     "evalue": "name 'cluster_markers' is not defined",
     "output_type": "error",
     "traceback": [
      "\u001b[0;31m---------------------------------------------------------------------------\u001b[0m",
      "\u001b[0;31mNameError\u001b[0m                                 Traceback (most recent call last)",
      "\u001b[0;32m<ipython-input-1-8ebc328bd3fd>\u001b[0m in \u001b[0;36m<module>\u001b[0;34m()\u001b[0m\n\u001b[0;32m----> 1\u001b[0;31m \u001b[0mcluster_markers\u001b[0m\u001b[0;34m.\u001b[0m\u001b[0mgroupby\u001b[0m\u001b[0;34m(\u001b[0m\u001b[0;34m'cluster #'\u001b[0m\u001b[0;34m)\u001b[0m\u001b[0;34m.\u001b[0m\u001b[0msize\u001b[0m\u001b[0;34m(\u001b[0m\u001b[0;34m)\u001b[0m\u001b[0;34m\u001b[0m\u001b[0m\n\u001b[0m",
      "\u001b[0;31mNameError\u001b[0m: name 'cluster_markers' is not defined"
     ]
    }
   ],
   "source": [
    "cluster_markers.groupby('cluster #').size()"
   ]
  },
  {
   "cell_type": "code",
   "execution_count": null,
   "metadata": {
    "collapsed": true
   },
   "outputs": [],
   "source": [
    "table1.groupby()"
   ]
  },
  {
   "cell_type": "markdown",
   "metadata": {},
   "source": [
    "\n",
    "### Still have to clean the gene symbols because the AUC ended up in some of them\n",
    "\n",
    "There should be fewer unique genes so let's check how many we have now"
   ]
  },
  {
   "cell_type": "code",
   "execution_count": 122,
   "metadata": {},
   "outputs": [
    {
     "data": {
      "text/plain": [
       "1574"
      ]
     },
     "execution_count": 122,
     "metadata": {},
     "output_type": "execute_result"
    }
   ],
   "source": [
    "len(cluster_markers['gene_symbol'].unique())"
   ]
  },
  {
   "cell_type": "code",
   "execution_count": 123,
   "metadata": {},
   "outputs": [
    {
     "data": {
      "text/plain": [
       "1331"
      ]
     },
     "execution_count": 123,
     "metadata": {},
     "output_type": "execute_result"
    }
   ],
   "source": [
    "cleaned_symbols = cluster_markers['gene_symbol'].str.split().str[0]\n",
    "len(cleaned_symbols.unique())"
   ]
  },
  {
   "cell_type": "markdown",
   "metadata": {},
   "source": [
    "Assign the symbols to the column"
   ]
  },
  {
   "cell_type": "code",
   "execution_count": 124,
   "metadata": {
    "collapsed": true
   },
   "outputs": [],
   "source": [
    "cluster_markers['gene_symbol'] = cleaned_symbols"
   ]
  },
  {
   "cell_type": "markdown",
   "metadata": {},
   "source": [
    "### Save to a csv"
   ]
  },
  {
   "cell_type": "code",
   "execution_count": 125,
   "metadata": {
    "collapsed": true
   },
   "outputs": [],
   "source": [
    "cluster_markers.to_csv(os.path.join(data_folder, 'cluster_markers_v2.csv'))"
   ]
  },
  {
   "cell_type": "markdown",
   "metadata": {},
   "source": [
    "### Use only genes found in the clusters with lots of cells (\"big clusters\")"
   ]
  },
  {
   "cell_type": "code",
   "execution_count": 126,
   "metadata": {},
   "outputs": [
    {
     "name": "stdout",
     "output_type": "stream",
     "text": [
      "371\n",
      "(371, 5)\n"
     ]
    },
    {
     "data": {
      "text/html": [
       "<div>\n",
       "<style>\n",
       "    .dataframe thead tr:only-child th {\n",
       "        text-align: right;\n",
       "    }\n",
       "\n",
       "    .dataframe thead th {\n",
       "        text-align: left;\n",
       "    }\n",
       "\n",
       "    .dataframe tbody tr th {\n",
       "        vertical-align: top;\n",
       "    }\n",
       "</style>\n",
       "<table border=\"1\" class=\"dataframe\">\n",
       "  <thead>\n",
       "    <tr style=\"text-align: right;\">\n",
       "      <th></th>\n",
       "      <th>gene_symbol</th>\n",
       "      <th>myAUC</th>\n",
       "      <th>myDiff</th>\n",
       "      <th>power</th>\n",
       "      <th>cluster #</th>\n",
       "    </tr>\n",
       "  </thead>\n",
       "  <tbody>\n",
       "    <tr>\n",
       "      <th>2722</th>\n",
       "      <td>RHO</td>\n",
       "      <td>1.8</td>\n",
       "      <td>57266 0.44</td>\n",
       "      <td>5    2</td>\n",
       "      <td>24</td>\n",
       "    </tr>\n",
       "    <tr>\n",
       "      <th>2723</th>\n",
       "      <td>GNAT1</td>\n",
       "      <td>1.7</td>\n",
       "      <td>80155 0.38</td>\n",
       "      <td>9    2</td>\n",
       "      <td>24</td>\n",
       "    </tr>\n",
       "    <tr>\n",
       "      <th>2724</th>\n",
       "      <td>SLC24A1</td>\n",
       "      <td>1.7</td>\n",
       "      <td>43717 0.30</td>\n",
       "      <td>2    2</td>\n",
       "      <td>24</td>\n",
       "    </tr>\n",
       "    <tr>\n",
       "      <th>2725</th>\n",
       "      <td>PDE6B</td>\n",
       "      <td>1.7</td>\n",
       "      <td>43134 0.35</td>\n",
       "      <td>5    2</td>\n",
       "      <td>24</td>\n",
       "    </tr>\n",
       "    <tr>\n",
       "      <th>2726</th>\n",
       "      <td>PDC</td>\n",
       "      <td>1.7</td>\n",
       "      <td>00660 0.41</td>\n",
       "      <td>9    2</td>\n",
       "      <td>24</td>\n",
       "    </tr>\n",
       "  </tbody>\n",
       "</table>\n",
       "</div>"
      ],
      "text/plain": [
       "     gene_symbol myAUC      myDiff   power  cluster #\n",
       "2722         RHO   1.8  57266 0.44  5    2         24\n",
       "2723       GNAT1   1.7  80155 0.38  9    2         24\n",
       "2724     SLC24A1   1.7  43717 0.30  2    2         24\n",
       "2725       PDE6B   1.7  43134 0.35  5    2         24\n",
       "2726         PDC   1.7  00660 0.41  9    2         24"
      ]
     },
     "execution_count": 126,
     "metadata": {},
     "output_type": "execute_result"
    }
   ],
   "source": [
    "rows = cluster_markers['cluster #'].isin(big_clusters.index.values)\n",
    "print(rows.sum())\n",
    "cluster_markers_big_clusters = cluster_markers.loc[rows]\n",
    "print(cluster_markers_big_clusters.shape)\n",
    "cluster_markers_big_clusters.head()"
   ]
  },
  {
   "cell_type": "code",
   "execution_count": 127,
   "metadata": {},
   "outputs": [
    {
     "data": {
      "text/plain": [
       "259"
      ]
     },
     "execution_count": 127,
     "metadata": {},
     "output_type": "execute_result"
    }
   ],
   "source": [
    "gene_subset = cluster_markers_big_clusters['gene_symbol'].unique()\n",
    "len(gene_subset)"
   ]
  },
  {
   "cell_type": "markdown",
   "metadata": {},
   "source": [
    "### Perform the subset"
   ]
  },
  {
   "cell_type": "code",
   "execution_count": 128,
   "metadata": {},
   "outputs": [
    {
     "name": "stdout",
     "output_type": "stream",
     "text": [
      "(300, 259)\n"
     ]
    },
    {
     "data": {
      "text/html": [
       "<div>\n",
       "<style>\n",
       "    .dataframe thead tr:only-child th {\n",
       "        text-align: right;\n",
       "    }\n",
       "\n",
       "    .dataframe thead th {\n",
       "        text-align: left;\n",
       "    }\n",
       "\n",
       "    .dataframe tbody tr th {\n",
       "        vertical-align: top;\n",
       "    }\n",
       "</style>\n",
       "<table border=\"1\" class=\"dataframe\">\n",
       "  <thead>\n",
       "    <tr style=\"text-align: right;\">\n",
       "      <th></th>\n",
       "      <th>RHO</th>\n",
       "      <th>GNAT1</th>\n",
       "      <th>SLC24A1</th>\n",
       "      <th>PDE6B</th>\n",
       "      <th>PDC</th>\n",
       "      <th>CNGA1</th>\n",
       "      <th>RP1</th>\n",
       "      <th>SAG</th>\n",
       "      <th>NR2E3</th>\n",
       "      <th>NRL</th>\n",
       "      <th>...</th>\n",
       "      <th>SLC6A6</th>\n",
       "      <th>MAP1B</th>\n",
       "      <th>TMA7</th>\n",
       "      <th>STX3</th>\n",
       "      <th>SYT1</th>\n",
       "      <th>CRX</th>\n",
       "      <th>SNAP25</th>\n",
       "      <th>MPP4</th>\n",
       "      <th>NEUROD1</th>\n",
       "      <th>A930011O12RIK</th>\n",
       "    </tr>\n",
       "    <tr>\n",
       "      <th>barcode</th>\n",
       "      <th></th>\n",
       "      <th></th>\n",
       "      <th></th>\n",
       "      <th></th>\n",
       "      <th></th>\n",
       "      <th></th>\n",
       "      <th></th>\n",
       "      <th></th>\n",
       "      <th></th>\n",
       "      <th></th>\n",
       "      <th></th>\n",
       "      <th></th>\n",
       "      <th></th>\n",
       "      <th></th>\n",
       "      <th></th>\n",
       "      <th></th>\n",
       "      <th></th>\n",
       "      <th></th>\n",
       "      <th></th>\n",
       "      <th></th>\n",
       "      <th></th>\n",
       "    </tr>\n",
       "  </thead>\n",
       "  <tbody>\n",
       "    <tr>\n",
       "      <th>r1_TTCCTGCTAGGC</th>\n",
       "      <td>14</td>\n",
       "      <td>3</td>\n",
       "      <td>1</td>\n",
       "      <td>3</td>\n",
       "      <td>12</td>\n",
       "      <td>0</td>\n",
       "      <td>1</td>\n",
       "      <td>7</td>\n",
       "      <td>2</td>\n",
       "      <td>2</td>\n",
       "      <td>...</td>\n",
       "      <td>1</td>\n",
       "      <td>1</td>\n",
       "      <td>2</td>\n",
       "      <td>0</td>\n",
       "      <td>0</td>\n",
       "      <td>0</td>\n",
       "      <td>0</td>\n",
       "      <td>1</td>\n",
       "      <td>0</td>\n",
       "      <td>0</td>\n",
       "    </tr>\n",
       "    <tr>\n",
       "      <th>r1_TGGAGATACTCT</th>\n",
       "      <td>23</td>\n",
       "      <td>8</td>\n",
       "      <td>6</td>\n",
       "      <td>4</td>\n",
       "      <td>13</td>\n",
       "      <td>9</td>\n",
       "      <td>2</td>\n",
       "      <td>19</td>\n",
       "      <td>1</td>\n",
       "      <td>1</td>\n",
       "      <td>...</td>\n",
       "      <td>3</td>\n",
       "      <td>0</td>\n",
       "      <td>2</td>\n",
       "      <td>1</td>\n",
       "      <td>0</td>\n",
       "      <td>1</td>\n",
       "      <td>0</td>\n",
       "      <td>2</td>\n",
       "      <td>0</td>\n",
       "      <td>1</td>\n",
       "    </tr>\n",
       "    <tr>\n",
       "      <th>r1_CGTCTACATCCG</th>\n",
       "      <td>14</td>\n",
       "      <td>4</td>\n",
       "      <td>7</td>\n",
       "      <td>1</td>\n",
       "      <td>6</td>\n",
       "      <td>3</td>\n",
       "      <td>0</td>\n",
       "      <td>13</td>\n",
       "      <td>2</td>\n",
       "      <td>2</td>\n",
       "      <td>...</td>\n",
       "      <td>0</td>\n",
       "      <td>1</td>\n",
       "      <td>0</td>\n",
       "      <td>3</td>\n",
       "      <td>0</td>\n",
       "      <td>1</td>\n",
       "      <td>0</td>\n",
       "      <td>2</td>\n",
       "      <td>0</td>\n",
       "      <td>0</td>\n",
       "    </tr>\n",
       "    <tr>\n",
       "      <th>r1_CAAGCTTGGCGC</th>\n",
       "      <td>62</td>\n",
       "      <td>18</td>\n",
       "      <td>10</td>\n",
       "      <td>20</td>\n",
       "      <td>29</td>\n",
       "      <td>2</td>\n",
       "      <td>8</td>\n",
       "      <td>31</td>\n",
       "      <td>9</td>\n",
       "      <td>2</td>\n",
       "      <td>...</td>\n",
       "      <td>0</td>\n",
       "      <td>5</td>\n",
       "      <td>7</td>\n",
       "      <td>3</td>\n",
       "      <td>2</td>\n",
       "      <td>6</td>\n",
       "      <td>2</td>\n",
       "      <td>3</td>\n",
       "      <td>7</td>\n",
       "      <td>11</td>\n",
       "    </tr>\n",
       "    <tr>\n",
       "      <th>r1_ACTCACATAGAG</th>\n",
       "      <td>10</td>\n",
       "      <td>1</td>\n",
       "      <td>0</td>\n",
       "      <td>1</td>\n",
       "      <td>5</td>\n",
       "      <td>2</td>\n",
       "      <td>1</td>\n",
       "      <td>7</td>\n",
       "      <td>3</td>\n",
       "      <td>1</td>\n",
       "      <td>...</td>\n",
       "      <td>1</td>\n",
       "      <td>1</td>\n",
       "      <td>2</td>\n",
       "      <td>3</td>\n",
       "      <td>1</td>\n",
       "      <td>2</td>\n",
       "      <td>1</td>\n",
       "      <td>0</td>\n",
       "      <td>3</td>\n",
       "      <td>0</td>\n",
       "    </tr>\n",
       "  </tbody>\n",
       "</table>\n",
       "<p>5 rows × 259 columns</p>\n",
       "</div>"
      ],
      "text/plain": [
       "                 RHO  GNAT1  SLC24A1  PDE6B  PDC  CNGA1  RP1  SAG  NR2E3  NRL  \\\n",
       "barcode                                                                         \n",
       "r1_TTCCTGCTAGGC   14      3        1      3   12      0    1    7      2    2   \n",
       "r1_TGGAGATACTCT   23      8        6      4   13      9    2   19      1    1   \n",
       "r1_CGTCTACATCCG   14      4        7      1    6      3    0   13      2    2   \n",
       "r1_CAAGCTTGGCGC   62     18       10     20   29      2    8   31      9    2   \n",
       "r1_ACTCACATAGAG   10      1        0      1    5      2    1    7      3    1   \n",
       "\n",
       "                     ...        SLC6A6  MAP1B  TMA7  STX3  SYT1  CRX  SNAP25  \\\n",
       "barcode              ...                                                       \n",
       "r1_TTCCTGCTAGGC      ...             1      1     2     0     0    0       0   \n",
       "r1_TGGAGATACTCT      ...             3      0     2     1     0    1       0   \n",
       "r1_CGTCTACATCCG      ...             0      1     0     3     0    1       0   \n",
       "r1_CAAGCTTGGCGC      ...             0      5     7     3     2    6       2   \n",
       "r1_ACTCACATAGAG      ...             1      1     2     3     1    2       1   \n",
       "\n",
       "                 MPP4  NEUROD1  A930011O12RIK  \n",
       "barcode                                        \n",
       "r1_TTCCTGCTAGGC     1        0              0  \n",
       "r1_TGGAGATACTCT     2        0              1  \n",
       "r1_CGTCTACATCCG     2        0              0  \n",
       "r1_CAAGCTTGGCGC     3        7             11  \n",
       "r1_ACTCACATAGAG     0        3              0  \n",
       "\n",
       "[5 rows x 259 columns]"
      ]
     },
     "execution_count": 128,
     "metadata": {},
     "output_type": "execute_result"
    }
   ],
   "source": [
    "table1_subset_cells_genes = table1_subset_cells.loc[:, gene_subset]\n",
    "print(table1_subset_cells_genes.shape)\n",
    "table1_subset_cells_genes.head()"
   ]
  },
  {
   "cell_type": "code",
   "execution_count": 129,
   "metadata": {
    "collapsed": true
   },
   "outputs": [],
   "source": [
    "table1_subset_cells_genes.to_csv(\n",
    "    os.path.join(data_folder, 'expression_table1_subset.csv'))"
   ]
  },
  {
   "cell_type": "code",
   "execution_count": 2,
   "metadata": {},
   "outputs": [
    {
     "ename": "NameError",
     "evalue": "name 'table2' is not defined",
     "output_type": "error",
     "traceback": [
      "\u001b[0;31m---------------------------------------------------------------------------\u001b[0m",
      "\u001b[0;31mNameError\u001b[0m                                 Traceback (most recent call last)",
      "\u001b[0;32m<ipython-input-2-e095c1d5fdab>\u001b[0m in \u001b[0;36m<module>\u001b[0;34m()\u001b[0m\n\u001b[0;32m----> 1\u001b[0;31m \u001b[0mtable2\u001b[0m\u001b[0;34m\u001b[0m\u001b[0m\n\u001b[0m",
      "\u001b[0;31mNameError\u001b[0m: name 'table2' is not defined"
     ]
    }
   ],
   "source": []
  },
  {
   "cell_type": "code",
   "execution_count": null,
   "metadata": {
    "collapsed": true
   },
   "outputs": [],
   "source": []
  }
 ],
 "metadata": {
  "kernelspec": {
   "display_name": "Python 3 (cshl-sca-2017)",
   "language": "python",
   "name": "cshl-sca-2017"
  },
  "language_info": {
   "codemirror_mode": {
    "name": "ipython",
    "version": 3
   },
   "file_extension": ".py",
   "mimetype": "text/x-python",
   "name": "python",
   "nbconvert_exporter": "python",
   "pygments_lexer": "ipython3",
   "version": "3.6.1"
  }
 },
 "nbformat": 4,
 "nbformat_minor": 2
}
